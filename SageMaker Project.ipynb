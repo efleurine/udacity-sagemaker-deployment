{
 "cells": [
  {
   "cell_type": "markdown",
   "metadata": {},
   "source": [
    "# Creating a Sentiment Analysis Web App\n",
    "## Using PyTorch and SageMaker\n",
    "\n",
    "_Deep Learning Nanodegree Program | Deployment_\n",
    "\n",
    "---\n",
    "\n",
    "Now that we have a basic understanding of how SageMaker works we will try to use it to construct a complete project from end to end. Our goal will be to have a simple web page which a user can use to enter a movie review. The web page will then send the review off to our deployed model which will predict the sentiment of the entered review.\n",
    "\n",
    "## Instructions\n",
    "\n",
    "Some template code has already been provided for you, and you will need to implement additional functionality to successfully complete this notebook. You will not need to modify the included code beyond what is requested. Sections that begin with '**TODO**' in the header indicate that you need to complete or implement some portion within them. Instructions will be provided for each section and the specifics of the implementation are marked in the code block with a `# TODO: ...` comment. Please be sure to read the instructions carefully!\n",
    "\n",
    "In addition to implementing code, there will be questions for you to answer which relate to the task and your implementation. Each section where you will answer a question is preceded by a '**Question:**' header. Carefully read each question and provide your answer below the '**Answer:**' header by editing the Markdown cell.\n",
    "\n",
    "> **Note**: Code and Markdown cells can be executed using the **Shift+Enter** keyboard shortcut. In addition, a cell can be edited by typically clicking it (double-click for Markdown cells) or by pressing **Enter** while it is highlighted.\n",
    "\n",
    "## General Outline\n",
    "\n",
    "Recall the general outline for SageMaker projects using a notebook instance.\n",
    "\n",
    "1. Download or otherwise retrieve the data.\n",
    "2. Process / Prepare the data.\n",
    "3. Upload the processed data to S3.\n",
    "4. Train a chosen model.\n",
    "5. Test the trained model (typically using a batch transform job).\n",
    "6. Deploy the trained model.\n",
    "7. Use the deployed model.\n",
    "\n",
    "For this project, you will be following the steps in the general outline with some modifications. \n",
    "\n",
    "First, you will not be testing the model in its own step. You will still be testing the model, however, you will do it by deploying your model and then using the deployed model by sending the test data to it. One of the reasons for doing this is so that you can make sure that your deployed model is working correctly before moving forward.\n",
    "\n",
    "In addition, you will deploy and use your trained model a second time. In the second iteration you will customize the way that your trained model is deployed by including some of your own code. In addition, your newly deployed model will be used in the sentiment analysis web app."
   ]
  },
  {
   "cell_type": "markdown",
   "metadata": {},
   "source": [
    "## Step 1: Downloading the data\n",
    "\n",
    "As in the XGBoost in SageMaker notebook, we will be using the [IMDb dataset](http://ai.stanford.edu/~amaas/data/sentiment/)\n",
    "\n",
    "> Maas, Andrew L., et al. [Learning Word Vectors for Sentiment Analysis](http://ai.stanford.edu/~amaas/data/sentiment/). In _Proceedings of the 49th Annual Meeting of the Association for Computational Linguistics: Human Language Technologies_. Association for Computational Linguistics, 2011."
   ]
  },
  {
   "cell_type": "code",
   "execution_count": 1,
   "metadata": {},
   "outputs": [
    {
     "name": "stdout",
     "output_type": "stream",
     "text": [
      "--2020-07-29 19:33:43--  http://ai.stanford.edu/~amaas/data/sentiment/aclImdb_v1.tar.gz\n",
      "Resolving ai.stanford.edu (ai.stanford.edu)... 171.64.68.10\n",
      "Connecting to ai.stanford.edu (ai.stanford.edu)|171.64.68.10|:80... connected.\n",
      "HTTP request sent, awaiting response... 200 OK\n",
      "Length: 84125825 (80M) [application/x-gzip]\n",
      "Saving to: ‘../data/aclImdb_v1.tar.gz’\n",
      "\n",
      "../data/aclImdb_v1. 100%[===================>]  80.23M  22.9MB/s    in 4.8s    \n",
      "\n",
      "2020-07-29 19:33:47 (16.9 MB/s) - ‘../data/aclImdb_v1.tar.gz’ saved [84125825/84125825]\n",
      "\n"
     ]
    }
   ],
   "source": [
    "%mkdir ../data\n",
    "!wget -O ../data/aclImdb_v1.tar.gz http://ai.stanford.edu/~amaas/data/sentiment/aclImdb_v1.tar.gz\n",
    "!tar -zxf ../data/aclImdb_v1.tar.gz -C ../data"
   ]
  },
  {
   "cell_type": "markdown",
   "metadata": {},
   "source": [
    "## Step 2: Preparing and Processing the data\n",
    "\n",
    "Also, as in the XGBoost notebook, we will be doing some initial data processing. The first few steps are the same as in the XGBoost example. To begin with, we will read in each of the reviews and combine them into a single input structure. Then, we will split the dataset into a training set and a testing set."
   ]
  },
  {
   "cell_type": "code",
   "execution_count": 2,
   "metadata": {},
   "outputs": [],
   "source": [
    "import os\n",
    "import glob\n",
    "\n",
    "def read_imdb_data(data_dir='../data/aclImdb'):\n",
    "    data = {}\n",
    "    labels = {}\n",
    "    \n",
    "    for data_type in ['train', 'test']:\n",
    "        data[data_type] = {}\n",
    "        labels[data_type] = {}\n",
    "        \n",
    "        for sentiment in ['pos', 'neg']:\n",
    "            data[data_type][sentiment] = []\n",
    "            labels[data_type][sentiment] = []\n",
    "            \n",
    "            path = os.path.join(data_dir, data_type, sentiment, '*.txt')\n",
    "            files = glob.glob(path)\n",
    "            \n",
    "            for f in files:\n",
    "                with open(f) as review:\n",
    "                    data[data_type][sentiment].append(review.read())\n",
    "                    # Here we represent a positive review by '1' and a negative review by '0'\n",
    "                    labels[data_type][sentiment].append(1 if sentiment == 'pos' else 0)\n",
    "                    \n",
    "            assert len(data[data_type][sentiment]) == len(labels[data_type][sentiment]), \\\n",
    "                    \"{}/{} data size does not match labels size\".format(data_type, sentiment)\n",
    "                \n",
    "    return data, labels"
   ]
  },
  {
   "cell_type": "code",
   "execution_count": 3,
   "metadata": {},
   "outputs": [
    {
     "name": "stdout",
     "output_type": "stream",
     "text": [
      "IMDB reviews: train = 12500 pos / 12500 neg, test = 12500 pos / 12500 neg\n"
     ]
    }
   ],
   "source": [
    "data, labels = read_imdb_data()\n",
    "print(\"IMDB reviews: train = {} pos / {} neg, test = {} pos / {} neg\".format(\n",
    "            len(data['train']['pos']), len(data['train']['neg']),\n",
    "            len(data['test']['pos']), len(data['test']['neg'])))"
   ]
  },
  {
   "cell_type": "markdown",
   "metadata": {},
   "source": [
    "Now that we've read the raw training and testing data from the downloaded dataset, we will combine the positive and negative reviews and shuffle the resulting records."
   ]
  },
  {
   "cell_type": "code",
   "execution_count": 4,
   "metadata": {},
   "outputs": [],
   "source": [
    "from sklearn.utils import shuffle\n",
    "\n",
    "def prepare_imdb_data(data, labels):\n",
    "    \"\"\"Prepare training and test sets from IMDb movie reviews.\"\"\"\n",
    "    \n",
    "    #Combine positive and negative reviews and labels\n",
    "    data_train = data['train']['pos'] + data['train']['neg']\n",
    "    data_test = data['test']['pos'] + data['test']['neg']\n",
    "    labels_train = labels['train']['pos'] + labels['train']['neg']\n",
    "    labels_test = labels['test']['pos'] + labels['test']['neg']\n",
    "    \n",
    "    #Shuffle reviews and corresponding labels within training and test sets\n",
    "    data_train, labels_train = shuffle(data_train, labels_train)\n",
    "    data_test, labels_test = shuffle(data_test, labels_test)\n",
    "    \n",
    "    # Return a unified training data, test data, training labels, test labets\n",
    "    return data_train, data_test, labels_train, labels_test"
   ]
  },
  {
   "cell_type": "code",
   "execution_count": 5,
   "metadata": {},
   "outputs": [
    {
     "name": "stdout",
     "output_type": "stream",
     "text": [
      "IMDb reviews (combined): train = 25000, test = 25000\n"
     ]
    }
   ],
   "source": [
    "train_X, test_X, train_y, test_y = prepare_imdb_data(data, labels)\n",
    "print(\"IMDb reviews (combined): train = {}, test = {}\".format(len(train_X), len(test_X)))"
   ]
  },
  {
   "cell_type": "markdown",
   "metadata": {},
   "source": [
    "Now that we have our training and testing sets unified and prepared, we should do a quick check and see an example of the data our model will be trained on. This is generally a good idea as it allows you to see how each of the further processing steps affects the reviews and it also ensures that the data has been loaded correctly."
   ]
  },
  {
   "cell_type": "code",
   "execution_count": 8,
   "metadata": {},
   "outputs": [
    {
     "name": "stdout",
     "output_type": "stream",
     "text": [
      "This is a movie that gets better each time I see it. There are so many nuanced performances in this. William Tracey, as Pepi, is a delight, bringing sharp comic relief. Joseph Schildkraut as Vadas, is the only \"villian\" in the movie, and his oily charms are well used here. Frank Morgan, is delightful as the owner of the title shop, Mr. Matuschek, and his familiar manner is well used here. I especially liked the performance of Felix Bressart, as Pirovitch. Very believable in every facet of his role.<br /><br />The two leads are equally accomplished, with Margaret Sullivan doing an outstanding job of portraying a slightly desperate, neurotic, yet charming and attractive woman.<br /><br />This movie belongs to Jimmy Stewart though. The movie is presented from his point of view, with the action rotating around him. Mr. Stewart is more then up to the task of carrying the movie, with an amazing performance that uses a wide range of emotions. Just watch Stewart, when he is fired from his job, because of a misunderstanding. He is able to convey the shock, anger, fear and embarrassment that so traumatic an event causes, so perfectly. In my estimation, James Stewart is, without question, the greatest film actor in the history of the medium. There is no one else that has ever been captured on film that is able to so completely convey what he is feeling to an audience. At the time he made this movie, he still had most of his career ahead of him, yet he is completely the master of his craft. This is one of Jimmy Stewarts best movies, and also one of the sweetest, most enjoyable romantic comedies you will find. I greatly recommend this movie, especially for those that appreciate the work of Stewart.\n",
      "1\n"
     ]
    }
   ],
   "source": [
    "print(train_X[100])\n",
    "print(train_y[100])"
   ]
  },
  {
   "cell_type": "markdown",
   "metadata": {},
   "source": [
    "The first step in processing the reviews is to make sure that any html tags that appear should be removed. In addition we wish to tokenize our input, that way words such as *entertained* and *entertaining* are considered the same with regard to sentiment analysis."
   ]
  },
  {
   "cell_type": "code",
   "execution_count": 9,
   "metadata": {},
   "outputs": [],
   "source": [
    "import nltk\n",
    "from nltk.corpus import stopwords\n",
    "from nltk.stem.porter import *\n",
    "\n",
    "import re\n",
    "from bs4 import BeautifulSoup\n",
    "\n",
    "def review_to_words(review):\n",
    "    nltk.download(\"stopwords\", quiet=True)\n",
    "    stemmer = PorterStemmer()\n",
    "    \n",
    "    text = BeautifulSoup(review, \"html.parser\").get_text() # Remove HTML tags\n",
    "    text = re.sub(r\"[^a-zA-Z0-9]\", \" \", text.lower()) # Convert to lower case\n",
    "    words = text.split() # Split string into words\n",
    "    words = [w for w in words if w not in stopwords.words(\"english\")] # Remove stopwords\n",
    "    words = [PorterStemmer().stem(w) for w in words] # stem\n",
    "    \n",
    "    return words"
   ]
  },
  {
   "cell_type": "markdown",
   "metadata": {},
   "source": [
    "The `review_to_words` method defined above uses `BeautifulSoup` to remove any html tags that appear and uses the `nltk` package to tokenize the reviews. As a check to ensure we know how everything is working, try applying `review_to_words` to one of the reviews in the training set."
   ]
  },
  {
   "cell_type": "code",
   "execution_count": 12,
   "metadata": {},
   "outputs": [
    {
     "data": {
      "text/plain": [
       "'movi,get,better,time,see,mani,nuanc,perform,william,tracey,pepi,delight,bring,sharp,comic,relief,joseph,schildkraut,vada,villian,movi,oili,charm,well,use,frank,morgan,delight,owner,titl,shop,mr,matuschek,familiar,manner,well,use,especi,like,perform,felix,bressart,pirovitch,believ,everi,facet,role,two,lead,equal,accomplish,margaret,sullivan,outstand,job,portray,slightli,desper,neurot,yet,charm,attract,woman,movi,belong,jimmi,stewart,though,movi,present,point,view,action,rotat,around,mr,stewart,task,carri,movi,amaz,perform,use,wide,rang,emot,watch,stewart,fire,job,misunderstand,abl,convey,shock,anger,fear,embarrass,traumat,event,caus,perfectli,estim,jame,stewart,without,question,greatest,film,actor,histori,medium,one,els,ever,captur,film,abl,complet,convey,feel,audienc,time,made,movi,still,career,ahead,yet,complet,master,craft,one,jimmi,stewart,best,movi,also,one,sweetest,enjoy,romant,comedi,find,greatli,recommend,movi,especi,appreci,work,stewart'"
      ]
     },
     "execution_count": 12,
     "metadata": {},
     "output_type": "execute_result"
    }
   ],
   "source": [
    "# TODO: Apply review_to_words to a review (train_X[100] or any other review)\n",
    "','.join(review_to_words(train_X[100]))"
   ]
  },
  {
   "cell_type": "markdown",
   "metadata": {},
   "source": [
    "**Question:** Above we mentioned that `review_to_words` method removes html formatting and allows us to tokenize the words found in a review, for example, converting *entertained* and *entertaining* into *entertain* so that they are treated as though they are the same word. What else, if anything, does this method do to the input?"
   ]
  },
  {
   "cell_type": "markdown",
   "metadata": {},
   "source": [
    "**Answer:**"
   ]
  },
  {
   "cell_type": "markdown",
   "metadata": {},
   "source": [
    "The method below applies the `review_to_words` method to each of the reviews in the training and testing datasets. In addition it caches the results. This is because performing this processing step can take a long time. This way if you are unable to complete the notebook in the current session, you can come back without needing to process the data a second time."
   ]
  },
  {
   "cell_type": "code",
   "execution_count": 15,
   "metadata": {},
   "outputs": [],
   "source": [
    "import pickle\n",
    "\n",
    "cache_dir = os.path.join(\"../cache\", \"sentiment_analysis\")  # where to store cache files\n",
    "os.makedirs(cache_dir, exist_ok=True)  # ensure cache directory exists\n",
    "\n",
    "def preprocess_data(data_train, data_test, labels_train, labels_test,\n",
    "                    cache_dir=cache_dir, cache_file=\"preprocessed_data.pkl\"):\n",
    "    \"\"\"Convert each review to words; read from cache if available.\"\"\"\n",
    "\n",
    "    # If cache_file is not None, try to read from it first\n",
    "    cache_data = None\n",
    "    if cache_file is not None:\n",
    "        try:\n",
    "            with open(os.path.join(cache_dir, cache_file), \"rb\") as f:\n",
    "                cache_data = pickle.load(f)\n",
    "            print(\"Read preprocessed data from cache file:\", cache_file)\n",
    "        except:\n",
    "            pass  # unable to read from cache, but that's okay\n",
    "    \n",
    "    # If cache is missing, then do the heavy lifting\n",
    "    if cache_data is None:\n",
    "        print('cached_data is None')\n",
    "        # Preprocess training and test data to obtain words for each review\n",
    "        #words_train = list(map(review_to_words, data_train))\n",
    "        #words_test = list(map(review_to_words, data_test))\n",
    "        words_train = [review_to_words(review) for review in data_train]\n",
    "        words_test = [review_to_words(review) for review in data_test]\n",
    "        \n",
    "        print('heavy lifting completed')\n",
    "        # Write to cache file for future runs\n",
    "        if cache_file is not None:\n",
    "            cache_data = dict(words_train=words_train, words_test=words_test,\n",
    "                              labels_train=labels_train, labels_test=labels_test)\n",
    "            with open(os.path.join(cache_dir, cache_file), \"wb\") as f:\n",
    "                pickle.dump(cache_data, f)\n",
    "            print(\"Wrote preprocessed data to cache file:\", cache_file)\n",
    "    else:\n",
    "        # Unpack data loaded from cache file\n",
    "        words_train, words_test, labels_train, labels_test = (cache_data['words_train'],\n",
    "                cache_data['words_test'], cache_data['labels_train'], cache_data['labels_test'])\n",
    "    print('we will return')\n",
    "    return words_train, words_test, labels_train, labels_test"
   ]
  },
  {
   "cell_type": "code",
   "execution_count": 16,
   "metadata": {},
   "outputs": [
    {
     "name": "stdout",
     "output_type": "stream",
     "text": [
      "cached_data is None\n",
      "heavy lifting completed\n",
      "Wrote preprocessed data to cache file: preprocessed_data.pkl\n",
      "we will return\n",
      "Ouf it is completed\n"
     ]
    }
   ],
   "source": [
    "# Preprocess data\n",
    "train_X, test_X, train_y, test_y = preprocess_data(train_X, test_X, train_y, test_y)\n",
    "print('Ouf it is completed')"
   ]
  },
  {
   "cell_type": "markdown",
   "metadata": {},
   "source": [
    "## Transform the data\n",
    "\n",
    "In the XGBoost notebook we transformed the data from its word representation to a bag-of-words feature representation. For the model we are going to construct in this notebook we will construct a feature representation which is very similar. To start, we will represent each word as an integer. Of course, some of the words that appear in the reviews occur very infrequently and so likely don't contain much information for the purposes of sentiment analysis. The way we will deal with this problem is that we will fix the size of our working vocabulary and we will only include the words that appear most frequently. We will then combine all of the infrequent words into a single category and, in our case, we will label it as `1`.\n",
    "\n",
    "Since we will be using a recurrent neural network, it will be convenient if the length of each review is the same. To do this, we will fix a size for our reviews and then pad short reviews with the category 'no word' (which we will label `0`) and truncate long reviews."
   ]
  },
  {
   "cell_type": "markdown",
   "metadata": {},
   "source": [
    "### (TODO) Create a word dictionary\n",
    "\n",
    "To begin with, we need to construct a way to map words that appear in the reviews to integers. Here we fix the size of our vocabulary (including the 'no word' and 'infrequent' categories) to be `5000` but you may wish to change this to see how it affects the model.\n",
    "\n",
    "> **TODO:** Complete the implementation for the `build_dict()` method below. Note that even though the vocab_size is set to `5000`, we only want to construct a mapping for the most frequently appearing `4998` words. This is because we want to reserve the special labels `0` for 'no word' and `1` for 'infrequent word'."
   ]
  },
  {
   "cell_type": "code",
   "execution_count": 40,
   "metadata": {},
   "outputs": [],
   "source": [
    "import numpy as np\n",
    "from collections import Counter\n",
    "from collections import OrderedDict \n",
    "\n",
    "def build_dict(data, vocab_size = 5000):\n",
    "    \"\"\"Construct and return a dictionary mapping each of the most frequently appearing words to a unique integer.\"\"\"\n",
    "    \n",
    "    # TODO: Determine how often each word appears in `data`. Note that `data` is a list of sentences and that a\n",
    "    #       sentence is a list of words.\n",
    "    merged = []\n",
    "    for sublist in data:\n",
    "        merged.extend(sublist)\n",
    "    \n",
    "    word_count = Counter(merged) # A dict storing the words that appear in the reviews along with how often they occur\n",
    "\n",
    "    # TODO: Sort the words found in `data` so that sorted_words[0] is the most frequently appearing word and\n",
    "    #       sorted_words[-1] is the least frequently appearing word.\n",
    "    \n",
    "    sorted_words = sorted(word_count, key=word_count.get, reverse=True)\n",
    "    \n",
    "    \n",
    "    word_dict = {} # This is what we are building, a dictionary that translates words into integers\n",
    "    for idx, word in enumerate(sorted_words[:vocab_size - 2]): # The -2 is so that we save room for the 'no word'\n",
    "        word_dict[word] = idx + 2                              # 'infrequent' labels\n",
    "        \n",
    "    return word_dict"
   ]
  },
  {
   "cell_type": "code",
   "execution_count": 44,
   "metadata": {},
   "outputs": [
    {
     "name": "stdout",
     "output_type": "stream",
     "text": [
      "{'movi': 2, 'film': 3, 'one': 4, 'like': 5, 'time': 6, 'good': 7, 'make': 8, 'charact': 9, 'get': 10, 'see': 11, 'watch': 12, 'stori': 13, 'even': 14, 'would': 15, 'realli': 16, 'well': 17, 'scene': 18, 'look': 19, 'show': 20, 'much': 21, 'end': 22, 'peopl': 23, 'bad': 24, 'go': 25, 'great': 26, 'also': 27, 'first': 28, 'love': 29, 'think': 30, 'way': 31, 'act': 32, 'play': 33, 'made': 34, 'thing': 35, 'could': 36, 'know': 37, 'say': 38, 'seem': 39, 'work': 40, 'plot': 41, 'two': 42, 'actor': 43, 'year': 44, 'come': 45, 'mani': 46, 'seen': 47, 'take': 48, 'want': 49, 'life': 50, 'never': 51, 'littl': 52, 'best': 53, 'tri': 54, 'man': 55, 'ever': 56, 'give': 57, 'better': 58, 'still': 59, 'perform': 60, 'find': 61, 'feel': 62, 'part': 63, 'back': 64, 'use': 65, 'someth': 66, 'director': 67, 'actual': 68, 'interest': 69, 'lot': 70, 'real': 71, 'old': 72, 'cast': 73, 'though': 74, 'live': 75, 'star': 76, 'enjoy': 77, 'guy': 78, 'anoth': 79, 'new': 80, 'role': 81, 'noth': 82, '10': 83, 'funni': 84, 'music': 85, 'point': 86, 'start': 87, 'set': 88, 'girl': 89, 'origin': 90, 'day': 91, 'world': 92, 'everi': 93, 'believ': 94, 'turn': 95, 'quit': 96, 'direct': 97, 'us': 98, 'thought': 99, 'fact': 100, 'minut': 101, 'horror': 102, 'kill': 103, 'action': 104, 'comedi': 105, 'pretti': 106, 'young': 107, 'wonder': 108, 'happen': 109, 'around': 110, 'got': 111, 'effect': 112, 'right': 113, 'long': 114, 'howev': 115, 'big': 116, 'line': 117, 'famili': 118, 'enough': 119, 'seri': 120, 'may': 121, 'need': 122, 'fan': 123, 'bit': 124, 'script': 125, 'beauti': 126, 'person': 127, 'becom': 128, 'without': 129, 'must': 130, 'alway': 131, 'friend': 132, 'tell': 133, 'reason': 134, 'saw': 135, 'last': 136, 'final': 137, 'kid': 138, 'almost': 139, 'put': 140, 'least': 141, 'sure': 142, 'done': 143, 'whole': 144, 'place': 145, 'complet': 146, 'kind': 147, 'differ': 148, 'expect': 149, 'shot': 150, 'far': 151, 'mean': 152, 'anyth': 153, 'book': 154, 'laugh': 155, 'might': 156, 'name': 157, 'sinc': 158, 'begin': 159, '2': 160, 'probabl': 161, 'woman': 162, 'help': 163, 'entertain': 164, 'let': 165, 'screen': 166, 'call': 167, 'tv': 168, 'moment': 169, 'away': 170, 'read': 171, 'yet': 172, 'rather': 173, 'worst': 174, 'run': 175, 'fun': 176, 'lead': 177, 'hard': 178, 'audienc': 179, 'idea': 180, 'anyon': 181, 'episod': 182, 'american': 183, 'found': 184, 'appear': 185, 'bore': 186, 'especi': 187, 'although': 188, 'hope': 189, 'cours': 190, 'keep': 191, 'anim': 192, 'job': 193, 'goe': 194, 'move': 195, 'sens': 196, 'version': 197, 'dvd': 198, 'war': 199, 'money': 200, 'someon': 201, 'mind': 202, 'mayb': 203, 'problem': 204, 'true': 205, 'hous': 206, 'everyth': 207, 'nice': 208, 'second': 209, 'rate': 210, 'three': 211, 'night': 212, 'face': 213, 'follow': 214, 'recommend': 215, 'main': 216, 'product': 217, 'worth': 218, 'leav': 219, 'human': 220, 'special': 221, 'excel': 222, 'togeth': 223, 'wast': 224, 'everyon': 225, 'sound': 226, 'john': 227, 'hand': 228, '1': 229, 'father': 230, 'later': 231, 'eye': 232, 'said': 233, 'view': 234, 'instead': 235, 'review': 236, 'boy': 237, 'high': 238, 'hour': 239, 'miss': 240, 'talk': 241, 'classic': 242, 'wife': 243, 'understand': 244, 'left': 245, 'care': 246, 'black': 247, 'death': 248, 'open': 249, 'murder': 250, 'write': 251, 'half': 252, 'head': 253, 'rememb': 254, 'chang': 255, 'viewer': 256, 'fight': 257, 'gener': 258, 'surpris': 259, 'includ': 260, 'short': 261, 'die': 262, 'fall': 263, 'less': 264, 'els': 265, 'entir': 266, 'piec': 267, 'involv': 268, 'pictur': 269, 'simpli': 270, 'power': 271, 'home': 272, 'top': 273, 'total': 274, 'usual': 275, 'budget': 276, 'attempt': 277, 'suppos': 278, 'releas': 279, 'hollywood': 280, 'terribl': 281, 'song': 282, 'men': 283, 'possibl': 284, 'featur': 285, 'portray': 286, 'disappoint': 287, 'poor': 288, '3': 289, 'coupl': 290, 'stupid': 291, 'camera': 292, 'dead': 293, 'wrong': 294, 'produc': 295, 'low': 296, 'either': 297, 'video': 298, 'aw': 299, 'definit': 300, 'except': 301, 'rest': 302, 'given': 303, 'absolut': 304, 'women': 305, 'lack': 306, 'word': 307, 'writer': 308, 'titl': 309, 'talent': 310, 'decid': 311, 'full': 312, 'perfect': 313, 'along': 314, 'style': 315, 'close': 316, 'truli': 317, 'school': 318, 'emot': 319, 'save': 320, 'age': 321, 'sex': 322, 'next': 323, 'bring': 324, 'mr': 325, 'case': 326, 'killer': 327, 'heart': 328, 'comment': 329, 'sort': 330, 'creat': 331, 'perhap': 332, 'came': 333, 'brother': 334, 'sever': 335, 'joke': 336, 'art': 337, 'dialogu': 338, 'game': 339, 'small': 340, 'base': 341, 'flick': 342, 'written': 343, 'sequenc': 344, 'meet': 345, 'earli': 346, 'often': 347, 'other': 348, 'mother': 349, 'develop': 350, 'humor': 351, 'actress': 352, 'consid': 353, 'dark': 354, 'guess': 355, 'amaz': 356, 'unfortun': 357, 'light': 358, 'lost': 359, 'exampl': 360, 'cinema': 361, 'drama': 362, 'white': 363, 'ye': 364, 'experi': 365, 'imagin': 366, 'mention': 367, 'stop': 368, 'natur': 369, 'forc': 370, 'manag': 371, 'felt': 372, 'cut': 373, 'present': 374, 'children': 375, 'fail': 376, 'son': 377, 'support': 378, 'qualiti': 379, 'car': 380, 'ask': 381, 'hit': 382, 'side': 383, 'voic': 384, 'extrem': 385, 'impress': 386, 'wors': 387, 'evil': 388, 'went': 389, 'stand': 390, 'certainli': 391, 'basic': 392, 'oh': 393, 'overal': 394, 'favorit': 395, 'horribl': 396, 'mysteri': 397, 'number': 398, 'type': 399, 'danc': 400, 'wait': 401, 'hero': 402, '5': 403, 'alreadi': 404, 'learn': 405, 'matter': 406, '4': 407, 'michael': 408, 'genr': 409, 'fine': 410, 'despit': 411, 'throughout': 412, 'walk': 413, 'success': 414, 'histori': 415, 'question': 416, 'zombi': 417, 'town': 418, 'realiz': 419, 'relationship': 420, 'past': 421, 'child': 422, 'daughter': 423, 'late': 424, 'b': 425, 'wish': 426, 'credit': 427, 'hate': 428, 'event': 429, 'theme': 430, 'touch': 431, 'citi': 432, 'today': 433, 'sometim': 434, 'behind': 435, 'god': 436, 'twist': 437, 'sit': 438, 'annoy': 439, 'deal': 440, 'stay': 441, 'abl': 442, 'rent': 443, 'pleas': 444, 'edit': 445, 'blood': 446, 'deserv': 447, 'anyway': 448, 'comic': 449, 'appar': 450, 'soon': 451, 'gave': 452, 'etc': 453, 'level': 454, 'slow': 455, 'chanc': 456, 'score': 457, 'bodi': 458, 'brilliant': 459, 'incred': 460, 'figur': 461, 'situat': 462, 'major': 463, 'self': 464, 'stuff': 465, 'decent': 466, 'element': 467, 'return': 468, 'dream': 469, 'obvious': 470, 'continu': 471, 'order': 472, 'pace': 473, 'ridicul': 474, 'happi': 475, 'highli': 476, 'add': 477, 'group': 478, 'thank': 479, 'ladi': 480, 'novel': 481, 'speak': 482, 'pain': 483, 'career': 484, 'shoot': 485, 'strang': 486, 'heard': 487, 'sad': 488, 'husband': 489, 'polic': 490, 'import': 491, 'break': 492, 'took': 493, 'cannot': 494, 'strong': 495, 'robert': 496, 'predict': 497, 'violenc': 498, 'hilari': 499, 'recent': 500, 'countri': 501, 'known': 502, 'particularli': 503, 'pick': 504, 'documentari': 505, 'season': 506, 'critic': 507, 'jame': 508, 'compar': 509, 'obviou': 510, 'alon': 511, 'told': 512, 'state': 513, 'rock': 514, 'visual': 515, 'offer': 516, 'exist': 517, 'theater': 518, 'opinion': 519, 'gore': 520, 'hold': 521, 'crap': 522, 'result': 523, 'room': 524, 'realiti': 525, 'hear': 526, 'effort': 527, 'clich': 528, 'thriller': 529, 'caus': 530, 'explain': 531, 'sequel': 532, 'serious': 533, 'king': 534, 'local': 535, 'ago': 536, 'none': 537, 'hell': 538, 'note': 539, 'allow': 540, 'david': 541, 'sister': 542, 'simpl': 543, 'femal': 544, 'deliv': 545, 'ok': 546, 'class': 547, 'convinc': 548, 'check': 549, 'suspens': 550, 'win': 551, 'oscar': 552, 'buy': 553, 'huge': 554, 'valu': 555, 'sexual': 556, 'scari': 557, 'cool': 558, 'similar': 559, 'excit': 560, 'exactli': 561, 'apart': 562, 'provid': 563, 'shown': 564, 'avoid': 565, 'seriou': 566, 'english': 567, 'whose': 568, 'taken': 569, 'cinematographi': 570, 'shock': 571, 'polit': 572, 'spoiler': 573, 'offic': 574, 'across': 575, 'middl': 576, 'pass': 577, 'street': 578, 'messag': 579, 'silli': 580, 'charm': 581, 'somewhat': 582, 'modern': 583, 'filmmak': 584, 'confus': 585, 'form': 586, 'tale': 587, 'singl': 588, 'jack': 589, 'mostli': 590, 'william': 591, 'attent': 592, 'carri': 593, 'sing': 594, 'subject': 595, 'five': 596, 'prove': 597, 'richard': 598, 'team': 599, 'stage': 600, 'cop': 601, 'unlik': 602, 'georg': 603, 'televis': 604, 'monster': 605, 'earth': 606, 'cover': 607, 'villain': 608, 'pay': 609, 'marri': 610, 'toward': 611, 'build': 612, 'parent': 613, 'pull': 614, 'due': 615, 'fill': 616, 'respect': 617, 'dialog': 618, 'four': 619, 'remind': 620, 'futur': 621, 'weak': 622, 'typic': 623, '7': 624, 'cheap': 625, 'intellig': 626, 'british': 627, 'atmospher': 628, 'clearli': 629, '80': 630, 'non': 631, 'dog': 632, 'paul': 633, 'fast': 634, 'artist': 635, '8': 636, 'knew': 637, 'crime': 638, 'easili': 639, 'escap': 640, 'doubt': 641, 'adult': 642, 'detail': 643, 'date': 644, 'fire': 645, 'romant': 646, 'member': 647, 'drive': 648, 'gun': 649, 'straight': 650, 'beyond': 651, 'fit': 652, 'attack': 653, 'imag': 654, 'upon': 655, 'posit': 656, 'whether': 657, 'fantast': 658, 'peter': 659, 'appreci': 660, 'captur': 661, 'aspect': 662, 'ten': 663, 'plan': 664, 'discov': 665, 'remain': 666, 'near': 667, 'period': 668, 'air': 669, 'realist': 670, 'mark': 671, 'red': 672, 'dull': 673, 'adapt': 674, 'within': 675, 'lose': 676, 'spend': 677, 'color': 678, 'materi': 679, 'chase': 680, 'mari': 681, 'storylin': 682, 'forget': 683, 'bunch': 684, 'clear': 685, 'lee': 686, 'victim': 687, 'nearli': 688, 'box': 689, 'york': 690, 'inspir': 691, 'match': 692, 'finish': 693, 'mess': 694, 'standard': 695, 'easi': 696, 'truth': 697, 'suffer': 698, 'busi': 699, 'dramat': 700, 'bill': 701, 'space': 702, 'western': 703, 'e': 704, 'list': 705, 'battl': 706, 'notic': 707, 'de': 708, 'french': 709, 'ad': 710, '9': 711, 'tom': 712, 'larg': 713, 'among': 714, 'eventu': 715, 'train': 716, 'accept': 717, 'agre': 718, 'spirit': 719, 'soundtrack': 720, 'third': 721, 'teenag': 722, 'soldier': 723, 'adventur': 724, 'sorri': 725, 'suggest': 726, 'famou': 727, 'drug': 728, 'babi': 729, 'normal': 730, 'cri': 731, 'troubl': 732, 'ultim': 733, 'contain': 734, 'certain': 735, 'cultur': 736, 'romanc': 737, 'rare': 738, 'lame': 739, 'somehow': 740, 'mix': 741, 'disney': 742, 'gone': 743, 'cartoon': 744, 'student': 745, 'reveal': 746, 'fear': 747, 'suck': 748, 'kept': 749, 'attract': 750, 'appeal': 751, 'premis': 752, 'greatest': 753, 'secret': 754, 'design': 755, 'shame': 756, 'throw': 757, 'scare': 758, 'copi': 759, 'wit': 760, 'admit': 761, 'america': 762, 'relat': 763, 'particular': 764, 'brought': 765, 'screenplay': 766, 'whatev': 767, 'pure': 768, '70': 769, 'harri': 770, 'averag': 771, 'master': 772, 'describ': 773, 'treat': 774, 'male': 775, '20': 776, 'issu': 777, 'fantasi': 778, 'warn': 779, 'inde': 780, 'forward': 781, 'background': 782, 'free': 783, 'project': 784, 'japanes': 785, 'memor': 786, 'poorli': 787, 'award': 788, 'locat': 789, 'amus': 790, 'potenti': 791, 'struggl': 792, 'weird': 793, 'magic': 794, 'societi': 795, 'okay': 796, 'imdb': 797, 'accent': 798, 'doctor': 799, 'hot': 800, 'water': 801, 'express': 802, 'dr': 803, 'alien': 804, '30': 805, 'odd': 806, 'choic': 807, 'crazi': 808, 'studio': 809, 'fiction': 810, 'becam': 811, 'control': 812, 'masterpiec': 813, 'difficult': 814, 'fli': 815, 'joe': 816, 'scream': 817, 'costum': 818, 'lover': 819, 'uniqu': 820, 'refer': 821, 'remak': 822, 'girlfriend': 823, 'vampir': 824, 'prison': 825, 'execut': 826, 'wear': 827, 'jump': 828, 'unless': 829, 'wood': 830, 'creepi': 831, 'cheesi': 832, 'superb': 833, 'otherwis': 834, 'parti': 835, 'roll': 836, 'ghost': 837, 'mad': 838, 'public': 839, 'depict': 840, 'earlier': 841, 'moral': 842, 'badli': 843, 'week': 844, 'jane': 845, 'dumb': 846, 'fi': 847, 'grow': 848, 'flaw': 849, 'deep': 850, 'sci': 851, 'maker': 852, 'cat': 853, 'connect': 854, 'older': 855, 'footag': 856, 'plenti': 857, 'bother': 858, 'outsid': 859, 'stick': 860, 'gay': 861, 'catch': 862, 'co': 863, 'plu': 864, 'popular': 865, 'equal': 866, 'social': 867, 'quickli': 868, 'disturb': 869, 'perfectli': 870, 'dress': 871, 'era': 872, '90': 873, 'mistak': 874, 'lie': 875, 'ride': 876, 'previou': 877, 'combin': 878, 'band': 879, 'concept': 880, 'answer': 881, 'surviv': 882, 'rich': 883, 'front': 884, 'sweet': 885, 'christma': 886, 'insid': 887, 'eat': 888, 'concern': 889, 'bare': 890, 'ben': 891, 'beat': 892, 'listen': 893, 'c': 894, 'term': 895, 'serv': 896, 'meant': 897, 'la': 898, 'german': 899, 'hardli': 900, 'stereotyp': 901, 'innoc': 902, 'law': 903, 'desper': 904, 'memori': 905, 'promis': 906, 'cute': 907, 'intent': 908, 'variou': 909, 'steal': 910, 'inform': 911, 'brain': 912, 'post': 913, 'tone': 914, 'island': 915, 'amount': 916, 'nuditi': 917, 'compani': 918, 'track': 919, 'store': 920, 'claim': 921, 'hair': 922, '50': 923, 'flat': 924, 'land': 925, 'univers': 926, 'kick': 927, 'danger': 928, 'scott': 929, 'fairli': 930, 'player': 931, 'step': 932, 'crew': 933, 'plain': 934, 'toni': 935, 'share': 936, 'tast': 937, 'centuri': 938, 'engag': 939, 'achiev': 940, 'cold': 941, 'travel': 942, 'record': 943, 'rip': 944, 'suit': 945, 'sadli': 946, 'manner': 947, 'wrote': 948, 'spot': 949, 'tension': 950, 'fascin': 951, 'intens': 952, 'familiar': 953, 'burn': 954, 'depth': 955, 'remark': 956, 'destroy': 957, 'histor': 958, 'sleep': 959, 'purpos': 960, 'languag': 961, 'ignor': 962, 'ruin': 963, 'delight': 964, 'italian': 965, 'unbeliev': 966, 'abil': 967, 'collect': 968, 'soul': 969, 'clever': 970, 'detect': 971, 'violent': 972, 'rape': 973, 'reach': 974, 'door': 975, 'trash': 976, 'scienc': 977, 'liter': 978, 'commun': 979, 'caught': 980, 'reveng': 981, 'creatur': 982, 'approach': 983, 'trip': 984, 'fashion': 985, 'intrigu': 986, 'skill': 987, 'paint': 988, 'introduc': 989, 'channel': 990, 'complex': 991, 'camp': 992, 'christian': 993, 'hole': 994, 'extra': 995, 'ann': 996, 'immedi': 997, 'mental': 998, 'limit': 999, '6': 1000, 'mere': 1001, 'comput': 1002, 'slightli': 1003, 'million': 1004, 'slasher': 1005, 'conclus': 1006, 'imposs': 1007, 'suddenli': 1008, 'neither': 1009, 'crimin': 1010, 'teen': 1011, 'spent': 1012, 'physic': 1013, 'nation': 1014, 'respons': 1015, 'planet': 1016, 'receiv': 1017, 'fake': 1018, 'sick': 1019, 'blue': 1020, 'bizarr': 1021, 'embarrass': 1022, 'indian': 1023, '15': 1024, 'ring': 1025, 'pop': 1026, 'drop': 1027, 'drag': 1028, 'haunt': 1029, 'suspect': 1030, 'pointless': 1031, 'edg': 1032, 'search': 1033, 'handl': 1034, 'biggest': 1035, 'common': 1036, 'faith': 1037, 'hurt': 1038, 'arriv': 1039, 'technic': 1040, 'angel': 1041, 'dad': 1042, 'genuin': 1043, 'awesom': 1044, 'solid': 1045, 'f': 1046, 'colleg': 1047, 'former': 1048, 'focu': 1049, 'van': 1050, 'count': 1051, 'tear': 1052, 'heavi': 1053, 'rais': 1054, 'wall': 1055, 'visit': 1056, 'laughabl': 1057, 'younger': 1058, 'sign': 1059, 'fair': 1060, 'excus': 1061, 'cult': 1062, 'key': 1063, 'tough': 1064, 'motion': 1065, 'desir': 1066, 'super': 1067, 'stun': 1068, 'addit': 1069, 'cloth': 1070, 'exploit': 1071, 'smith': 1072, 'tortur': 1073, 'davi': 1074, 'race': 1075, 'cross': 1076, 'author': 1077, 'jim': 1078, 'compel': 1079, 'consist': 1080, 'focus': 1081, 'minor': 1082, 'pathet': 1083, 'commit': 1084, 'chemistri': 1085, 'park': 1086, 'tradit': 1087, 'obsess': 1088, 'frank': 1089, 'grade': 1090, '60': 1091, 'asid': 1092, 'brutal': 1093, 'steve': 1094, 'somewher': 1095, 'rule': 1096, 'depress': 1097, 'u': 1098, 'opportun': 1099, 'grant': 1100, 'explor': 1101, 'besid': 1102, 'honest': 1103, 'anti': 1104, 'dub': 1105, 'intend': 1106, 'trailer': 1107, 'bar': 1108, 'regard': 1109, 'west': 1110, 'longer': 1111, 'scientist': 1112, 'decad': 1113, 'judg': 1114, 'silent': 1115, 'armi': 1116, 'creativ': 1117, 'wild': 1118, 'g': 1119, 'stewart': 1120, 'south': 1121, 'draw': 1122, 'road': 1123, 'govern': 1124, 'boss': 1125, 'ex': 1126, 'practic': 1127, 'surprisingli': 1128, 'festiv': 1129, 'club': 1130, 'motiv': 1131, 'gang': 1132, 'london': 1133, 'redeem': 1134, 'green': 1135, 'page': 1136, 'machin': 1137, 'display': 1138, 'militari': 1139, 'aliv': 1140, 'idiot': 1141, 'repeat': 1142, 'thrill': 1143, 'yeah': 1144, 'nobodi': 1145, 'folk': 1146, '100': 1147, '40': 1148, 'garbag': 1149, 'journey': 1150, 'smile': 1151, 'ground': 1152, 'tire': 1153, 'mood': 1154, 'bought': 1155, 'stone': 1156, 'cost': 1157, 'sam': 1158, 'mouth': 1159, 'noir': 1160, 'agent': 1161, 'terrif': 1162, 'utterli': 1163, 'requir': 1164, 'sexi': 1165, 'area': 1166, 'honestli': 1167, 'report': 1168, 'geniu': 1169, 'glad': 1170, 'enter': 1171, 'investig': 1172, 'humour': 1173, 'serial': 1174, 'passion': 1175, 'occasion': 1176, 'narr': 1177, 'climax': 1178, 'marriag': 1179, 'studi': 1180, 'industri': 1181, 'center': 1182, 'charli': 1183, 'ship': 1184, 'demon': 1185, 'nowher': 1186, 'bear': 1187, 'loos': 1188, 'hors': 1189, 'hang': 1190, 'wow': 1191, 'graphic': 1192, 'admir': 1193, 'giant': 1194, 'send': 1195, 'loud': 1196, 'damn': 1197, 'nake': 1198, 'subtl': 1199, 'rel': 1200, 'profession': 1201, 'blow': 1202, 'bottom': 1203, 'insult': 1204, 'batman': 1205, 'r': 1206, 'boyfriend': 1207, 'doubl': 1208, 'kelli': 1209, 'initi': 1210, 'frame': 1211, 'gem': 1212, 'opera': 1213, 'challeng': 1214, 'drawn': 1215, 'affect': 1216, 'cinemat': 1217, 'church': 1218, 'evid': 1219, 'seek': 1220, 'j': 1221, 'fulli': 1222, 'nightmar': 1223, 'l': 1224, 'conflict': 1225, 'arm': 1226, 'essenti': 1227, 'grace': 1228, 'christoph': 1229, 'henri': 1230, 'wind': 1231, 'assum': 1232, 'narrat': 1233, 'witch': 1234, 'hunt': 1235, 'push': 1236, 'wise': 1237, 'chri': 1238, 'repres': 1239, 'month': 1240, 'nomin': 1241, 'sceneri': 1242, 'avail': 1243, 'hide': 1244, 'affair': 1245, 'thu': 1246, 'smart': 1247, 'justic': 1248, 'bond': 1249, 'interview': 1250, 'outstand': 1251, 'flashback': 1252, 'satisfi': 1253, 'constantli': 1254, 'presenc': 1255, 'central': 1256, 'bed': 1257, 'content': 1258, 'iron': 1259, 'sell': 1260, 'everybodi': 1261, 'gag': 1262, 'slowli': 1263, 'hotel': 1264, 'hire': 1265, 'system': 1266, 'thrown': 1267, 'individu': 1268, 'adam': 1269, 'hey': 1270, 'charl': 1271, 'allen': 1272, 'mediocr': 1273, 'jone': 1274, 'billi': 1275, 'ray': 1276, 'lesson': 1277, 'cameo': 1278, 'photographi': 1279, 'pari': 1280, 'fellow': 1281, 'strike': 1282, 'rise': 1283, 'absurd': 1284, 'independ': 1285, 'brief': 1286, 'neg': 1287, 'phone': 1288, 'impact': 1289, 'ill': 1290, 'born': 1291, 'model': 1292, 'fresh': 1293, 'angl': 1294, 'spoil': 1295, 'likabl': 1296, 'abus': 1297, 'hill': 1298, 'discuss': 1299, 'sight': 1300, 'ahead': 1301, 'sent': 1302, 'photograph': 1303, 'occur': 1304, 'blame': 1305, 'logic': 1306, 'shine': 1307, 'bruce': 1308, 'mainli': 1309, 'skip': 1310, 'forev': 1311, 'commerci': 1312, 'held': 1313, 'surround': 1314, 'teacher': 1315, 'segment': 1316, 'blond': 1317, 'zero': 1318, 'resembl': 1319, 'satir': 1320, 'trap': 1321, 'summer': 1322, 'queen': 1323, 'ball': 1324, 'fool': 1325, 'six': 1326, 'twice': 1327, 'tragedi': 1328, 'sub': 1329, 'reaction': 1330, 'pack': 1331, 'bomb': 1332, 'protagonist': 1333, 'hospit': 1334, 'will': 1335, 'sport': 1336, 'mile': 1337, 'mom': 1338, 'jerri': 1339, 'trust': 1340, 'vote': 1341, 'drink': 1342, 'encount': 1343, 'plane': 1344, 'station': 1345, 'program': 1346, 'al': 1347, 'current': 1348, 'celebr': 1349, 'martin': 1350, 'choos': 1351, 'join': 1352, 'favourit': 1353, 'tragic': 1354, 'round': 1355, 'field': 1356, 'lord': 1357, 'robot': 1358, 'jean': 1359, 'vision': 1360, 'tie': 1361, 'arthur': 1362, 'random': 1363, 'fortun': 1364, 'roger': 1365, 'intern': 1366, 'dread': 1367, 'psycholog': 1368, 'prefer': 1369, 'nonsens': 1370, 'epic': 1371, 'improv': 1372, 'highlight': 1373, 'formula': 1374, 'legend': 1375, 'pleasur': 1376, 'tape': 1377, '11': 1378, 'dollar': 1379, 'fox': 1380, 'wide': 1381, 'porn': 1382, 'thin': 1383, 'object': 1384, 'gorgeou': 1385, 'buddi': 1386, 'influenc': 1387, 'ugli': 1388, 'prepar': 1389, 'nasti': 1390, 'ii': 1391, 'supposedli': 1392, 'reflect': 1393, 'warm': 1394, 'progress': 1395, 'youth': 1396, 'worthi': 1397, 'unusu': 1398, 'length': 1399, 'latter': 1400, 'crash': 1401, 'superior': 1402, 'childhood': 1403, 'shop': 1404, 'seven': 1405, 'remot': 1406, 'theatr': 1407, 'funniest': 1408, 'disgust': 1409, 'pilot': 1410, 'paid': 1411, 'convers': 1412, 'fell': 1413, 'trick': 1414, 'castl': 1415, 'disast': 1416, 'gangster': 1417, 'establish': 1418, 'rob': 1419, 'mine': 1420, 'suicid': 1421, 'ident': 1422, 'disappear': 1423, 'heaven': 1424, 'mask': 1425, 'heroin': 1426, 'forgotten': 1427, 'singer': 1428, 'tend': 1429, 'decis': 1430, 'partner': 1431, 'brian': 1432, 'desert': 1433, 'recogn': 1434, 'alan': 1435, 'ms': 1436, 'stuck': 1437, 'thoroughli': 1438, 'sky': 1439, 'p': 1440, 'accur': 1441, 'replac': 1442, 'market': 1443, 'clue': 1444, 'seemingli': 1445, 'danni': 1446, 'commentari': 1447, 'andi': 1448, 'eddi': 1449, 'uncl': 1450, 'jackson': 1451, 'devil': 1452, 'that': 1453, 'therefor': 1454, 'refus': 1455, 'pair': 1456, 'unit': 1457, 'fate': 1458, 'ed': 1459, 'fault': 1460, 'accid': 1461, 'river': 1462, 'tune': 1463, 'afraid': 1464, 'clean': 1465, 'hidden': 1466, 'stephen': 1467, 'russian': 1468, 'convey': 1469, 'readi': 1470, 'quick': 1471, 'irrit': 1472, 'instanc': 1473, 'test': 1474, 'captain': 1475, 'european': 1476, 'frustrat': 1477, 'daniel': 1478, 'insan': 1479, 'wed': 1480, 'rescu': 1481, 'food': 1482, '1950': 1483, 'chines': 1484, 'angri': 1485, 'lock': 1486, 'dirti': 1487, 'joy': 1488, 'steven': 1489, 'price': 1490, 'cage': 1491, 'bland': 1492, 'anymor': 1493, 'rang': 1494, 'wooden': 1495, 'n': 1496, 'jason': 1497, 'news': 1498, 'rush': 1499, 'board': 1500, 'worri': 1501, 'twenti': 1502, 'martial': 1503, 'led': 1504, '12': 1505, 'hunter': 1506, 'transform': 1507, 'cgi': 1508, 'symbol': 1509, 'x': 1510, 'onto': 1511, 'sentiment': 1512, 'johnni': 1513, 'piti': 1514, 'invent': 1515, 'attitud': 1516, 'process': 1517, 'explan': 1518, 'awar': 1519, 'owner': 1520, 'aim': 1521, 'floor': 1522, 'target': 1523, 'necessari': 1524, 'favor': 1525, 'energi': 1526, 'religi': 1527, 'opposit': 1528, 'chick': 1529, 'window': 1530, 'insight': 1531, 'blind': 1532, 'movement': 1533, 'deepli': 1534, 'research': 1535, 'comparison': 1536, 'possess': 1537, 'mountain': 1538, 'whatsoev': 1539, 'rain': 1540, 'comed': 1541, 'grand': 1542, 'began': 1543, 'bank': 1544, 'mid': 1545, 'shadow': 1546, 'parodi': 1547, 'princ': 1548, 'weapon': 1549, 'credibl': 1550, 'friendship': 1551, 'pre': 1552, 'taylor': 1553, 'dougla': 1554, 'flesh': 1555, 'teach': 1556, 'hint': 1557, 'protect': 1558, 'terror': 1559, 'bloodi': 1560, 'marvel': 1561, 'anybodi': 1562, 'watchabl': 1563, 'leader': 1564, 'accord': 1565, 'drunk': 1566, 'load': 1567, 'superman': 1568, 'freddi': 1569, 'brown': 1570, 'appropri': 1571, 'jeff': 1572, 'tim': 1573, 'seat': 1574, 'hitler': 1575, 'knock': 1576, 'villag': 1577, 'charg': 1578, 'unknown': 1579, 'keaton': 1580, 'empti': 1581, 'media': 1582, 'enemi': 1583, 'unnecessari': 1584, 'england': 1585, 'craft': 1586, 'buck': 1587, 'strength': 1588, 'wave': 1589, 'utter': 1590, 'perspect': 1591, 'dare': 1592, 'kiss': 1593, 'nativ': 1594, 'ford': 1595, 'contrast': 1596, 'correct': 1597, 'chill': 1598, 'knowledg': 1599, 'nazi': 1600, 'magnific': 1601, 'anywher': 1602, 'soap': 1603, 'distract': 1604, 'speed': 1605, 'breath': 1606, '1980': 1607, 'ice': 1608, 'fred': 1609, 'mission': 1610, 'moon': 1611, 'crowd': 1612, 'jr': 1613, 'joan': 1614, 'kate': 1615, 'frighten': 1616, 'soft': 1617, '000': 1618, 'dan': 1619, 'dick': 1620, 'hundr': 1621, 'nick': 1622, 'dozen': 1623, 'somebodi': 1624, 'simon': 1625, 'radio': 1626, 'loss': 1627, 'academi': 1628, 'thousand': 1629, 'shakespear': 1630, 'andrew': 1631, 'root': 1632, 'vehicl': 1633, 'quot': 1634, 'sum': 1635, 'account': 1636, '1970': 1637, 'leg': 1638, 'behavior': 1639, 'convent': 1640, 'gold': 1641, 'regular': 1642, 'pretenti': 1643, 'demand': 1644, 'compet': 1645, 'worker': 1646, 'candi': 1647, 'notabl': 1648, 'privat': 1649, 'interpret': 1650, 'stretch': 1651, 'explos': 1652, 'lynch': 1653, 'japan': 1654, 'debut': 1655, 'constant': 1656, 'tarzan': 1657, 'prais': 1658, 'revolv': 1659, 'sea': 1660, 'spi': 1661, 'translat': 1662, 'sat': 1663, 'franc': 1664, 'technolog': 1665, 'quiet': 1666, 'threaten': 1667, 'failur': 1668, 'ass': 1669, 'jesu': 1670, 'aid': 1671, 'punch': 1672, 'met': 1673, 'toy': 1674, 'kevin': 1675, 'higher': 1676, 'mike': 1677, 'abandon': 1678, 'interact': 1679, 'vh': 1680, 'bet': 1681, 'command': 1682, 'separ': 1683, 'confront': 1684, 'site': 1685, 'techniqu': 1686, 'belong': 1687, 'recal': 1688, 'servic': 1689, 'gotten': 1690, 'stunt': 1691, 'cabl': 1692, 'freak': 1693, 'bug': 1694, 'foot': 1695, 'bright': 1696, 'african': 1697, 'jimmi': 1698, 'capabl': 1699, 'fu': 1700, 'clark': 1701, 'succeed': 1702, 'stock': 1703, 'fat': 1704, 'presid': 1705, 'boat': 1706, 'spanish': 1707, 'structur': 1708, 'gene': 1709, 'kidnap': 1710, 'paper': 1711, 'whilst': 1712, 'factor': 1713, 'belief': 1714, 'complic': 1715, 'tree': 1716, 'attend': 1717, 'educ': 1718, 'realis': 1719, 'witti': 1720, 'realism': 1721, 'bob': 1722, 'assist': 1723, 'santa': 1724, 'broken': 1725, 'finest': 1726, 'smoke': 1727, 'v': 1728, 'determin': 1729, 'depart': 1730, 'observ': 1731, 'up': 1732, 'routin': 1733, 'hat': 1734, 'rubbish': 1735, 'lewi': 1736, 'fame': 1737, 'domin': 1738, 'oper': 1739, 'safe': 1740, 'foreign': 1741, 'kinda': 1742, 'lone': 1743, 'morgan': 1744, 'advanc': 1745, 'hook': 1746, 'numer': 1747, 'rank': 1748, 'vs': 1749, 'civil': 1750, 'shape': 1751, 'shallow': 1752, 'washington': 1753, 'rose': 1754, 'werewolf': 1755, 'morn': 1756, 'gari': 1757, 'winner': 1758, 'ordinari': 1759, 'accomplish': 1760, 'kong': 1761, 'grab': 1762, 'peac': 1763, 'virtual': 1764, 'whenev': 1765, 'offens': 1766, 'luck': 1767, 'h': 1768, 'welcom': 1769, 'unfunni': 1770, 'contriv': 1771, 'bigger': 1772, 'complain': 1773, 'patient': 1774, 'activ': 1775, 'con': 1776, 'pretend': 1777, 'dimension': 1778, 'trek': 1779, 'lesbian': 1780, 'eric': 1781, 'cain': 1782, 'dri': 1783, 'flash': 1784, 'code': 1785, 'wake': 1786, 'corrupt': 1787, 'manipul': 1788, 'albert': 1789, 'guard': 1790, 'dancer': 1791, 'statu': 1792, 'awkward': 1793, 'gain': 1794, 'signific': 1795, 'context': 1796, 'sourc': 1797, 'speech': 1798, 'corni': 1799, 'sean': 1800, 'clip': 1801, '13': 1802, 'psycho': 1803, 'anthoni': 1804, 'curiou': 1805, 'w': 1806, 'advic': 1807, 'priest': 1808, 'reli': 1809, 'religion': 1810, 'theatric': 1811, 'addict': 1812, 'flow': 1813, 'jennif': 1814, 'specif': 1815, 'skin': 1816, 'asian': 1817, 'secur': 1818, 'howard': 1819, 'core': 1820, 'luke': 1821, 'golden': 1822, 'organ': 1823, 'comfort': 1824, 'promot': 1825, 'cheat': 1826, 'lucki': 1827, 'cash': 1828, 'associ': 1829, 'dislik': 1830, 'lower': 1831, 'frequent': 1832, 'contribut': 1833, 'regret': 1834, 'spell': 1835, 'degre': 1836, 'balanc': 1837, 'wing': 1838, 'frankli': 1839, 'devic': 1840, 'lake': 1841, 'forgiv': 1842, 'sake': 1843, 'print': 1844, 'mass': 1845, 'betti': 1846, 'thoma': 1847, 'gordon': 1848, 'crack': 1849, 'unexpect': 1850, 'invit': 1851, 'categori': 1852, 'depend': 1853, 'unfold': 1854, 'amateur': 1855, 'grown': 1856, 'construct': 1857, 'grew': 1858, 'intellectu': 1859, 'condit': 1860, 'matur': 1861, 'honor': 1862, 'walter': 1863, 'anna': 1864, 'veteran': 1865, 'sole': 1866, 'sudden': 1867, 'mirror': 1868, 'spectacular': 1869, 'gift': 1870, 'card': 1871, 'liner': 1872, 'experienc': 1873, 'demonstr': 1874, 'meanwhil': 1875, 'overli': 1876, 'grip': 1877, 'freedom': 1878, 'robin': 1879, 'subtitl': 1880, 'crappi': 1881, 'oliv': 1882, 'brilliantli': 1883, 'theori': 1884, 'drew': 1885, 'unabl': 1886, 'circumst': 1887, 'colour': 1888, 'sheriff': 1889, 'section': 1890, 'laughter': 1891, 'matt': 1892, 'cook': 1893, 'altern': 1894, 'pile': 1895, 'parker': 1896, 'path': 1897, 'sheer': 1898, 'hall': 1899, 'treatment': 1900, 'lawyer': 1901, 'relief': 1902, 'accident': 1903, 'defin': 1904, 'wander': 1905, 'sinatra': 1906, 'captiv': 1907, 'dragon': 1908, 'hank': 1909, 'gratuit': 1910, 'halloween': 1911, 'moor': 1912, 'cowboy': 1913, 'broadway': 1914, 'unintent': 1915, 'wayn': 1916, 'wound': 1917, 'kung': 1918, 'k': 1919, 'jacki': 1920, 'barbara': 1921, 'spoof': 1922, 'statement': 1923, 'winter': 1924, 'canadian': 1925, 'surreal': 1926, 'gonna': 1927, 'fish': 1928, 'cheer': 1929, 'treasur': 1930, 'fare': 1931, 'compos': 1932, 'victor': 1933, 'emerg': 1934, 'woodi': 1935, 'sensit': 1936, 'unrealist': 1937, 'ran': 1938, 'sympathet': 1939, 'driven': 1940, 'neighbor': 1941, 'topic': 1942, 'authent': 1943, 'expos': 1944, 'overlook': 1945, 'menac': 1946, 'glass': 1947, 'ancient': 1948, 'handsom': 1949, 'michel': 1950, 'gross': 1951, 'chief': 1952, 'pleasant': 1953, 'contemporari': 1954, 'built': 1955, 'feet': 1956, 'nevertheless': 1957, 'network': 1958, 'comedian': 1959, 'russel': 1960, 'stranger': 1961, 'cinderella': 1962, 'blockbust': 1963, 'underr': 1964, 'miser': 1965, 'earn': 1966, 'endless': 1967, 'letter': 1968, 'gori': 1969, 'consider': 1970, 'brook': 1971, 'switch': 1972, 'solv': 1973, 'joseph': 1974, 'convict': 1975, 'virgin': 1976, 'bullet': 1977, 'edward': 1978, 'victoria': 1979, '0': 1980, 'scale': 1981, 'chosen': 1982, 'alex': 1983, 'scenario': 1984, 'cynic': 1985, 'com': 1986, 'sword': 1987, 'curs': 1988, 'outrag': 1989, 'gut': 1990, 'screenwrit': 1991, 'driver': 1992, 'proper': 1993, 'wrap': 1994, 'substanc': 1995, 'uk': 1996, 'monkey': 1997, 'juli': 1998, 'court': 1999, 'remov': 2000, 'bird': 2001, 'par': 2002, 'indic': 2003, 'consequ': 2004, 'inevit': 2005, 'naiv': 2006, 'loser': 2007, 'rental': 2008, 'advertis': 2009, 'grave': 2010, 'nanci': 2011, 'roy': 2012, 'germani': 2013, 'slap': 2014, 'le': 2015, 'invis': 2016, 'bridg': 2017, 'brave': 2018, 'fatal': 2019, 'footbal': 2020, 'provok': 2021, 'loui': 2022, 'ador': 2023, 'anger': 2024, 'chan': 2025, 'alcohol': 2026, 'anderson': 2027, 'stumbl': 2028, 'ryan': 2029, 'professor': 2030, 'willi': 2031, 'assassin': 2032, '1930': 2033, 'sharp': 2034, 'patrick': 2035, 'bat': 2036, 'australian': 2037, 'eight': 2038, 'saturday': 2039, 'strongli': 2040, 'trilog': 2041, 'deni': 2042, 'amateurish': 2043, 'liber': 2044, 'cell': 2045, 'lousi': 2046, 'heck': 2047, 'refresh': 2048, 'ape': 2049, 'sin': 2050, 'san': 2051, 'resid': 2052, 'vagu': 2053, 'justifi': 2054, 'terrifi': 2055, 'indi': 2056, 'defeat': 2057, 'sympathi': 2058, 'creator': 2059, 'reput': 2060, 'mini': 2061, 'tabl': 2062, 'endur': 2063, 'task': 2064, 'prevent': 2065, 'tediou': 2066, 'expert': 2067, 'rival': 2068, 'imit': 2069, 'trial': 2070, 'employ': 2071, 'offend': 2072, 'basebal': 2073, 'che': 2074, 'pitch': 2075, 'beach': 2076, 'complaint': 2077, 'max': 2078, 'weekend': 2079, 'europ': 2080, 'dig': 2081, 'fairi': 2082, 'murphi': 2083, 'purchas': 2084, 'risk': 2085, 'format': 2086, 'harsh': 2087, 'hype': 2088, 'powel': 2089, 'reminisc': 2090, 'glimps': 2091, 'titan': 2092, 'nois': 2093, 'bite': 2094, 'tini': 2095, 'till': 2096, 'north': 2097, 'strip': 2098, 'asleep': 2099, '14': 2100, 'prime': 2101, 'fals': 2102, 'destruct': 2103, 'texa': 2104, 'africa': 2105, 'descript': 2106, 'revel': 2107, 'inner': 2108, 'uninterest': 2109, 'surfac': 2110, 'arrest': 2111, 'excess': 2112, 'spin': 2113, 'sitcom': 2114, 'semi': 2115, 'makeup': 2116, 'controversi': 2117, 'argu': 2118, 'twin': 2119, 'dinosaur': 2120, 'maintain': 2121, 'massiv': 2122, 'hitchcock': 2123, 'insist': 2124, 'stare': 2125, 'expens': 2126, 'kim': 2127, 'melodrama': 2128, 'reject': 2129, 'ludicr': 2130, 'ideal': 2131, 'press': 2132, 'forest': 2133, 'erot': 2134, 'host': 2135, 'atroci': 2136, 'nail': 2137, 'subplot': 2138, 'columbo': 2139, 'ala': 2140, 'supernatur': 2141, 'ga': 2142, 'dude': 2143, 'notch': 2144, 'presum': 2145, 'cant': 2146, 'identifi': 2147, 'crude': 2148, 'method': 2149, 'character': 2150, 'guest': 2151, 'forgett': 2152, 'plagu': 2153, 'closer': 2154, 'ear': 2155, 'princess': 2156, 'lion': 2157, 'beast': 2158, 'landscap': 2159, 'border': 2160, 'foster': 2161, 'pacino': 2162, 'storytel': 2163, 'urban': 2164, 'damag': 2165, 'previous': 2166, 'jungl': 2167, 'birth': 2168, 'accus': 2169, 'aunt': 2170, 'bound': 2171, 'jess': 2172, 'chose': 2173, 'propaganda': 2174, 'guid': 2175, 'doll': 2176, 'thirti': 2177, 'nude': 2178, 'emma': 2179, '25': 2180, 'whoever': 2181, 'warrior': 2182, 'mate': 2183, 'pet': 2184, 'mainstream': 2185, 'gritti': 2186, 'exact': 2187, 'deadli': 2188, 'latest': 2189, 'friday': 2190, 'size': 2191, 'merit': 2192, 'cooper': 2193, 'upset': 2194, 'poster': 2195, 'sun': 2196, 'wilson': 2197, 'blend': 2198, 'buff': 2199, '1990': 2200, 'contact': 2201, 'contest': 2202, 'citizen': 2203, 'rough': 2204, 'settl': 2205, 'ton': 2206, 'popul': 2207, 'warner': 2208, 'corps': 2209, 'widow': 2210, 'environ': 2211, 'alic': 2212, 'select': 2213, 'bu': 2214, 'metal': 2215, 'overcom': 2216, 'mgm': 2217, 'rat': 2218, 'pitt': 2219, 'revolut': 2220, 'link': 2221, 'particip': 2222, 'ted': 2223, 'guilti': 2224, 'lift': 2225, 'accompani': 2226, 'afternoon': 2227, 'corpor': 2228, 'johnson': 2229, 'prostitut': 2230, 'exagger': 2231, 'moron': 2232, 'matrix': 2233, '1960': 2234, 'corner': 2235, 'leagu': 2236, 'sincer': 2237, 'instal': 2238, 'friendli': 2239, 'clair': 2240, 'doom': 2241, 'hood': 2242, 'multipl': 2243, 'holm': 2244, 'hip': 2245, 'aka': 2246, 'advis': 2247, 'examin': 2248, 'lugosi': 2249, 'sunday': 2250, 'campi': 2251, 'grim': 2252, 'irish': 2253, 'junk': 2254, 'string': 2255, 'defend': 2256, 'blah': 2257, 'tight': 2258, 'pro': 2259, 'varieti': 2260, 'icon': 2261, 'rachel': 2262, 'shut': 2263, 'confid': 2264, 'shake': 2265, 'medic': 2266, 'mexican': 2267, 'directli': 2268, 'sullivan': 2269, 'jaw': 2270, 'attach': 2271, 'denni': 2272, 'goal': 2273, 'vietnam': 2274, 'dean': 2275, 'sarah': 2276, 'truck': 2277, 'duke': 2278, 'legendari': 2279, 'bourn': 2280, 'terrorist': 2281, 'breast': 2282, 'courag': 2283, 'sentenc': 2284, 'prior': 2285, 'entri': 2286, 'un': 2287, 'yell': 2288, 'nose': 2289, 'proceed': 2290, 'hong': 2291, 'behav': 2292, 'donald': 2293, 'split': 2294, 'everywher': 2295, 'borrow': 2296, 'jerk': 2297, 'forth': 2298, 'confess': 2299, 'unconvinc': 2300, 'crush': 2301, 'buri': 2302, 'gather': 2303, 'concentr': 2304, 'stolen': 2305, 'swim': 2306, 'lifetim': 2307, 'julia': 2308, 'spite': 2309, 'turkey': 2310, 'lip': 2311, 'california': 2312, 'pan': 2313, 'deliveri': 2314, 'downright': 2315, 'freeman': 2316, 'offici': 2317, 'quest': 2318, 'reward': 2319, 'hoffman': 2320, 'flight': 2321, 'proud': 2322, 'china': 2323, 'fade': 2324, 'jail': 2325, 'sir': 2326, 'fabul': 2327, 'inept': 2328, 'jon': 2329, 'lazi': 2330, 'sink': 2331, 'worthwhil': 2332, 'notori': 2333, 'encourag': 2334, 'betray': 2335, 'cousin': 2336, 'bell': 2337, 'storm': 2338, 'retard': 2339, 'susan': 2340, 'shower': 2341, 'imageri': 2342, 'survivor': 2343, 'teeth': 2344, 'relev': 2345, 'bag': 2346, 'lisa': 2347, 'branagh': 2348, 'quirki': 2349, 'finger': 2350, 'facial': 2351, 'mexico': 2352, 'trade': 2353, 'toler': 2354, 'summari': 2355, 'stab': 2356, 'tremend': 2357, 'shark': 2358, 'alright': 2359, 'bride': 2360, 'hugh': 2361, 'bitter': 2362, 'blown': 2363, 'hyster': 2364, 'pose': 2365, 'von': 2366, 'ha': 2367, 'bone': 2368, 'scheme': 2369, 'address': 2370, 'ron': 2371, 'afterward': 2372, 'larri': 2373, 'cruel': 2374, 'christ': 2375, 'ned': 2376, 'swear': 2377, 'pursu': 2378, 'screw': 2379, 'snake': 2380, 'tour': 2381, 'distinct': 2382, 'feed': 2383, 'beg': 2384, 'thumb': 2385, 'traci': 2386, 'raw': 2387, 'stomach': 2388, 'occas': 2389, 'photo': 2390, 'obscur': 2391, 'mechan': 2392, 'chair': 2393, 'necessarili': 2394, 'southern': 2395, 'cabin': 2396, 'render': 2397, 'holiday': 2398, 'resist': 2399, 'chain': 2400, 'sidney': 2401, 'argument': 2402, 'hardi': 2403, 'heavili': 2404, 'gruesom': 2405, 'indulg': 2406, 'india': 2407, 'philip': 2408, 'satan': 2409, 'racist': 2410, 'understood': 2411, 'belov': 2412, 'tongu': 2413, 'stalk': 2414, 'lay': 2415, 'outfit': 2416, 'pregnant': 2417, 'fourth': 2418, 'midnight': 2419, 'forgot': 2420, 'obnoxi': 2421, 'integr': 2422, 'garden': 2423, 'slapstick': 2424, 'restor': 2425, '17': 2426, 'ticket': 2427, 'magazin': 2428, 'inhabit': 2429, 'carol': 2430, 'deeper': 2431, 'lincoln': 2432, 'brad': 2433, 'incid': 2434, 'devot': 2435, 'shoe': 2436, 'benefit': 2437, 'anticip': 2438, 'disbelief': 2439, 'divorc': 2440, 'maria': 2441, 'guarante': 2442, 'lili': 2443, 'underground': 2444, 'elizabeth': 2445, 'sandler': 2446, 'cring': 2447, 'princip': 2448, 'explod': 2449, 'greater': 2450, 'slave': 2451, 'capit': 2452, 'mildli': 2453, 'creation': 2454, 'bbc': 2455, 'amazingli': 2456, 'introduct': 2457, 'lesli': 2458, 'halfway': 2459, 'funnier': 2460, 'extraordinari': 2461, 'enhanc': 2462, 'extent': 2463, 'overwhelm': 2464, 'transfer': 2465, 'tap': 2466, 'wreck': 2467, 'punish': 2468, 'advantag': 2469, 'text': 2470, 'deliber': 2471, 'lo': 2472, 'dynam': 2473, 'east': 2474, 'error': 2475, 'jessica': 2476, 'horrif': 2477, 'lane': 2478, 'plant': 2479, 'preview': 2480, 'ensu': 2481, 'vincent': 2482, 'sophist': 2483, '2000': 2484, 'miscast': 2485, 'appli': 2486, 'homosexu': 2487, 'basi': 2488, 'vacat': 2489, 'miller': 2490, 'mansion': 2491, 'sleazi': 2492, 'via': 2493, 'spoken': 2494, 'bollywood': 2495, 'reed': 2496, 'extend': 2497, 'uncomfort': 2498, 'measur': 2499, 'steel': 2500, 'elev': 2501, 'hippi': 2502, 'stanley': 2503, 'assign': 2504, 'beer': 2505, 'overact': 2506, 'conceiv': 2507, 'breathtak': 2508, 'daili': 2509, 'cathol': 2510, 'savag': 2511, 'fix': 2512, 'mous': 2513, 'blair': 2514, 'goofi': 2515, 'melt': 2516, 'alter': 2517, 'dentist': 2518, 'sacrific': 2519, 'properli': 2520, 'everyday': 2521, 'subsequ': 2522, 'inspector': 2523, 'succe': 2524, 'oppos': 2525, 'nowaday': 2526, 'carpent': 2527, 'burt': 2528, 'massacr': 2529, 'laura': 2530, 'block': 2531, 'circl': 2532, 'neck': 2533, 'mob': 2534, 'concert': 2535, 'access': 2536, 'pool': 2537, 'grey': 2538, 'fay': 2539, 'lesser': 2540, 'seagal': 2541, 'fallen': 2542, 'portrait': 2543, 'christi': 2544, 'competit': 2545, 'isol': 2546, 'sinist': 2547, 'react': 2548, 'jewish': 2549, 'chees': 2550, 'jake': 2551, 'relax': 2552, 'usa': 2553, 'ironi': 2554, 'chop': 2555, 'suitabl': 2556, 'creep': 2557, 'nonetheless': 2558, 'nine': 2559, 'appal': 2560, 'stink': 2561, '2006': 2562, 'spiritu': 2563, 'lyric': 2564, 'immens': 2565, 'spring': 2566, 'showcas': 2567, 'retir': 2568, 'needless': 2569, 'rage': 2570, 'user': 2571, 'nut': 2572, 'franchis': 2573, 'reduc': 2574, 'adopt': 2575, 'shirt': 2576, 'luci': 2577, 'navi': 2578, 'sold': 2579, 'digit': 2580, 'bulli': 2581, 'zone': 2582, 'bath': 2583, 'nurs': 2584, 'per': 2585, 'uninspir': 2586, 'jay': 2587, 'asham': 2588, 'stanwyck': 2589, 'oddli': 2590, 'broadcast': 2591, 'sutherland': 2592, '1940': 2593, 'illustr': 2594, 'upper': 2595, 'laid': 2596, '2001': 2597, 'amongst': 2598, 'throat': 2599, 'aspir': 2600, 'baker': 2601, 'fulfil': 2602, 'stylish': 2603, 'disguis': 2604, 'brando': 2605, 'wanna': 2606, 'endear': 2607, 'neighborhood': 2608, 'em': 2609, 'impli': 2610, '18': 2611, 'thief': 2612, 'nobl': 2613, 'wwii': 2614, 'pound': 2615, 'pride': 2616, '16': 2617, 'albeit': 2618, 'dawn': 2619, 'prop': 2620, 'dinner': 2621, 'distribut': 2622, 'shift': 2623, 'bo': 2624, 'shoulder': 2625, 'diseas': 2626, 'tens': 2627, 'coher': 2628, 'rochest': 2629, 'bett': 2630, 'cinematograph': 2631, 'silenc': 2632, 'rebel': 2633, 'surf': 2634, 'function': 2635, 'poignant': 2636, 'forti': 2637, 'contract': 2638, 'shout': 2639, 'snow': 2640, 'wash': 2641, 'matthau': 2642, 'knife': 2643, 'reunion': 2644, 'silver': 2645, 'derek': 2646, 'cannib': 2647, 'henc': 2648, 'proof': 2649, 'instinct': 2650, 'horrend': 2651, 'cancel': 2652, 'internet': 2653, 'widmark': 2654, 'elvira': 2655, 'height': 2656, 'eeri': 2657, 'chuck': 2658, 'duti': 2659, 'heat': 2660, 'mindless': 2661, 'absorb': 2662, 'greatli': 2663, 'mill': 2664, 'alik': 2665, 'etern': 2666, 'elvi': 2667, 'spielberg': 2668, 'repetit': 2669, 'pie': 2670, 'innov': 2671, 'glori': 2672, 'incoher': 2673, 'neat': 2674, 'musician': 2675, 'premier': 2676, 'torn': 2677, 'nelson': 2678, 'precis': 2679, 'racism': 2680, 'infam': 2681, 'crisi': 2682, 'homag': 2683, 'trite': 2684, 'redempt': 2685, 'britain': 2686, 'diamond': 2687, 'lovabl': 2688, 'horrifi': 2689, 'itali': 2690, 'blank': 2691, 'fbi': 2692, 'announc': 2693, 'burton': 2694, 'wealthi': 2695, 'bang': 2696, 'happili': 2697, 'flop': 2698, 'pat': 2699, 'chaplin': 2700, 'parallel': 2701, 'streisand': 2702, 'helen': 2703, 'ensembl': 2704, 'resolut': 2705, 'dedic': 2706, 'wilder': 2707, 'hammer': 2708, 'triumph': 2709, 'carter': 2710, 'st': 2711, 'plastic': 2712, 'broke': 2713, 'oil': 2714, 'conclud': 2715, 'factori': 2716, 'cube': 2717, 'disagre': 2718, 'mar': 2719, 'weight': 2720, 'rocket': 2721, 'climb': 2722, 'own': 2723, 'bush': 2724, 'row': 2725, 'chuckl': 2726, 'fighter': 2727, 'vega': 2728, 'march': 2729, 'mst3k': 2730, 'sensibl': 2731, 'enorm': 2732, 'unforgett': 2733, 'luca': 2734, 'wherea': 2735, 'spare': 2736, 'lust': 2737, 'dump': 2738, 'dane': 2739, 'meaning': 2740, 'boot': 2741, 'kurt': 2742, 'thug': 2743, 'arnold': 2744, 'difficulti': 2745, 'adequ': 2746, 'brand': 2747, 'stress': 2748, 'fifti': 2749, 'karloff': 2750, 'engin': 2751, 'threat': 2752, 'dear': 2753, 'bobbi': 2754, 'butt': 2755, 'caricatur': 2756, 'rap': 2757, 'swing': 2758, 'polish': 2759, 'hamlet': 2760, 'barri': 2761, 'elabor': 2762, 'journalist': 2763, 'arrog': 2764, 'flynn': 2765, 'ralph': 2766, 'fest': 2767, 'secretari': 2768, 'homeless': 2769, 'ego': 2770, 'tool': 2771, 'float': 2772, 'puppet': 2773, 'induc': 2774, 'grate': 2775, 'arrang': 2776, 'resort': 2777, 'fanci': 2778, 'spike': 2779, 'simpson': 2780, 'conspiraci': 2781, 'unbear': 2782, 'basement': 2783, 'exercis': 2784, 'choreograph': 2785, 'muppet': 2786, 'guilt': 2787, 'phillip': 2788, 'boll': 2789, 'tribut': 2790, 'cruis': 2791, 'pig': 2792, '24': 2793, 'layer': 2794, 'tower': 2795, 'fianc': 2796, 'ward': 2797, 'korean': 2798, 'medium': 2799, 'ham': 2800, 'puzzl': 2801, 'document': 2802, 'babe': 2803, 'slip': 2804, 'item': 2805, 'file': 2806, 'toilet': 2807, 'scarecrow': 2808, 'editor': 2809, 'stan': 2810, 'territori': 2811, 'slaughter': 2812, 'assur': 2813, 'inexplic': 2814, 'denzel': 2815, 'transit': 2816, 'minim': 2817, 'superfici': 2818, 'catherin': 2819, 'orient': 2820, 'librari': 2821, 'glover': 2822, 'larger': 2823, 'philosoph': 2824, 'persona': 2825, 'doc': 2826, 'spark': 2827, 'portion': 2828, 'walken': 2829, 'owe': 2830, 'sneak': 2831, 'dorothi': 2832, 'financi': 2833, 'ban': 2834, 'pg': 2835, 'wolf': 2836, 'shi': 2837, 'jet': 2838, 'boredom': 2839, 'jeremi': 2840, 'curti': 2841, 'ambigu': 2842, 'multi': 2843, 'backdrop': 2844, 'eleph': 2845, 'profound': 2846, 'whale': 2847, 'metaphor': 2848, 'hudson': 2849, 'cusack': 2850, 'elsewher': 2851, 'gadget': 2852, '2005': 2853, 'viru': 2854, 'ultra': 2855, 'hack': 2856, 'stiff': 2857, 'birthday': 2858, 'rave': 2859, 'notion': 2860, 'implaus': 2861, 'union': 2862, 'afford': 2863, 'newspap': 2864, 'squar': 2865, '1st': 2866, 'hawk': 2867, 'deriv': 2868, 'disc': 2869, 'poison': 2870, 'urg': 2871, 'canada': 2872, 'superhero': 2873, 'lloyd': 2874, 'slight': 2875, 'eva': 2876, 'reader': 2877, 'distanc': 2878, 'pad': 2879, 'bibl': 2880, 'eastwood': 2881, 'restaur': 2882, 'skit': 2883, 'spread': 2884, 'essenc': 2885, 'cure': 2886, 'heston': 2887, 'montag': 2888, 'health': 2889, 'button': 2890, 'charisma': 2891, 'huh': 2892, 'drown': 2893, 'sadist': 2894, 'dealt': 2895, 'maniac': 2896, 'muslim': 2897, 'estat': 2898, 'invest': 2899, 'lab': 2900, 'companion': 2901, 'gradual': 2902, 'peak': 2903, 'godfath': 2904, 'fetch': 2905, 'scoobi': 2906, 'cup': 2907, 'subtleti': 2908, 'servant': 2909, 'alli': 2910, 'kane': 2911, 'tea': 2912, 'gothic': 2913, 'countless': 2914, 'ritter': 2915, 'miik': 2916, 'elect': 2917, 'briefli': 2918, 'electr': 2919, 'charismat': 2920, 'heroic': 2921, 'iii': 2922, 'salli': 2923, 'tender': 2924, 'nuanc': 2925, 'grandmoth': 2926, 'resourc': 2927, 'ingredi': 2928, 'wannab': 2929, 'admittedli': 2930, 'toss': 2931, 'cole': 2932, 'reel': 2933, 'neil': 2934, 'bud': 2935, 'carrey': 2936, 'poverti': 2937, 'stronger': 2938, 'shall': 2939, 'pit': 2940, 'reev': 2941, 'dawson': 2942, 'label': 2943, 'mild': 2944, 'mafia': 2945, 'punk': 2946, 'stood': 2947, 'kubrick': 2948, 'pauli': 2949, 'gate': 2950, 'smooth': 2951, 'ian': 2952, 'outcom': 2953, 'burst': 2954, 'fond': 2955, 'easier': 2956, 'tag': 2957, 'assault': 2958, 'smash': 2959, 'cardboard': 2960, 'terri': 2961, 'cox': 2962, 'updat': 2963, 'astair': 2964, 'useless': 2965, 'bakshi': 2966, 'samurai': 2967, 'resolv': 2968, 'fist': 2969, '2002': 2970, 'vari': 2971, 'increasingli': 2972, 'rex': 2973, 'qualifi': 2974, 'exchang': 2975, 'melodramat': 2976, 'vulner': 2977, 'divers': 2978, 'coincid': 2979, 'sketch': 2980, 'templ': 2981, 'scratch': 2982, 'be': 2983, 'suspend': 2984, 'insert': 2985, 'brillianc': 2986, 'conveni': 2987, 'tame': 2988, 'luckili': 2989, 'blast': 2990, 'reynold': 2991, 'meat': 2992, 'farm': 2993, 'fisher': 2994, 'strictli': 2995, 'jami': 2996, 'seventi': 2997, 'ambiti': 2998, 'matthew': 2999, 'walker': 3000, 'nuclear': 3001, 'coach': 3002, 'hamilton': 3003, 'soprano': 3004, 'pin': 3005, 'gotta': 3006, 'butcher': 3007, 'eccentr': 3008, 'instantli': 3009, 'brosnan': 3010, 'joey': 3011, 'empir': 3012, 'worthless': 3013, 'convolut': 3014, 'clock': 3015, 'spooki': 3016, 'kudo': 3017, 'closet': 3018, 'ninja': 3019, 'cave': 3020, 'timeless': 3021, 'discoveri': 3022, 'grasp': 3023, 'struck': 3024, 'recreat': 3025, 'monk': 3026, 'revers': 3027, 'miracl': 3028, 'pal': 3029, 'norman': 3030, 'eighti': 3031, 'sidekick': 3032, 'clown': 3033, 'evok': 3034, 'mitchel': 3035, 'cliff': 3036, 'fifteen': 3037, 'sloppi': 3038, 'bleak': 3039, 'wipe': 3040, 'communist': 3041, 'gray': 3042, 'declar': 3043, 'partli': 3044, 'seller': 3045, 'selfish': 3046, 'importantli': 3047, 'inconsist': 3048, 'chew': 3049, 'enthusiast': 3050, 'farc': 3051, 'aforement': 3052, 'ho': 3053, 'piano': 3054, 'destin': 3055, 'debat': 3056, '45': 3057, 'lifestyl': 3058, 'superbl': 3059, 'flawless': 3060, 'websit': 3061, 'seed': 3062, 'stoog': 3063, 'australia': 3064, 'psychiatrist': 3065, 'cheek': 3066, 'bash': 3067, 'pressur': 3068, 'wick': 3069, 'directori': 3070, 'regardless': 3071, 'kitchen': 3072, 'emili': 3073, 'wrestl': 3074, 'dash': 3075, 'dire': 3076, 'splatter': 3077, 'abc': 3078, 'drivel': 3079, 'akshay': 3080, 'anni': 3081, 'soviet': 3082, 'slice': 3083, 'incompet': 3084, 'curios': 3085, 'glow': 3086, 'pleasantli': 3087, 'lou': 3088, 'jar': 3089, 'distant': 3090, 'chapter': 3091, 'helicopt': 3092, 'seduc': 3093, 'increas': 3094, 'cagney': 3095, 'suppli': 3096, 'cia': 3097, 'cameron': 3098, 'dave': 3099, 'judi': 3100, 'flower': 3101, 'prize': 3102, 'duo': 3103, 'ken': 3104, 'recov': 3105, 'blob': 3106, 'beaten': 3107, 'artifici': 3108, 'mann': 3109, 'boil': 3110, 'doo': 3111, 'psychot': 3112, 'glenn': 3113, 'panic': 3114, 'craven': 3115, 'splendid': 3116, 'eleg': 3117, 'favour': 3118, 'turner': 3119, 'goldberg': 3120, 'craig': 3121, 'hop': 3122, 'web': 3123, 'laurel': 3124, 'perri': 3125, 'drunken': 3126, 'combat': 3127, 'ranger': 3128, 'francisco': 3129, 'ellen': 3130, 'gentl': 3131, 'alexand': 3132, 'greek': 3133, '20th': 3134, 'graduat': 3135, 'slightest': 3136, 'falk': 3137, 'min': 3138, 'flip': 3139, 'shortli': 3140, 'plausibl': 3141, 'rid': 3142, 'wizard': 3143, 'philosophi': 3144, 'gandhi': 3145, 'ruth': 3146, 'fx': 3147, 'modesti': 3148, 'hatr': 3149, 'lend': 3150, 'harm': 3151, 'holi': 3152, 'preciou': 3153, 'fund': 3154, 'jealou': 3155, 'felix': 3156, 'legal': 3157, 'ocean': 3158, 'manhattan': 3159, 'knight': 3160, 'futurist': 3161, 'unpleas': 3162, 'tall': 3163, 'dracula': 3164, 'we': 3165, 'bless': 3166, 'thread': 3167, 'mock': 3168, 'forbidden': 3169, 'explicit': 3170, 'ami': 3171, 'digniti': 3172, 'scientif': 3173, 'reviv': 3174, 'nod': 3175, 'childish': 3176, 'giallo': 3177, 'overdon': 3178, 'tank': 3179, 'fever': 3180, 'elderli': 3181, 'thick': 3182, 'margaret': 3183, 'torment': 3184, 'yesterday': 3185, '2004': 3186, 'repeatedli': 3187, 'unwatch': 3188, '99': 3189, 'nerv': 3190, 'broad': 3191, 'eve': 3192, 'mel': 3193, 'awaken': 3194, 'verhoeven': 3195, 'pirat': 3196, 'awe': 3197, 'ambit': 3198, 'absenc': 3199, 'launch': 3200, 'griffith': 3201, 'custom': 3202, 'politician': 3203, 'stiller': 3204, 'lean': 3205, 'uniform': 3206, 'kay': 3207, 'automat': 3208, 'roman': 3209, 'timothi': 3210, 'eas': 3211, 'bin': 3212, 'rivet': 3213, 'ah': 3214, 'royal': 3215, 'publish': 3216, 'romero': 3217, 'acclaim': 3218, 'homicid': 3219, 'transport': 3220, 'phrase': 3221, 'pierc': 3222, 'sunshin': 3223, 'gabriel': 3224, 'termin': 3225, 'pulp': 3226, 'wallac': 3227, 'warren': 3228, 'bathroom': 3229, 'foul': 3230, 'crook': 3231, 'darker': 3232, 'tomato': 3233, 'stinker': 3234, 'purpl': 3235, 'antic': 3236, 'rambo': 3237, 'pray': 3238, 'brazil': 3239, 'viciou': 3240, 'revolutionari': 3241, 'packag': 3242, 'awak': 3243, 'donna': 3244, 'ought': 3245, '2003': 3246, 'album': 3247, 'juvenil': 3248, 'kenneth': 3249, 'eyr': 3250, 'saint': 3251, 'q': 3252, 'contrari': 3253, 'marin': 3254, 'evolv': 3255, 'coloni': 3256, 'li': 3257, 'karen': 3258, 'horrid': 3259, 'prom': 3260, 'choreographi': 3261, 'sixti': 3262, 'hollow': 3263, 'dose': 3264, 'ramon': 3265, 'blade': 3266, 'mildr': 3267, 'defi': 3268, 'mummi': 3269, 'twelv': 3270, 'overr': 3271, 'boast': 3272, 'conserv': 3273, 'ireland': 3274, 'option': 3275, 'kapoor': 3276, 'stole': 3277, 'beatti': 3278, 'candid': 3279, 'nerd': 3280, 'global': 3281, 'detract': 3282, 'collabor': 3283, 'confirm': 3284, 'altman': 3285, 'kirk': 3286, 'flame': 3287, 'protest': 3288, 'fulci': 3289, 'trio': 3290, 'natali': 3291, 'funer': 3292, 'jazz': 3293, 'astonish': 3294, 'delici': 3295, 'yellow': 3296, 'bottl': 3297, 'mystic': 3298, 'spit': 3299, 'audio': 3300, 'bull': 3301, 'leap': 3302, 'blake': 3303, 'shade': 3304, 'tommi': 3305, 'racial': 3306, 'nicholson': 3307, 'whip': 3308, 'enterpris': 3309, 'destini': 3310, 'neo': 3311, 'merci': 3312, 'reunit': 3313, 'swedish': 3314, 'meaningless': 3315, 'visibl': 3316, 'popcorn': 3317, 'threw': 3318, 'adolesc': 3319, 'bedroom': 3320, 'todd': 3321, 'fonda': 3322, 'enchant': 3323, 'vivid': 3324, 'staff': 3325, 'inherit': 3326, 'harder': 3327, 'pseudo': 3328, 'altogeth': 3329, 'edi': 3330, 'ruthless': 3331, 'befriend': 3332, 'synopsi': 3333, 'moodi': 3334, 'decor': 3335, 'voight': 3336, 'exhibit': 3337, 'respond': 3338, 'tip': 3339, 'reserv': 3340, 'madonna': 3341, 'suspici': 3342, 'bust': 3343, 'await': 3344, 'uneven': 3345, 'kennedi': 3346, 'wire': 3347, 'jew': 3348, 'lawrenc': 3349, 'fanat': 3350, 'leonard': 3351, 'crocodil': 3352, 'lemmon': 3353, 'atlanti': 3354, 'roommat': 3355, 'audit': 3356, 'unsettl': 3357, 'bargain': 3358, '2007': 3359, 'voyag': 3360, 'bold': 3361, 'rural': 3362, 'ventur': 3363, 'carl': 3364, 'dimens': 3365, 'clumsi': 3366, 'bradi': 3367, 'incident': 3368, 'garner': 3369, 'centr': 3370, 'abysm': 3371, 'chao': 3372, 'clint': 3373, 'holli': 3374, 'palma': 3375, 'nearbi': 3376, '2nd': 3377, 'imperson': 3378, 'daddi': 3379, 'poetic': 3380, 'troop': 3381, 'wealth': 3382, 'characterist': 3383, 'elimin': 3384, 'versu': 3385, 'immigr': 3386, 'hart': 3387, 'cd': 3388, 'acknowledg': 3389, 'echo': 3390, 'lit': 3391, 'tiger': 3392, 'neglect': 3393, 'cari': 3394, 'humili': 3395, 'trail': 3396, 'timon': 3397, 'cuba': 3398, 'mall': 3399, 'ant': 3400, 'paus': 3401, 'saga': 3402, 'pun': 3403, 'mickey': 3404, 'solo': 3405, 'mistaken': 3406, 'infect': 3407, 'jeffrey': 3408, 'domest': 3409, 'prejudic': 3410, 'collaps': 3411, 'celluloid': 3412, 'repuls': 3413, 'marshal': 3414, 'homer': 3415, 'coat': 3416, 'promin': 3417, 'pant': 3418, 'olivi': 3419, 'inan': 3420, 'tribe': 3421, 'apolog': 3422, 'assembl': 3423, 'harvey': 3424, 'undoubtedli': 3425, 'leon': 3426, 'coffe': 3427, 'cake': 3428, 'hbo': 3429, '1996': 3430, 'ginger': 3431, 'inappropri': 3432, 'sore': 3433, 'chest': 3434, 'milk': 3435, 'gear': 3436, 'interrupt': 3437, 'equip': 3438, 'pot': 3439, 'furthermor': 3440, 'instant': 3441, 'retain': 3442, 'colonel': 3443, 'colleagu': 3444, 'embrac': 3445, 'consum': 3446, 'airplan': 3447, 'highest': 3448, 'humbl': 3449, 'devast': 3450, 'polanski': 3451, 'solut': 3452, 'exot': 3453, 'institut': 3454, 'vulgar': 3455, 'pen': 3456, 'jenni': 3457, 'florida': 3458, 'aveng': 3459, 'primari': 3460, 'trace': 3461, 'brooklyn': 3462, 'maggi': 3463, 'poke': 3464, 'wive': 3465, 'cope': 3466, 'strain': 3467, 'ya': 3468, 'bowl': 3469, 'dutch': 3470, 'seduct': 3471, 'outer': 3472, 'dian': 3473, 'rick': 3474, 'smaller': 3475, 'illog': 3476, '3rd': 3477, 'sale': 3478, 'principl': 3479, 'gender': 3480, 'linda': 3481, 'godzilla': 3482, 'descend': 3483, 'disabl': 3484, '1999': 3485, 'bubbl': 3486, 'secondli': 3487, 'gloriou': 3488, 'predecessor': 3489, 'inferior': 3490, 'dud': 3491, 'blatant': 3492, 'yard': 3493, 'beneath': 3494, 'primarili': 3495, 'mixtur': 3496, 'vast': 3497, 'lol': 3498, 'glamor': 3499, 'dive': 3500, 'devoid': 3501, 'cue': 3502, 'scope': 3503, 'rabbit': 3504, 'hal': 3505, 'gundam': 3506, 'talki': 3507, 'museum': 3508, 'aggress': 3509, 'shirley': 3510, 'shelf': 3511, 'alert': 3512, 'pearl': 3513, 'et': 3514, 'invas': 3515, 'simplist': 3516, 'domino': 3517, 'arab': 3518, 'hideou': 3519, 'breed': 3520, 'garbo': 3521, 'april': 3522, 'alfr': 3523, 'trademark': 3524, 'myer': 3525, 'casual': 3526, 'z': 3527, 'disjoint': 3528, 'countrysid': 3529, 'grinch': 3530, 'senseless': 3531, 'streep': 3532, 'mail': 3533, 'obtain': 3534, 'defens': 3535, 'stack': 3536, 'hardcor': 3537, 'slide': 3538, 'applaud': 3539, 'robberi': 3540, 'vanish': 3541, 'robinson': 3542, 'rendit': 3543, 'stellar': 3544, 'illeg': 3545, 'loyal': 3546, 'mayor': 3547, 'maci': 3548, 'experiment': 3549, 'sh': 3550, 'stir': 3551, 'uwe': 3552, 'acid': 3553, 'khan': 3554, 'hopeless': 3555, 'boom': 3556, 'oz': 3557, 'unhappi': 3558, 'disgrac': 3559, 'fri': 3560, 'blew': 3561, 'span': 3562, 'emphasi': 3563, 'counter': 3564, 'topless': 3565, 'berlin': 3566, 'wont': 3567, 'spider': 3568, 'declin': 3569, 'tenant': 3570, 'psychic': 3571, 'recruit': 3572, 'incomprehens': 3573, 'grandfath': 3574, 'rifl': 3575, 'amanda': 3576, 'tempt': 3577, 'dismiss': 3578, 'dicken': 3579, 'soccer': 3580, 'craze': 3581, 'hartley': 3582, 'scroog': 3583, 'diana': 3584, 'trashi': 3585, 'parad': 3586, 'porno': 3587, 'revolt': 3588, 'wet': 3589, 'lumet': 3590, 'goer': 3591, 'ration': 3592, 'riot': 3593, 'sibl': 3594, 'resurrect': 3595, 'sympath': 3596, 'justin': 3597, 'intim': 3598, 'shed': 3599, 'niro': 3600, 'ethnic': 3601, 'woo': 3602, 'bitch': 3603, 'faster': 3604, 'shaw': 3605, 'gap': 3606, 'dealer': 3607, 'ensur': 3608, 'region': 3609, 'eager': 3610, 'biographi': 3611, 'unreal': 3612, 'lena': 3613, 'commend': 3614, 'steam': 3615, 'farmer': 3616, 'weakest': 3617, 'hesit': 3618, 'worm': 3619, 'hopper': 3620, '00': 3621, 'patriot': 3622, 'andr': 3623, 'rider': 3624, 'enlighten': 3625, 'mario': 3626, 'honesti': 3627, 'slick': 3628, 'jonathan': 3629, 'partial': 3630, 'wheel': 3631, 'wendi': 3632, 'ballet': 3633, 'feminist': 3634, 'choru': 3635, 'nephew': 3636, 'immort': 3637, 'snap': 3638, 'skull': 3639, 'kingdom': 3640, 'victori': 3641, 'morri': 3642, 'nostalg': 3643, 'similarli': 3644, 'repress': 3645, 'psychopath': 3646, 'util': 3647, 'composit': 3648, 'charlott': 3649, 'confin': 3650, 'prequel': 3651, 'owen': 3652, 'safeti': 3653, 'mutant': 3654, 'wore': 3655, 'hung': 3656, 'blunt': 3657, 'franco': 3658, 'properti': 3659, 'leo': 3660, 'vice': 3661, 'sappi': 3662, 'macarthur': 3663, 'sandra': 3664, 'exit': 3665, 'latin': 3666, '1972': 3667, 'repli': 3668, 'bergman': 3669, 'drum': 3670, 'del': 3671, 'emperor': 3672, 'recycl': 3673, 'miseri': 3674, 'despair': 3675, 'thru': 3676, 'bumbl': 3677, 'snl': 3678, 'campbel': 3679, 'drain': 3680, 'pattern': 3681, 'rope': 3682, 'hyde': 3683, 'compens': 3684, 'valuabl': 3685, 'speci': 3686, 'bonu': 3687, 'strand': 3688, 'rocki': 3689, 'compass': 3690, 'bow': 3691, 'farrel': 3692, 'tail': 3693, 'tad': 3694, 'kyle': 3695, 'heartbreak': 3696, 'nervou': 3697, 'cg': 3698, 'deed': 3699, 'acquir': 3700, 'montana': 3701, 'rambl': 3702, 'dust': 3703, 'dalton': 3704, 'whoopi': 3705, 'da': 3706, 'radic': 3707, 'percept': 3708, 'romp': 3709, 'martian': 3710, 'gal': 3711, 'chess': 3712, 'tonight': 3713, 'bleed': 3714, 'orson': 3715, 'wacki': 3716, '35': 3717, 'carradin': 3718, 'oppress': 3719, 'roth': 3720, 'gimmick': 3721, 'contempl': 3722, 'downhil': 3723, 'pour': 3724, 'mistress': 3725, 'rotten': 3726, 'slug': 3727, 'airport': 3728, 'rapist': 3729, 'olli': 3730, 'attorney': 3731, 'arguabl': 3732, 'tooth': 3733, 'belt': 3734, '1983': 3735, 'arc': 3736, 'pervers': 3737, 'unpredict': 3738, 'programm': 3739, 'preach': 3740, 'banal': 3741, 'shelley': 3742, 'slash': 3743, 'stilt': 3744, 'edgar': 3745, 'paltrow': 3746, 'champion': 3747, 'mislead': 3748, 'taught': 3749, 'pursuit': 3750, 'dazzl': 3751, 'heal': 3752, 'pervert': 3753, 'melodi': 3754, 'tackl': 3755, 'conneri': 3756, 'plight': 3757, 'duval': 3758, 'bela': 3759, 'orang': 3760, 'vengeanc': 3761, 'tiresom': 3762, 'raymond': 3763, 'sensat': 3764, 'cleverli': 3765, 'uplift': 3766, 'gambl': 3767, 'chicken': 3768, 'vocal': 3769, 'poem': 3770, 'passeng': 3771, 'graham': 3772, 'mesmer': 3773, 'closest': 3774, 'marti': 3775, 'rubi': 3776, 'maid': 3777, 'virginia': 3778, 'dixon': 3779, 'employe': 3780, 'franki': 3781, 'convincingli': 3782, 'volum': 3783, 'whine': 3784, 'iran': 3785, 'pokemon': 3786, 'secretli': 3787, 'extens': 3788, 'mute': 3789, 'quarter': 3790, 'tube': 3791, 'paranoia': 3792, 'numb': 3793, 'calm': 3794, 'profan': 3795, '1968': 3796, 'inject': 3797, 'habit': 3798, 'abraham': 3799, 'bay': 3800, 'outing': 3801, 'clone': 3802, 'sirk': 3803, 'suffic': 3804, 'yawn': 3805, 'scottish': 3806, 'engross': 3807, 'swallow': 3808, 'monologu': 3809, 'climact': 3810, 'giggl': 3811, 'gerard': 3812, 'lundgren': 3813, 'crystal': 3814, 'amitabh': 3815, 'junior': 3816, 'nichola': 3817, 'ethan': 3818, 'grotesqu': 3819, 'chicago': 3820, 'abort': 3821, 'dispos': 3822, 'taxi': 3823, 'franci': 3824, 'meander': 3825, 'backward': 3826, 'austen': 3827, 'expand': 3828, 'linger': 3829, 'earl': 3830, 'underst': 3831, 'richardson': 3832, 'surpass': 3833, 'profess': 3834, 'frankenstein': 3835, 'im': 3836, 'plod': 3837, 'septemb': 3838, 'bend': 3839, 'poetri': 3840, 'trend': 3841, 'spock': 3842, 'fed': 3843, 'lowest': 3844, 'spoke': 3845, 'tourist': 3846, 'catchi': 3847, 'greedi': 3848, 'mundan': 3849, 'lure': 3850, 'waitress': 3851, 'rant': 3852, 'descent': 3853, 'muddl': 3854, 'eugen': 3855, 'cannon': 3856, 'econom': 3857, 'myth': 3858, 'literatur': 3859, 'sue': 3860, 'compliment': 3861, 'der': 3862, 'dysfunct': 3863, 'rubber': 3864, 'household': 3865, 'instrument': 3866, 'hum': 3867, 'nostalgia': 3868, 'simplic': 3869, 'stallon': 3870, 'map': 3871, 'recognis': 3872, 'hello': 3873, 'phoni': 3874, 'coast': 3875, 'alongsid': 3876, 'duck': 3877, 'equival': 3878, 'insur': 3879, 'stale': 3880, 'randi': 3881, 'firstli': 3882, 'damon': 3883, 'june': 3884, 'phantom': 3885, 'dement': 3886, 'dictat': 3887, 'flee': 3888, 'recognit': 3889, 'molli': 3890, 'mortal': 3891, 'irrelev': 3892, 'bacal': 3893, 'crucial': 3894, 'eaten': 3895, 'occupi': 3896, 'omen': 3897, 'louis': 3898, 'mankind': 3899, 'furi': 3900, 'lang': 3901, 'sissi': 3902, 'cent': 3903, 'deaf': 3904, 'carel': 3905, 'blackmail': 3906, 'cyborg': 3907, 'bike': 3908, '1973': 3909, 'distinguish': 3910, 'grayson': 3911, 'bump': 3912, 'labor': 3913, 'ashley': 3914, 'lengthi': 3915, 'likewis': 3916, 'rude': 3917, 'twilight': 3918, 'drake': 3919, 'newli': 3920, 'rooney': 3921, 'dreari': 3922, 'heel': 3923, 'freez': 3924, 'onlin': 3925, 'daisi': 3926, 'wisdom': 3927, 'damm': 3928, 'buffalo': 3929, 'loyalti': 3930, 'reign': 3931, 'antwon': 3932, 'biko': 3933, 'vein': 3934, 'provoc': 3935, 'basketbal': 3936, 'incorpor': 3937, 'approv': 3938, 'pink': 3939, 'startl': 3940, 'attribut': 3941, 'unorigin': 3942, 'ridden': 3943, 'inher': 3944, 'tunnel': 3945, 'interior': 3946, 'worn': 3947, 'boxer': 3948, 'proce': 3949, 'prey': 3950, 'analysi': 3951, 'emphas': 3952, 'barrymor': 3953, 'sailor': 3954, 'keith': 3955, 'nineti': 3956, 'butler': 3957, 'chronicl': 3958, 'baddi': 3959, 'exposur': 3960, 'predat': 3961, 'hypnot': 3962, 'meg': 3963, 'drift': 3964, 'undeni': 3965, 'julian': 3966, 'er': 3967, 'nicol': 3968, 'degrad': 3969, 'millionair': 3970, 'indiffer': 3971, 'belushi': 3972, 'othello': 3973, 'mighti': 3974, 'underli': 3975, 'simmon': 3976, 'walsh': 3977, 'barrel': 3978, 'mormon': 3979, 'robbin': 3980, 'condemn': 3981, 'elm': 3982, 'substitut': 3983, 'bunni': 3984, 'meyer': 3985, 'improvis': 3986, 'fleet': 3987, 'unrel': 3988, 'stalker': 3989, 'carla': 3990, 'palac': 3991, 'roof': 3992, 'unawar': 3993, 'marion': 3994, 'lampoon': 3995, 'alarm': 3996, 'hay': 3997, 'watson': 3998, 'warmth': 3999, 'nyc': 4000, 'firm': 4001, 'rukh': 4002, 'priceless': 4003, 'mtv': 4004, 'errol': 4005, '3d': 4006, 'enthusiasm': 4007, 'greed': 4008, 'shove': 4009, 'vital': 4010, 'disord': 4011, 'novak': 4012, 'edgi': 4013, 'agenda': 4014, 'dolph': 4015, 'alison': 4016, 'exquisit': 4017, 'reid': 4018, 'showdown': 4019, 'peril': 4020, 'valentin': 4021, 'israel': 4022, 'glanc': 4023, 'pamela': 4024, 'simultan': 4025, 'randomli': 4026, '13th': 4027, 'gestur': 4028, 'peck': 4029, 'ponder': 4030, 'thompson': 4031, 'what': 4032, '1933': 4033, 'crown': 4034, 'petti': 4035, 'drip': 4036, 'zizek': 4037, 'sergeant': 4038, 'spain': 4039, 'distort': 4040, 'angela': 4041, 'beatl': 4042, 'testament': 4043, 'coup': 4044, 'iraq': 4045, 'unleash': 4046, 'preserv': 4047, 'minimum': 4048, 'session': 4049, 'campaign': 4050, 'orlean': 4051, 'profit': 4052, 'eastern': 4053, 'championship': 4054, 'cassidi': 4055, 'nun': 4056, 'brenda': 4057, 'calib': 4058, 'rout': 4059, 'reson': 4060, 'han': 4061, 'stroke': 4062, 'contradict': 4063, 'exposit': 4064, 'valley': 4065, 'buster': 4066, 'perpetu': 4067, 'represent': 4068, 'jan': 4069, 'cooki': 4070, 'empathi': 4071, 'gentleman': 4072, 'bro': 4073, 'crow': 4074, 'stake': 4075, 'travesti': 4076, 'unimagin': 4077, 'regist': 4078, 'realm': 4079, 'scotland': 4080, 'wig': 4081, '1984': 4082, 'cream': 4083, 'shootout': 4084, 'mon': 4085, 'quinn': 4086, 'sabrina': 4087, 'din': 4088, 'restrain': 4089, 'climat': 4090, 'crawl': 4091, 'miyazaki': 4092, 'kurosawa': 4093, 'fido': 4094, 'shoddi': 4095, 'delic': 4096, 'warrant': 4097, 'pretens': 4098, 'tacki': 4099, 'greg': 4100, 'businessman': 4101, 'soderbergh': 4102, 'cloud': 4103, '1997': 4104, 'derang': 4105, 'shaki': 4106, 'dana': 4107, 'traumat': 4108, 'passabl': 4109, 'monoton': 4110, 'sucker': 4111, 'abomin': 4112, 'wax': 4113, 'unsatisfi': 4114, 'sammi': 4115, 'unseen': 4116, 'compromis': 4117, 'baldwin': 4118, 'fuller': 4119, 'censor': 4120, '1987': 4121, 'geek': 4122, 'crawford': 4123, 'demis': 4124, 'stargat': 4125, 'perceiv': 4126, 'spacey': 4127, 'mclaglen': 4128, 'femm': 4129, 'distress': 4130, 'josh': 4131, 'absent': 4132, 'ross': 4133, 'pole': 4134, 'painter': 4135, 'darren': 4136, 'ustinov': 4137, 'meryl': 4138, 'correctli': 4139, 'reluct': 4140, 'expedit': 4141, 'wholli': 4142, 'verbal': 4143, 'accuraci': 4144, 'uncov': 4145, '1993': 4146, 'seal': 4147, 'furiou': 4148, 'click': 4149, 'anchor': 4150, 'deceas': 4151, 'polici': 4152, 'austin': 4153, 'fog': 4154, 'sid': 4155, 'tarantino': 4156, 'unravel': 4157, 'kumar': 4158, 'clash': 4159, 'exclus': 4160, 'tech': 4161, 'deniro': 4162, 'norm': 4163, 'fenc': 4164, 'primit': 4165, 'nathan': 4166, 'antonioni': 4167, 'dee': 4168, 'jewel': 4169, 'valid': 4170, 'judgment': 4171, 'logan': 4172, 'ritual': 4173, 'nicola': 4174, 'behold': 4175, 'roller': 4176, 'trait': 4177, 'pocket': 4178, 'malon': 4179, 'sand': 4180, '2008': 4181, 'enforc': 4182, 'unfair': 4183, '1971': 4184, 'tax': 4185, 'debt': 4186, '3000': 4187, 'crippl': 4188, 'patienc': 4189, 'darn': 4190, 'fought': 4191, 'conduct': 4192, 'clerk': 4193, 'dreck': 4194, 'fart': 4195, 'joel': 4196, 'vanc': 4197, 'slam': 4198, 'bake': 4199, 'sustain': 4200, 'sheet': 4201, 'fabric': 4202, 'sunni': 4203, 'murray': 4204, 'seldom': 4205, 'mode': 4206, 'shanghai': 4207, 'temper': 4208, 'wretch': 4209, '1995': 4210, 'wang': 4211, 'hallucin': 4212, 'alec': 4213, 'stark': 4214, 'robber': 4215, 'outlin': 4216, 'clau': 4217, 'shell': 4218, 'soup': 4219, 'conscious': 4220, 'penni': 4221, 'guitar': 4222, 'isabel': 4223, 'bridget': 4224, 'preposter': 4225, 'schedul': 4226, 'bias': 4227, 'despis': 4228, 'pete': 4229, 'canyon': 4230, 'critiqu': 4231, 'stuart': 4232, 'squad': 4233, 'preston': 4234, 'technicolor': 4235, 'grief': 4236, 'legaci': 4237, 'tactic': 4238, 'rita': 4239, 'sweep': 4240, 'divid': 4241, 'runner': 4242, 'phil': 4243, 'fundament': 4244, 'helpless': 4245, 'scriptwrit': 4246, 'exhaust': 4247, 'propos': 4248, 'sugar': 4249, 'flair': 4250, 'jacket': 4251, 'inabl': 4252, 'implic': 4253, 'jodi': 4254, 'culmin': 4255, 'boyl': 4256, 'unexpectedli': 4257, 'vomit': 4258, 'cigarett': 4259, 'russia': 4260, 'gregori': 4261, 'lacklust': 4262, 'connor': 4263, 'rehash': 4264, 'restrict': 4265, 'agenc': 4266, 'newman': 4267, 'marc': 4268, 'liberti': 4269, 'kansa': 4270, 'alley': 4271, 'passag': 4272, 'sniper': 4273, 'drove': 4274, 'rear': 4275, 'delv': 4276, 'bloom': 4277, 'invad': 4278, 'sentinel': 4279, 'consciou': 4280, 'alicia': 4281, 'downey': 4282, 'palanc': 4283, 'arrow': 4284, 'vet': 4285, 'lush': 4286, '1936': 4287, 'tripe': 4288, 'aesthet': 4289, 'rehears': 4290, 'sharon': 4291, 'delet': 4292, 'feat': 4293, 'cap': 4294, 'tendenc': 4295, 'asylum': 4296, 'improb': 4297, 'foxx': 4298, '22': 4299, 'rod': 4300, 'rampag': 4301, 'wrench': 4302, 'awhil': 4303, 'pale': 4304, 'behaviour': 4305, 'horn': 4306, 'mccoy': 4307, 'karl': 4308, 'yeti': 4309, 'bacon': 4310, 'chainsaw': 4311, 'ladder': 4312, 'kolchak': 4313, 'fright': 4314, 'amazon': 4315, 'aristocrat': 4316, 'loneli': 4317, 'underneath': 4318, 'coaster': 4319, 'weav': 4320, 'wagner': 4321, 'lurk': 4322, 'paradis': 4323, 'scoop': 4324, '1920': 4325, '1988': 4326, 'hungri': 4327, 'shortcom': 4328, 'conscienc': 4329, 'newcom': 4330, 'visitor': 4331, 'minu': 4332, 'globe': 4333, 'rhythm': 4334, 'paramount': 4335, 'financ': 4336, 'tasteless': 4337, 'wildli': 4338, '19th': 4339, '1978': 4340, 'suspicion': 4341, 'hulk': 4342, 'prank': 4343, 'sung': 4344, 'filler': 4345, 'el': 4346, 'suffici': 4347, 'hackney': 4348, 'tomorrow': 4349, 'spice': 4350, 'stream': 4351, 'elit': 4352, 'thunderbird': 4353, 'basing': 4354, 'rumor': 4355, 'minist': 4356, '75': 4357, 'ram': 4358, 'paxton': 4359, 'springer': 4360, 'couch': 4361, 'rub': 4362, 'literari': 4363, 'teas': 4364, 'worship': 4365, 'naughti': 4366, '1989': 4367, 'posey': 4368, 'bread': 4369, 'tierney': 4370, 'penn': 4371, 'curli': 4372, 'grudg': 4373, 'ingeni': 4374, 'heist': 4375, 'quietli': 4376, 'straightforward': 4377, 'choppi': 4378, 'beverli': 4379, 'recogniz': 4380, 'hopkin': 4381, 'counterpart': 4382, 'lectur': 4383, 'chamberlain': 4384, 'brit': 4385, 'immers': 4386, 'standout': 4387, 'entranc': 4388, 'chavez': 4389, 'abrupt': 4390, 'iv': 4391, 'cancer': 4392, 'smell': 4393, 'impos': 4394, '1939': 4395, 'en': 4396, 'leigh': 4397, 'dirt': 4398, 'inmat': 4399, 'wwe': 4400, 'secondari': 4401, 'atroc': 4402, 'laurenc': 4403, 'moreov': 4404, 'yearn': 4405, 'duel': 4406, 'nemesi': 4407, 'esther': 4408, 'entitl': 4409, '1986': 4410, 'transcend': 4411, 'ratso': 4412, 'misguid': 4413, 'quaid': 4414, 'geni': 4415, 'variat': 4416, 'ace': 4417, 'morbid': 4418, 'clan': 4419, 'bernard': 4420, 'heartfelt': 4421, 'lindsay': 4422, 'policeman': 4423, 'enthral': 4424, 'skeptic': 4425, 'cattl': 4426, 'injuri': 4427, 'nolan': 4428, 'sublim': 4429, 'missil': 4430, 'net': 4431, 'sassi': 4432, 'watcher': 4433, 'convert': 4434, 'attenborough': 4435, 'facil': 4436, 'graini': 4437, 'bean': 4438, 'hopelessli': 4439, 'youngest': 4440, 'dont': 4441, 'bye': 4442, 'spiral': 4443, 'brood': 4444, 'egg': 4445, 'grin': 4446, 'moder': 4447, 'kidman': 4448, 'steadi': 4449, 'vader': 4450, 'uncut': 4451, 'obstacl': 4452, 'reliabl': 4453, 'artsi': 4454, 'cruelti': 4455, 'tyler': 4456, 'out': 4457, 'puppi': 4458, 'rosemari': 4459, 'characteris': 4460, '1979': 4461, 'diari': 4462, 'buzz': 4463, 'unexplain': 4464, 'setup': 4465, 'mytholog': 4466, 'enabl': 4467, 'carlito': 4468, 'kitti': 4469, 'poe': 4470, 'hk': 4471, '1969': 4472, 'patricia': 4473, 'hain': 4474, 'acquaint': 4475, 'narrow': 4476, 'sweat': 4477, 'bewar': 4478, 'bounc': 4479, 'despic': 4480, 'disastr': 4481, 'preming': 4482, 'underworld': 4483, 'clueless': 4484, 'christin': 4485, 'decept': 4486, 'gina': 4487, 'exterior': 4488, 'heap': 4489, 'hammi': 4490, 'niec': 4491, 'oblig': 4492, 'effici': 4493, 'martha': 4494, 'athlet': 4495, 'bronson': 4496, 'spontan': 4497, 'gillian': 4498, 'weather': 4499, 'baffl': 4500, 'fuel': 4501, 'kline': 4502, 'brendan': 4503, 'biker': 4504, 'renaiss': 4505, 'housewif': 4506, 'rome': 4507, 'shatter': 4508, 'suprem': 4509, '19': 4510, 'analyz': 4511, 'hepburn': 4512, 'injur': 4513, 'loi': 4514, 'viewpoint': 4515, 'dandi': 4516, 'uh': 4517, 'harmless': 4518, 'sooner': 4519, 'enlist': 4520, 'lester': 4521, 'mayhem': 4522, 'astound': 4523, 'scar': 4524, 'virtu': 4525, '73': 4526, 'insipid': 4527, 'dilemma': 4528, 'tick': 4529, 'headach': 4530, 'mermaid': 4531, 'outlaw': 4532, 'loath': 4533, 'circu': 4534, 'preachi': 4535, 'sleepwalk': 4536, 'candl': 4537, 'goof': 4538, 'trigger': 4539, 'fontain': 4540, 'angst': 4541, 'taboo': 4542, 'redund': 4543, 'phenomenon': 4544, 'hostag': 4545, 'immatur': 4546, 'boston': 4547, 'foolish': 4548, 'oldest': 4549, 'surgeri': 4550, 'steer': 4551, 'salt': 4552, 'idol': 4553, 'slimi': 4554, 'ebert': 4555, 'hooker': 4556, 'dismal': 4557, 'intric': 4558, 'whore': 4559, 'zoom': 4560, 'corbett': 4561, 'claustrophob': 4562, 'overlong': 4563, 'cassavet': 4564, 'tripl': 4565, 'amor': 4566, 'glorifi': 4567, 'gere': 4568, 'spade': 4569, 'scorses': 4570, 'stair': 4571, 'dish': 4572, 'fluff': 4573, 'contempt': 4574, 'stimul': 4575, 'hokey': 4576, 'filth': 4577, 'bent': 4578, 'macho': 4579, 'ariel': 4580, 'camcord': 4581, 'guin': 4582, 'sox': 4583, 'gasp': 4584, 'muscl': 4585, '1976': 4586, 'antagonist': 4587, '1981': 4588, 'spree': 4589, 'transplant': 4590, 'flirt': 4591, 'shred': 4592, 'down': 4593, 'assert': 4594, 'cush': 4595, 'mutual': 4596, 'frantic': 4597, 'alvin': 4598, 'perman': 4599, 'mount': 4600, 'faint': 4601, 'trivia': 4602, 'harold': 4603, 'gabl': 4604, 'spinal': 4605, 'margin': 4606, 'shield': 4607, 'remad': 4608, 'flashi': 4609, 'keen': 4610, 'flag': 4611, 'beard': 4612, 'messi': 4613, 'naschi': 4614, 'fascist': 4615, 'astronaut': 4616, 'proport': 4617, 'preced': 4618, 'zane': 4619, 'strongest': 4620, 'conquer': 4621, 'obligatori': 4622, 'joker': 4623, 'cow': 4624, 'schlock': 4625, 'nolt': 4626, 'cohen': 4627, 'dwarf': 4628, 'corman': 4629, 'rhyme': 4630, 'widescreen': 4631, 'radiat': 4632, 'interestingli': 4633, 'carey': 4634, 'persuad': 4635, 'triangl': 4636, 'sensual': 4637, 'archiv': 4638, 'departur': 4639, 'ritchi': 4640, 'boob': 4641, 'info': 4642, '28': 4643, 'mobil': 4644, 'neurot': 4645, 'divin': 4646, 'fishburn': 4647, 'instruct': 4648, 'claud': 4649, 'someday': 4650, 'wield': 4651, 'resum': 4652, 'vaniti': 4653, 'barn': 4654, 'scandal': 4655, 'bitten': 4656, '95': 4657, 'aborigin': 4658, 'repris': 4659, 'inflict': 4660, '1945': 4661, 'www': 4662, 'raj': 4663, 'off': 4664, 'danish': 4665, 'brush': 4666, 'flock': 4667, 'deer': 4668, 'mol': 4669, 'bachelor': 4670, 'strive': 4671, 'discern': 4672, 'hara': 4673, 'casino': 4674, 'cher': 4675, 'frontier': 4676, 'dylan': 4677, 'prophet': 4678, 'kathryn': 4679, 'cycl': 4680, 'miracul': 4681, 'banter': 4682, 'anton': 4683, 'melissa': 4684, 'dim': 4685, 'pixar': 4686, 'proclaim': 4687, 'submit': 4688, 'axe': 4689, 'helm': 4690, 'dame': 4691, 'recit': 4692, 'parson': 4693, 'bate': 4694, 'wendigo': 4695, 'traffic': 4696, 'clad': 4697, 'cliffhang': 4698, 'senior': 4699, 'luka': 4700, 'loretta': 4701, 'fragil': 4702, 'rot': 4703, 'vibrant': 4704, 'pacif': 4705, 'hapless': 4706, 'carlo': 4707, 'mobster': 4708, 'hilar': 4709, 'earnest': 4710, 'hug': 4711, 'timberlak': 4712, 'undermin': 4713, 'harrison': 4714, 'colin': 4715, 'cb': 4716, 'neill': 4717, 'artwork': 4718, 'ish': 4719, 'jade': 4720, 'pickford': 4721, 'biblic': 4722, 'heartwarm': 4723, 'europa': 4724, 'venom': 4725, 'razor': 4726, 'mathieu': 4727, 'vile': 4728, 'breakfast': 4729, 'akin': 4730, 'sicken': 4731, 'rooki': 4732, 'blatantli': 4733, 'estrang': 4734, 'toronto': 4735, 'nope': 4736, 'static': 4737, 'misfortun': 4738, 'jordan': 4739, 'redneck': 4740, 'orphan': 4741, 'lucil': 4742, 'eli': 4743, 'token': 4744, 'seedi': 4745, 'jo': 4746, 'lui': 4747, 'winchest': 4748, 'feast': 4749, 'cerebr': 4750, 'legitim': 4751, 'trier': 4752, 'holocaust': 4753, 'articl': 4754, 'wardrob': 4755, 'electron': 4756, 'bondag': 4757, 'mason': 4758, 'bikini': 4759, 'choke': 4760, 'northern': 4761, 'http': 4762, 'illus': 4763, 'aris': 4764, 'foil': 4765, 'marlon': 4766, 'antholog': 4767, 'vanessa': 4768, 'uma': 4769, 'flavor': 4770, 'isra': 4771, 'milo': 4772, 'pc': 4773, 'shepherd': 4774, 'alexandr': 4775, 'oppon': 4776, 'peer': 4777, 'howl': 4778, 'ceremoni': 4779, 'ideolog': 4780, 'abund': 4781, 'nightclub': 4782, 'shorter': 4783, 'smack': 4784, 'audrey': 4785, 'huston': 4786, 'linear': 4787, 'charlton': 4788, 'glare': 4789, 'deem': 4790, 'cartoonish': 4791, 'turd': 4792, 'wrestler': 4793, 'psych': 4794, 'retriev': 4795, 'gilbert': 4796, 'swept': 4797, 'highway': 4798, 'styliz': 4799, 'fifth': 4800, 'feminin': 4801, 'disregard': 4802, 'affleck': 4803, 'outdat': 4804, 'clinic': 4805, 'boyer': 4806, 'dudley': 4807, 'tack': 4808, 'knightley': 4809, 'comprehend': 4810, 'frog': 4811, 'gunga': 4812, 'leather': 4813, 'magician': 4814, 'corn': 4815, 'snatch': 4816, 'sleaz': 4817, 'durat': 4818, 'summar': 4819, 'newer': 4820, 'braveheart': 4821, 'greet': 4822, 'plate': 4823, 'breakdown': 4824, 'conrad': 4825, 'moe': 4826, 'bastard': 4827, 'salman': 4828, '1994': 4829, 'collector': 4830, 'energet': 4831, 'mitch': 4832, 'spine': 4833, 'monument': 4834, 'einstein': 4835, '1991': 4836, 'lifeless': 4837, 'senat': 4838, 'lavish': 4839, 'uniformli': 4840, 'compris': 4841, 'boo': 4842, 'cemeteri': 4843, 'client': 4844, 'phenomen': 4845, 'tara': 4846, 'evolut': 4847, '4th': 4848, 'goldsworthi': 4849, 'spawn': 4850, 'cuban': 4851, 'chip': 4852, 'deliver': 4853, 'btw': 4854, 'whack': 4855, 'lighter': 4856, 'toe': 4857, 'bogu': 4858, 'potter': 4859, 'lex': 4860, 'historian': 4861, 'randolph': 4862, 'sorrow': 4863, 'cecil': 4864, 'embark': 4865, 'ie': 4866, 'undead': 4867, 'jedi': 4868, 'replay': 4869, 'outright': 4870, 'kent': 4871, 'appl': 4872, 'occup': 4873, 'spectacl': 4874, 'bulk': 4875, 'neatli': 4876, 'constitut': 4877, 'belli': 4878, 'signal': 4879, 'alleg': 4880, 'undertak': 4881, 'jule': 4882, 'capot': 4883, 'pronounc': 4884, 'fluid': 4885, 'jare': 4886, 'creek': 4887, 'judd': 4888, '1974': 4889, 'eleven': 4890, 'luxuri': 4891, 'liu': 4892, 'firmli': 4893, 'gilliam': 4894, '1977': 4895, 'clara': 4896, 'wtf': 4897, 'jam': 4898, 'healthi': 4899, 'evelyn': 4900, 'nina': 4901, 'trauma': 4902, 'inaccuraci': 4903, 'mcqueen': 4904, 'armstrong': 4905, 'bori': 4906, 'ol': 4907, 'kazan': 4908, 'comb': 4909, 'pepper': 4910, 'goldblum': 4911, 'porter': 4912, 'inaccur': 4913, 'carmen': 4914, 'roar': 4915, 'unattract': 4916, 'mum': 4917, 'fruit': 4918, 'vain': 4919, 'decapit': 4920, 'miami': 4921, 'kiddi': 4922, 'spray': 4923, 'subtli': 4924, 'rosario': 4925, 'relentless': 4926, 'forgiven': 4927, 'genet': 4928, 'unsuspect': 4929, 'curtain': 4930, 'truman': 4931, 'inclus': 4932, 'lauren': 4933, 'basket': 4934, 'walt': 4935, 'aussi': 4936, 'poker': 4937, 'bsg': 4938, 'paula': 4939, '1985': 4940, 'cape': 4941, 'vignett': 4942, 'abound': 4943, 'propheci': 4944, 'comprehens': 4945, 'pioneer': 4946, 'blur': 4947, 'id': 4948, 'sacrif': 4949, 'groan': 4950, 'galaxi': 4951, 'knee': 4952, 'congratul': 4953, 'sidewalk': 4954, 'meal': 4955, 'miniseri': 4956, 'antonio': 4957, 'lanc': 4958, 'tokyo': 4959, 'bait': 4960, 'conan': 4961, 'ash': 4962, 'palm': 4963, 'rapidli': 4964, 'vastli': 4965, 'ingrid': 4966, 'mice': 4967, 'monti': 4968, 'turtl': 4969, 'substanti': 4970, 'asset': 4971, 'incorrect': 4972, 'motorcycl': 4973, 'verg': 4974, 'drone': 4975, 'hostil': 4976, 'masterson': 4977, 'weaker': 4978, 'detach': 4979, 'epitom': 4980, 'bravo': 4981, 'bach': 4982, 'profil': 4983, 'dubiou': 4984, 'omin': 4985, 'sophi': 4986, 'modest': 4987, 'growth': 4988, 'scariest': 4989, 'spill': 4990, 'playboy': 4991, 'frontal': 4992, 'optimist': 4993, 'ghetto': 4994, 'cypher': 4995, '21st': 4996, 'weari': 4997, 'victorian': 4998, 'orchestr': 4999}\n"
     ]
    }
   ],
   "source": [
    "word_dict = build_dict(train_X)\n",
    "print(word_dict)"
   ]
  },
  {
   "cell_type": "markdown",
   "metadata": {},
   "source": [
    "**Question:** What are the five most frequently appearing (tokenized) words in the training set? Does it makes sense that these words appear frequently in the training set?"
   ]
  },
  {
   "cell_type": "markdown",
   "metadata": {},
   "source": [
    "**Answer:**"
   ]
  },
  {
   "cell_type": "code",
   "execution_count": 45,
   "metadata": {},
   "outputs": [],
   "source": [
    "# TODO: Use this space to determine the five most frequently appearing words in the training set\n"
   ]
  },
  {
   "cell_type": "markdown",
   "metadata": {},
   "source": [
    "### Save `word_dict`\n",
    "\n",
    "Later on when we construct an endpoint which processes a submitted review we will need to make use of the `word_dict` which we have created. As such, we will save it to a file now for future use."
   ]
  },
  {
   "cell_type": "code",
   "execution_count": 46,
   "metadata": {},
   "outputs": [],
   "source": [
    "data_dir = '../data/pytorch' # The folder we will use for storing data\n",
    "if not os.path.exists(data_dir): # Make sure that the folder exists\n",
    "    os.makedirs(data_dir)"
   ]
  },
  {
   "cell_type": "code",
   "execution_count": 47,
   "metadata": {},
   "outputs": [],
   "source": [
    "with open(os.path.join(data_dir, 'word_dict.pkl'), \"wb\") as f:\n",
    "    pickle.dump(word_dict, f)"
   ]
  },
  {
   "cell_type": "markdown",
   "metadata": {},
   "source": [
    "### Transform the reviews\n",
    "\n",
    "Now that we have our word dictionary which allows us to transform the words appearing in the reviews into integers, it is time to make use of it and convert our reviews to their integer sequence representation, making sure to pad or truncate to a fixed length, which in our case is `500`."
   ]
  },
  {
   "cell_type": "code",
   "execution_count": 48,
   "metadata": {},
   "outputs": [],
   "source": [
    "def convert_and_pad(word_dict, sentence, pad=500):\n",
    "    NOWORD = 0 # We will use 0 to represent the 'no word' category\n",
    "    INFREQ = 1 # and we use 1 to represent the infrequent words, i.e., words not appearing in word_dict\n",
    "    \n",
    "    working_sentence = [NOWORD] * pad\n",
    "    \n",
    "    for word_index, word in enumerate(sentence[:pad]):\n",
    "        if word in word_dict:\n",
    "            working_sentence[word_index] = word_dict[word]\n",
    "        else:\n",
    "            working_sentence[word_index] = INFREQ\n",
    "            \n",
    "    return working_sentence, min(len(sentence), pad)\n",
    "\n",
    "def convert_and_pad_data(word_dict, data, pad=500):\n",
    "    result = []\n",
    "    lengths = []\n",
    "    \n",
    "    for sentence in data:\n",
    "        converted, leng = convert_and_pad(word_dict, sentence, pad)\n",
    "        result.append(converted)\n",
    "        lengths.append(leng)\n",
    "        \n",
    "    return np.array(result), np.array(lengths)"
   ]
  },
  {
   "cell_type": "code",
   "execution_count": 49,
   "metadata": {},
   "outputs": [],
   "source": [
    "train_X, train_X_len = convert_and_pad_data(word_dict, train_X)\n",
    "test_X, test_X_len = convert_and_pad_data(word_dict, test_X)"
   ]
  },
  {
   "cell_type": "markdown",
   "metadata": {},
   "source": [
    "As a quick check to make sure that things are working as intended, check to see what one of the reviews in the training set looks like after having been processeed. Does this look reasonable? What is the length of a review in the training set?"
   ]
  },
  {
   "cell_type": "code",
   "execution_count": 57,
   "metadata": {},
   "outputs": [
    {
     "name": "stdout",
     "output_type": "stream",
     "text": [
      "25000 25000\n",
      "25000 25000\n"
     ]
    }
   ],
   "source": [
    "# Use this cell to examine one of the processed reviews to make sure everything is working as intended.\n",
    "\n",
    "print(len(train_X),len(train_X_len))\n",
    "\n",
    "print(len(test_X),len(test_X_len))"
   ]
  },
  {
   "cell_type": "code",
   "execution_count": 60,
   "metadata": {},
   "outputs": [
    {
     "name": "stdout",
     "output_type": "stream",
     "text": [
      "500 500\n"
     ]
    }
   ],
   "source": [
    "print(len(train_X[200]), len(test_X[200]))"
   ]
  },
  {
   "cell_type": "markdown",
   "metadata": {},
   "source": [
    "**Question:** In the cells above we use the `preprocess_data` and `convert_and_pad_data` methods to process both the training and testing set. Why or why not might this be a problem?"
   ]
  },
  {
   "cell_type": "markdown",
   "metadata": {},
   "source": [
    "**Answer:**"
   ]
  },
  {
   "cell_type": "markdown",
   "metadata": {},
   "source": [
    "## Step 3: Upload the data to S3\n",
    "\n",
    "As in the XGBoost notebook, we will need to upload the training dataset to S3 in order for our training code to access it. For now we will save it locally and we will upload to S3 later on.\n",
    "\n",
    "### Save the processed training dataset locally\n",
    "\n",
    "It is important to note the format of the data that we are saving as we will need to know it when we write the training code. In our case, each row of the dataset has the form `label`, `length`, `review[500]` where `review[500]` is a sequence of `500` integers representing the words in the review."
   ]
  },
  {
   "cell_type": "code",
   "execution_count": 61,
   "metadata": {},
   "outputs": [],
   "source": [
    "import pandas as pd\n",
    "    \n",
    "pd.concat([pd.DataFrame(train_y), pd.DataFrame(train_X_len), pd.DataFrame(train_X)], axis=1) \\\n",
    "        .to_csv(os.path.join(data_dir, 'train.csv'), header=False, index=False)"
   ]
  },
  {
   "cell_type": "markdown",
   "metadata": {},
   "source": [
    "### Uploading the training data\n",
    "\n",
    "\n",
    "Next, we need to upload the training data to the SageMaker default S3 bucket so that we can provide access to it while training our model."
   ]
  },
  {
   "cell_type": "code",
   "execution_count": 62,
   "metadata": {},
   "outputs": [],
   "source": [
    "import sagemaker\n",
    "\n",
    "sagemaker_session = sagemaker.Session()\n",
    "\n",
    "bucket = sagemaker_session.default_bucket()\n",
    "prefix = 'sagemaker/sentiment_rnn'\n",
    "\n",
    "role = sagemaker.get_execution_role()"
   ]
  },
  {
   "cell_type": "code",
   "execution_count": 63,
   "metadata": {},
   "outputs": [],
   "source": [
    "input_data = sagemaker_session.upload_data(path=data_dir, bucket=bucket, key_prefix=prefix)"
   ]
  },
  {
   "cell_type": "markdown",
   "metadata": {},
   "source": [
    "**NOTE:** The cell above uploads the entire contents of our data directory. This includes the `word_dict.pkl` file. This is fortunate as we will need this later on when we create an endpoint that accepts an arbitrary review. For now, we will just take note of the fact that it resides in the data directory (and so also in the S3 training bucket) and that we will need to make sure it gets saved in the model directory."
   ]
  },
  {
   "cell_type": "markdown",
   "metadata": {},
   "source": [
    "## Step 4: Build and Train the PyTorch Model\n",
    "\n",
    "In the XGBoost notebook we discussed what a model is in the SageMaker framework. In particular, a model comprises three objects\n",
    "\n",
    " - Model Artifacts,\n",
    " - Training Code, and\n",
    " - Inference Code,\n",
    " \n",
    "each of which interact with one another. In the XGBoost example we used training and inference code that was provided by Amazon. Here we will still be using containers provided by Amazon with the added benefit of being able to include our own custom code.\n",
    "\n",
    "We will start by implementing our own neural network in PyTorch along with a training script. For the purposes of this project we have provided the necessary model object in the `model.py` file, inside of the `train` folder. You can see the provided implementation by running the cell below."
   ]
  },
  {
   "cell_type": "code",
   "execution_count": 64,
   "metadata": {},
   "outputs": [
    {
     "name": "stdout",
     "output_type": "stream",
     "text": [
      "\u001b[34mimport\u001b[39;49;00m \u001b[04m\u001b[36mtorch\u001b[39;49;00m\u001b[04m\u001b[36m.\u001b[39;49;00m\u001b[04m\u001b[36mnn\u001b[39;49;00m \u001b[34mas\u001b[39;49;00m \u001b[04m\u001b[36mnn\u001b[39;49;00m\n",
      "\n",
      "\u001b[34mclass\u001b[39;49;00m \u001b[04m\u001b[32mLSTMClassifier\u001b[39;49;00m(nn.Module):\n",
      "    \u001b[33m\"\"\"\u001b[39;49;00m\n",
      "\u001b[33m    This is the simple RNN model we will be using to perform Sentiment Analysis.\u001b[39;49;00m\n",
      "\u001b[33m    \"\"\"\u001b[39;49;00m\n",
      "\n",
      "    \u001b[34mdef\u001b[39;49;00m \u001b[32m__init__\u001b[39;49;00m(\u001b[36mself\u001b[39;49;00m, embedding_dim, hidden_dim, vocab_size):\n",
      "        \u001b[33m\"\"\"\u001b[39;49;00m\n",
      "\u001b[33m        Initialize the model by settingg up the various layers.\u001b[39;49;00m\n",
      "\u001b[33m        \"\"\"\u001b[39;49;00m\n",
      "        \u001b[36msuper\u001b[39;49;00m(LSTMClassifier, \u001b[36mself\u001b[39;49;00m).\u001b[32m__init__\u001b[39;49;00m()\n",
      "\n",
      "        \u001b[36mself\u001b[39;49;00m.embedding = nn.Embedding(vocab_size, embedding_dim, padding_idx=\u001b[34m0\u001b[39;49;00m)\n",
      "        \u001b[36mself\u001b[39;49;00m.lstm = nn.LSTM(embedding_dim, hidden_dim)\n",
      "        \u001b[36mself\u001b[39;49;00m.dense = nn.Linear(in_features=hidden_dim, out_features=\u001b[34m1\u001b[39;49;00m)\n",
      "        \u001b[36mself\u001b[39;49;00m.sig = nn.Sigmoid()\n",
      "        \n",
      "        \u001b[36mself\u001b[39;49;00m.word_dict = \u001b[34mNone\u001b[39;49;00m\n",
      "\n",
      "    \u001b[34mdef\u001b[39;49;00m \u001b[32mforward\u001b[39;49;00m(\u001b[36mself\u001b[39;49;00m, x):\n",
      "        \u001b[33m\"\"\"\u001b[39;49;00m\n",
      "\u001b[33m        Perform a forward pass of our model on some input.\u001b[39;49;00m\n",
      "\u001b[33m        \"\"\"\u001b[39;49;00m\n",
      "        x = x.t()\n",
      "        lengths = x[\u001b[34m0\u001b[39;49;00m,:]\n",
      "        reviews = x[\u001b[34m1\u001b[39;49;00m:,:]\n",
      "        embeds = \u001b[36mself\u001b[39;49;00m.embedding(reviews)\n",
      "        lstm_out, _ = \u001b[36mself\u001b[39;49;00m.lstm(embeds)\n",
      "        out = \u001b[36mself\u001b[39;49;00m.dense(lstm_out)\n",
      "        out = out[lengths - \u001b[34m1\u001b[39;49;00m, \u001b[36mrange\u001b[39;49;00m(\u001b[36mlen\u001b[39;49;00m(lengths))]\n",
      "        \u001b[34mreturn\u001b[39;49;00m \u001b[36mself\u001b[39;49;00m.sig(out.squeeze())\n"
     ]
    }
   ],
   "source": [
    "!pygmentize train/model.py"
   ]
  },
  {
   "cell_type": "markdown",
   "metadata": {},
   "source": [
    "The important takeaway from the implementation provided is that there are three parameters that we may wish to tweak to improve the performance of our model. These are the embedding dimension, the hidden dimension and the size of the vocabulary. We will likely want to make these parameters configurable in the training script so that if we wish to modify them we do not need to modify the script itself. We will see how to do this later on. To start we will write some of the training code in the notebook so that we can more easily diagnose any issues that arise.\n",
    "\n",
    "First we will load a small portion of the training data set to use as a sample. It would be very time consuming to try and train the model completely in the notebook as we do not have access to a gpu and the compute instance that we are using is not particularly powerful. However, we can work on a small bit of the data to get a feel for how our training script is behaving."
   ]
  },
  {
   "cell_type": "code",
   "execution_count": 65,
   "metadata": {},
   "outputs": [],
   "source": [
    "import torch\n",
    "import torch.utils.data\n",
    "\n",
    "# Read in only the first 250 rows\n",
    "train_sample = pd.read_csv(os.path.join(data_dir, 'train.csv'), header=None, names=None, nrows=250)\n",
    "\n",
    "# Turn the input pandas dataframe into tensors\n",
    "train_sample_y = torch.from_numpy(train_sample[[0]].values).float().squeeze()\n",
    "train_sample_X = torch.from_numpy(train_sample.drop([0], axis=1).values).long()\n",
    "\n",
    "# Build the dataset\n",
    "train_sample_ds = torch.utils.data.TensorDataset(train_sample_X, train_sample_y)\n",
    "# Build the dataloader\n",
    "train_sample_dl = torch.utils.data.DataLoader(train_sample_ds, batch_size=50)"
   ]
  },
  {
   "cell_type": "markdown",
   "metadata": {},
   "source": [
    "### (TODO) Writing the training method\n",
    "\n",
    "Next we need to write the training code itself. This should be very similar to training methods that you have written before to train PyTorch models. We will leave any difficult aspects such as model saving / loading and parameter loading until a little later."
   ]
  },
  {
   "cell_type": "code",
   "execution_count": 66,
   "metadata": {},
   "outputs": [],
   "source": [
    "def train(model, train_loader, epochs, optimizer, loss_fn, device):\n",
    "    for epoch in range(1, epochs + 1):\n",
    "        model.train()\n",
    "        total_loss = 0\n",
    "        for batch in train_loader:         \n",
    "            batch_X, batch_y = batch\n",
    "            \n",
    "            batch_X = batch_X.to(device)\n",
    "            batch_y = batch_y.to(device)\n",
    "            \n",
    "            # TODO: Complete this train method to train the model provided.\n",
    "            optimizer.zero_grad()\n",
    "            \n",
    "            output = model(batch_X)\n",
    "            loss = loss_fn(output, batch_y)\n",
    "            \n",
    "            loss.backward()\n",
    "            optimizer.step()\n",
    "            \n",
    "            \n",
    "            total_loss += loss.data.item()\n",
    "        print(\"Epoch: {}, BCELoss: {}\".format(epoch, total_loss / len(train_loader)))"
   ]
  },
  {
   "cell_type": "markdown",
   "metadata": {},
   "source": [
    "Supposing we have the training method above, we will test that it is working by writing a bit of code in the notebook that executes our training method on the small sample training set that we loaded earlier. The reason for doing this in the notebook is so that we have an opportunity to fix any errors that arise early when they are easier to diagnose."
   ]
  },
  {
   "cell_type": "code",
   "execution_count": 67,
   "metadata": {},
   "outputs": [
    {
     "name": "stdout",
     "output_type": "stream",
     "text": [
      "Epoch: 1, BCELoss: 0.692365038394928\n",
      "Epoch: 2, BCELoss: 0.6848453760147095\n",
      "Epoch: 3, BCELoss: 0.6785355806350708\n",
      "Epoch: 4, BCELoss: 0.6711219906806946\n",
      "Epoch: 5, BCELoss: 0.6612425804138183\n"
     ]
    }
   ],
   "source": [
    "import torch.optim as optim\n",
    "from train.model import LSTMClassifier\n",
    "\n",
    "device = torch.device(\"cuda\" if torch.cuda.is_available() else \"cpu\")\n",
    "model = LSTMClassifier(32, 100, 5000).to(device)\n",
    "optimizer = optim.Adam(model.parameters())\n",
    "loss_fn = torch.nn.BCELoss()\n",
    "\n",
    "train(model, train_sample_dl, 5, optimizer, loss_fn, device)"
   ]
  },
  {
   "cell_type": "markdown",
   "metadata": {},
   "source": [
    "In order to construct a PyTorch model using SageMaker we must provide SageMaker with a training script. We may optionally include a directory which will be copied to the container and from which our training code will be run. When the training container is executed it will check the uploaded directory (if there is one) for a `requirements.txt` file and install any required Python libraries, after which the training script will be run."
   ]
  },
  {
   "cell_type": "markdown",
   "metadata": {},
   "source": [
    "### (TODO) Training the model\n",
    "\n",
    "When a PyTorch model is constructed in SageMaker, an entry point must be specified. This is the Python file which will be executed when the model is trained. Inside of the `train` directory is a file called `train.py` which has been provided and which contains most of the necessary code to train our model. The only thing that is missing is the implementation of the `train()` method which you wrote earlier in this notebook.\n",
    "\n",
    "**TODO**: Copy the `train()` method written above and paste it into the `train/train.py` file where required.\n",
    "\n",
    "The way that SageMaker passes hyperparameters to the training script is by way of arguments. These arguments can then be parsed and used in the training script. To see how this is done take a look at the provided `train/train.py` file."
   ]
  },
  {
   "cell_type": "code",
   "execution_count": 70,
   "metadata": {},
   "outputs": [],
   "source": [
    "from sagemaker.pytorch import PyTorch\n",
    "\n",
    "estimator = PyTorch(entry_point=\"train.py\",\n",
    "                    source_dir=\"train\",\n",
    "                    role=role,\n",
    "                    framework_version='0.4.0',\n",
    "                    train_instance_count=1,\n",
    "                    train_instance_type='ml.p2.xlarge',\n",
    "                    hyperparameters={\n",
    "                        'epochs': 20,\n",
    "                        'hidden_dim': 300,\n",
    "                    })"
   ]
  },
  {
   "cell_type": "code",
   "execution_count": 71,
   "metadata": {},
   "outputs": [
    {
     "name": "stderr",
     "output_type": "stream",
     "text": [
      "'create_image_uri' will be deprecated in favor of 'ImageURIProvider' class in SageMaker Python SDK v2.\n",
      "'s3_input' class will be renamed to 'TrainingInput' in SageMaker Python SDK v2.\n",
      "'create_image_uri' will be deprecated in favor of 'ImageURIProvider' class in SageMaker Python SDK v2.\n"
     ]
    },
    {
     "name": "stdout",
     "output_type": "stream",
     "text": [
      "2020-07-29 22:21:08 Starting - Starting the training job...\n",
      "2020-07-29 22:21:11 Starting - Launching requested ML instances......\n",
      "2020-07-29 22:22:25 Starting - Preparing the instances for training.........\n",
      "2020-07-29 22:23:46 Downloading - Downloading input data...\n",
      "2020-07-29 22:24:24 Training - Downloading the training image...\n",
      "2020-07-29 22:24:53 Training - Training image download completed. Training in progress.\u001b[34mbash: cannot set terminal process group (-1): Inappropriate ioctl for device\u001b[0m\n",
      "\u001b[34mbash: no job control in this shell\u001b[0m\n",
      "\u001b[34m2020-07-29 22:24:53,615 sagemaker-containers INFO     Imported framework sagemaker_pytorch_container.training\u001b[0m\n",
      "\u001b[34m2020-07-29 22:24:53,641 sagemaker_pytorch_container.training INFO     Block until all host DNS lookups succeed.\u001b[0m\n",
      "\u001b[34m2020-07-29 22:24:56,689 sagemaker_pytorch_container.training INFO     Invoking user training script.\u001b[0m\n",
      "\u001b[34m2020-07-29 22:24:56,934 sagemaker-containers INFO     Module train does not provide a setup.py. \u001b[0m\n",
      "\u001b[34mGenerating setup.py\u001b[0m\n",
      "\u001b[34m2020-07-29 22:24:56,934 sagemaker-containers INFO     Generating setup.cfg\u001b[0m\n",
      "\u001b[34m2020-07-29 22:24:56,935 sagemaker-containers INFO     Generating MANIFEST.in\u001b[0m\n",
      "\u001b[34m2020-07-29 22:24:56,935 sagemaker-containers INFO     Installing module with the following command:\u001b[0m\n",
      "\u001b[34m/usr/bin/python -m pip install -U . -r requirements.txt\u001b[0m\n",
      "\u001b[34mProcessing /opt/ml/code\u001b[0m\n",
      "\u001b[34mCollecting pandas (from -r requirements.txt (line 1))\n",
      "  Downloading https://files.pythonhosted.org/packages/74/24/0cdbf8907e1e3bc5a8da03345c23cbed7044330bb8f73bb12e711a640a00/pandas-0.24.2-cp35-cp35m-manylinux1_x86_64.whl (10.0MB)\u001b[0m\n",
      "\u001b[34mCollecting numpy (from -r requirements.txt (line 2))\u001b[0m\n",
      "\u001b[34m  Downloading https://files.pythonhosted.org/packages/b5/36/88723426b4ff576809fec7d73594fe17a35c27f8d01f93637637a29ae25b/numpy-1.18.5-cp35-cp35m-manylinux1_x86_64.whl (19.9MB)\u001b[0m\n",
      "\u001b[34mCollecting nltk (from -r requirements.txt (line 3))\n",
      "  Downloading https://files.pythonhosted.org/packages/92/75/ce35194d8e3022203cca0d2f896dbb88689f9b3fce8e9f9cff942913519d/nltk-3.5.zip (1.4MB)\u001b[0m\n",
      "\u001b[34mCollecting beautifulsoup4 (from -r requirements.txt (line 4))\n",
      "  Downloading https://files.pythonhosted.org/packages/66/25/ff030e2437265616a1e9b25ccc864e0371a0bc3adb7c5a404fd661c6f4f6/beautifulsoup4-4.9.1-py3-none-any.whl (115kB)\u001b[0m\n",
      "\u001b[34mCollecting html5lib (from -r requirements.txt (line 5))\n",
      "  Downloading https://files.pythonhosted.org/packages/6c/dd/a834df6482147d48e225a49515aabc28974ad5a4ca3215c18a882565b028/html5lib-1.1-py2.py3-none-any.whl (112kB)\u001b[0m\n",
      "\u001b[34mRequirement already satisfied, skipping upgrade: python-dateutil>=2.5.0 in /usr/local/lib/python3.5/dist-packages (from pandas->-r requirements.txt (line 1)) (2.7.5)\u001b[0m\n",
      "\u001b[34mCollecting pytz>=2011k (from pandas->-r requirements.txt (line 1))\n",
      "  Downloading https://files.pythonhosted.org/packages/4f/a4/879454d49688e2fad93e59d7d4efda580b783c745fd2ec2a3adf87b0808d/pytz-2020.1-py2.py3-none-any.whl (510kB)\u001b[0m\n",
      "\u001b[34mRequirement already satisfied, skipping upgrade: click in /usr/local/lib/python3.5/dist-packages (from nltk->-r requirements.txt (line 3)) (7.0)\u001b[0m\n",
      "\u001b[34mCollecting joblib (from nltk->-r requirements.txt (line 3))\n",
      "  Downloading https://files.pythonhosted.org/packages/28/5c/cf6a2b65a321c4a209efcdf64c2689efae2cb62661f8f6f4bb28547cf1bf/joblib-0.14.1-py2.py3-none-any.whl (294kB)\u001b[0m\n",
      "\u001b[34mCollecting regex (from nltk->-r requirements.txt (line 3))\n",
      "  Downloading https://files.pythonhosted.org/packages/09/c3/ddaa87500f31ed86290e3d014c0302a51fde28d7139eda0b5f33733726db/regex-2020.7.14.tar.gz (690kB)\u001b[0m\n",
      "\u001b[34mCollecting tqdm (from nltk->-r requirements.txt (line 3))\u001b[0m\n",
      "\u001b[34m  Downloading https://files.pythonhosted.org/packages/af/88/7b0ea5fa8192d1733dea459a9e3059afc87819cb4072c43263f2ec7ab768/tqdm-4.48.0-py2.py3-none-any.whl (67kB)\u001b[0m\n",
      "\u001b[34mCollecting soupsieve>1.2 (from beautifulsoup4->-r requirements.txt (line 4))\n",
      "  Downloading https://files.pythonhosted.org/packages/6f/8f/457f4a5390eeae1cc3aeab89deb7724c965be841ffca6cfca9197482e470/soupsieve-2.0.1-py3-none-any.whl\u001b[0m\n",
      "\u001b[34mCollecting webencodings (from html5lib->-r requirements.txt (line 5))\n",
      "  Downloading https://files.pythonhosted.org/packages/f4/24/2a3e3df732393fed8b3ebf2ec078f05546de641fe1b667ee316ec1dcf3b7/webencodings-0.5.1-py2.py3-none-any.whl\u001b[0m\n",
      "\u001b[34mRequirement already satisfied, skipping upgrade: six>=1.9 in /usr/local/lib/python3.5/dist-packages (from html5lib->-r requirements.txt (line 5)) (1.11.0)\u001b[0m\n",
      "\u001b[34mBuilding wheels for collected packages: nltk, train, regex\n",
      "  Running setup.py bdist_wheel for nltk: started\u001b[0m\n",
      "\u001b[34m  Running setup.py bdist_wheel for nltk: finished with status 'done'\n",
      "  Stored in directory: /root/.cache/pip/wheels/ae/8c/3f/b1fe0ba04555b08b57ab52ab7f86023639a526d8bc8d384306\n",
      "  Running setup.py bdist_wheel for train: started\n",
      "  Running setup.py bdist_wheel for train: finished with status 'done'\n",
      "  Stored in directory: /tmp/pip-ephem-wheel-cache-u836rkl4/wheels/35/24/16/37574d11bf9bde50616c67372a334f94fa8356bc7164af8ca3\n",
      "  Running setup.py bdist_wheel for regex: started\u001b[0m\n",
      "\u001b[34m  Running setup.py bdist_wheel for regex: finished with status 'done'\n",
      "  Stored in directory: /root/.cache/pip/wheels/53/55/dc/e17fa4568958f4c53be34b65e474a1327b64641f65df379ec3\u001b[0m\n",
      "\u001b[34mSuccessfully built nltk train regex\u001b[0m\n",
      "\u001b[34mInstalling collected packages: pytz, numpy, pandas, joblib, regex, tqdm, nltk, soupsieve, beautifulsoup4, webencodings, html5lib, train\n",
      "  Found existing installation: numpy 1.15.4\n",
      "    Uninstalling numpy-1.15.4:\u001b[0m\n",
      "\u001b[34m      Successfully uninstalled numpy-1.15.4\u001b[0m\n",
      "\u001b[34mSuccessfully installed beautifulsoup4-4.9.1 html5lib-1.1 joblib-0.14.1 nltk-3.5 numpy-1.18.5 pandas-0.24.2 pytz-2020.1 regex-2020.7.14 soupsieve-2.0.1 tqdm-4.48.0 train-1.0.0 webencodings-0.5.1\u001b[0m\n",
      "\u001b[34mYou are using pip version 18.1, however version 20.2 is available.\u001b[0m\n",
      "\u001b[34mYou should consider upgrading via the 'pip install --upgrade pip' command.\u001b[0m\n",
      "\u001b[34m2020-07-29 22:25:20,556 sagemaker-containers INFO     Invoking user script\n",
      "\u001b[0m\n",
      "\u001b[34mTraining Env:\n",
      "\u001b[0m\n",
      "\u001b[34m{\n",
      "    \"channel_input_dirs\": {\n",
      "        \"training\": \"/opt/ml/input/data/training\"\n",
      "    },\n",
      "    \"additional_framework_parameters\": {},\n",
      "    \"framework_module\": \"sagemaker_pytorch_container.training:main\",\n",
      "    \"hyperparameters\": {\n",
      "        \"hidden_dim\": 300,\n",
      "        \"epochs\": 20\n",
      "    },\n",
      "    \"output_intermediate_dir\": \"/opt/ml/output/intermediate\",\n",
      "    \"user_entry_point\": \"train.py\",\n",
      "    \"module_name\": \"train\",\n",
      "    \"num_gpus\": 1,\n",
      "    \"network_interface_name\": \"eth0\",\n",
      "    \"hosts\": [\n",
      "        \"algo-1\"\n",
      "    ],\n",
      "    \"current_host\": \"algo-1\",\n",
      "    \"output_dir\": \"/opt/ml/output\",\n",
      "    \"input_dir\": \"/opt/ml/input\",\n",
      "    \"module_dir\": \"s3://sagemaker-us-east-1-094260901417/sagemaker-pytorch-2020-07-29-22-21-08-279/source/sourcedir.tar.gz\",\n",
      "    \"num_cpus\": 4,\n",
      "    \"output_data_dir\": \"/opt/ml/output/data\",\n",
      "    \"job_name\": \"sagemaker-pytorch-2020-07-29-22-21-08-279\",\n",
      "    \"input_data_config\": {\n",
      "        \"training\": {\n",
      "            \"RecordWrapperType\": \"None\",\n",
      "            \"S3DistributionType\": \"FullyReplicated\",\n",
      "            \"TrainingInputMode\": \"File\"\n",
      "        }\n",
      "    },\n",
      "    \"model_dir\": \"/opt/ml/model\",\n",
      "    \"input_config_dir\": \"/opt/ml/input/config\",\n",
      "    \"log_level\": 20,\n",
      "    \"resource_config\": {\n",
      "        \"network_interface_name\": \"eth0\",\n",
      "        \"current_host\": \"algo-1\",\n",
      "        \"hosts\": [\n",
      "            \"algo-1\"\n",
      "        ]\n",
      "    }\u001b[0m\n",
      "\u001b[34m}\n",
      "\u001b[0m\n",
      "\u001b[34mEnvironment variables:\n",
      "\u001b[0m\n",
      "\u001b[34mSM_MODEL_DIR=/opt/ml/model\u001b[0m\n",
      "\u001b[34mSM_LOG_LEVEL=20\u001b[0m\n",
      "\u001b[34mSM_FRAMEWORK_MODULE=sagemaker_pytorch_container.training:main\u001b[0m\n",
      "\u001b[34mSM_INPUT_DIR=/opt/ml/input\u001b[0m\n",
      "\u001b[34mSM_HP_EPOCHS=20\u001b[0m\n",
      "\u001b[34mSM_USER_ARGS=[\"--epochs\",\"20\",\"--hidden_dim\",\"300\"]\u001b[0m\n",
      "\u001b[34mSM_OUTPUT_INTERMEDIATE_DIR=/opt/ml/output/intermediate\u001b[0m\n",
      "\u001b[34mSM_HPS={\"epochs\":20,\"hidden_dim\":300}\u001b[0m\n",
      "\u001b[34mSM_TRAINING_ENV={\"additional_framework_parameters\":{},\"channel_input_dirs\":{\"training\":\"/opt/ml/input/data/training\"},\"current_host\":\"algo-1\",\"framework_module\":\"sagemaker_pytorch_container.training:main\",\"hosts\":[\"algo-1\"],\"hyperparameters\":{\"epochs\":20,\"hidden_dim\":300},\"input_config_dir\":\"/opt/ml/input/config\",\"input_data_config\":{\"training\":{\"RecordWrapperType\":\"None\",\"S3DistributionType\":\"FullyReplicated\",\"TrainingInputMode\":\"File\"}},\"input_dir\":\"/opt/ml/input\",\"job_name\":\"sagemaker-pytorch-2020-07-29-22-21-08-279\",\"log_level\":20,\"model_dir\":\"/opt/ml/model\",\"module_dir\":\"s3://sagemaker-us-east-1-094260901417/sagemaker-pytorch-2020-07-29-22-21-08-279/source/sourcedir.tar.gz\",\"module_name\":\"train\",\"network_interface_name\":\"eth0\",\"num_cpus\":4,\"num_gpus\":1,\"output_data_dir\":\"/opt/ml/output/data\",\"output_dir\":\"/opt/ml/output\",\"output_intermediate_dir\":\"/opt/ml/output/intermediate\",\"resource_config\":{\"current_host\":\"algo-1\",\"hosts\":[\"algo-1\"],\"network_interface_name\":\"eth0\"},\"user_entry_point\":\"train.py\"}\u001b[0m\n",
      "\u001b[34mSM_NUM_GPUS=1\u001b[0m\n",
      "\u001b[34mSM_CURRENT_HOST=algo-1\u001b[0m\n",
      "\u001b[34mSM_CHANNELS=[\"training\"]\u001b[0m\n",
      "\u001b[34mSM_INPUT_DATA_CONFIG={\"training\":{\"RecordWrapperType\":\"None\",\"S3DistributionType\":\"FullyReplicated\",\"TrainingInputMode\":\"File\"}}\u001b[0m\n",
      "\u001b[34mSM_RESOURCE_CONFIG={\"current_host\":\"algo-1\",\"hosts\":[\"algo-1\"],\"network_interface_name\":\"eth0\"}\u001b[0m\n",
      "\u001b[34mSM_NUM_CPUS=4\u001b[0m\n",
      "\u001b[34mSM_MODULE_DIR=s3://sagemaker-us-east-1-094260901417/sagemaker-pytorch-2020-07-29-22-21-08-279/source/sourcedir.tar.gz\u001b[0m\n",
      "\u001b[34mSM_FRAMEWORK_PARAMS={}\u001b[0m\n",
      "\u001b[34mSM_OUTPUT_DIR=/opt/ml/output\u001b[0m\n",
      "\u001b[34mSM_HP_HIDDEN_DIM=300\u001b[0m\n",
      "\u001b[34mSM_MODULE_NAME=train\u001b[0m\n",
      "\u001b[34mSM_INPUT_CONFIG_DIR=/opt/ml/input/config\u001b[0m\n",
      "\u001b[34mSM_CHANNEL_TRAINING=/opt/ml/input/data/training\u001b[0m\n",
      "\u001b[34mSM_HOSTS=[\"algo-1\"]\u001b[0m\n",
      "\u001b[34mPYTHONPATH=/usr/local/bin:/usr/lib/python35.zip:/usr/lib/python3.5:/usr/lib/python3.5/plat-x86_64-linux-gnu:/usr/lib/python3.5/lib-dynload:/usr/local/lib/python3.5/dist-packages:/usr/lib/python3/dist-packages\u001b[0m\n",
      "\u001b[34mSM_NETWORK_INTERFACE_NAME=eth0\u001b[0m\n",
      "\u001b[34mSM_OUTPUT_DATA_DIR=/opt/ml/output/data\u001b[0m\n",
      "\u001b[34mSM_USER_ENTRY_POINT=train.py\n",
      "\u001b[0m\n",
      "\u001b[34mInvoking script with the following command:\n",
      "\u001b[0m\n",
      "\u001b[34m/usr/bin/python -m train --epochs 20 --hidden_dim 300\n",
      "\n",
      "\u001b[0m\n",
      "\u001b[34mUsing device cuda.\u001b[0m\n",
      "\u001b[34mGet train data loader.\u001b[0m\n",
      "\u001b[34mModel loaded with embedding_dim 32, hidden_dim 300, vocab_size 5000.\u001b[0m\n",
      "\u001b[34mEpoch: 1, BCELoss: 0.6763711121617532\u001b[0m\n",
      "\u001b[34mEpoch: 2, BCELoss: 0.6622029421280842\u001b[0m\n",
      "\u001b[34mEpoch: 3, BCELoss: 0.6071666016870615\u001b[0m\n",
      "\u001b[34mEpoch: 4, BCELoss: 0.5173314706403382\u001b[0m\n",
      "\u001b[34mEpoch: 5, BCELoss: 0.44769680135104123\u001b[0m\n",
      "\u001b[34mEpoch: 6, BCELoss: 0.3919952238092617\u001b[0m\n",
      "\u001b[34mEpoch: 7, BCELoss: 0.34970421572120824\u001b[0m\n",
      "\u001b[34mEpoch: 8, BCELoss: 0.3273405213745273\u001b[0m\n",
      "\u001b[34mEpoch: 9, BCELoss: 0.32831374905547317\u001b[0m\n",
      "\u001b[34mEpoch: 10, BCELoss: 0.3030102976730892\u001b[0m\n",
      "\u001b[34mEpoch: 11, BCELoss: 0.2952908791449605\u001b[0m\n",
      "\u001b[34mEpoch: 12, BCELoss: 0.2692429998091289\u001b[0m\n",
      "\u001b[34mEpoch: 13, BCELoss: 0.26414743765276305\u001b[0m\n",
      "\u001b[34mEpoch: 14, BCELoss: 0.25476109403736735\u001b[0m\n",
      "\u001b[34mEpoch: 15, BCELoss: 0.24135846933540034\u001b[0m\n",
      "\u001b[34mEpoch: 16, BCELoss: 0.2476394711708536\u001b[0m\n",
      "\u001b[34mEpoch: 17, BCELoss: 0.23345085096602536\u001b[0m\n",
      "\u001b[34mEpoch: 18, BCELoss: 0.22588764343942916\u001b[0m\n",
      "\u001b[34mEpoch: 19, BCELoss: 0.22870681450075034\u001b[0m\n",
      "\u001b[34mEpoch: 20, BCELoss: 0.21453043788063283\u001b[0m\n",
      "\u001b[34m2020-07-29 22:34:03,835 sagemaker-containers INFO     Reporting training SUCCESS\u001b[0m\n",
      "\n",
      "2020-07-29 22:35:00 Uploading - Uploading generated training model\n",
      "2020-07-29 22:35:07 Completed - Training job completed\n",
      "Training seconds: 681\n",
      "Billable seconds: 681\n"
     ]
    }
   ],
   "source": [
    "estimator.fit({'training': input_data})"
   ]
  },
  {
   "cell_type": "markdown",
   "metadata": {},
   "source": [
    "Using device cuda.\n",
    "Get train data loader.\n",
    "Model loaded with embedding_dim 32, hidden_dim 200, vocab_size 5000.\n",
    "Epoch: 1, BCELoss: 0.6674582787922451\n",
    "Epoch: 2, BCELoss: 0.5762372734595318\n",
    "Epoch: 3, BCELoss: 0.4880001678758738\n",
    "Epoch: 4, BCELoss: 0.42161805167490124\n",
    "Epoch: 5, BCELoss: 0.37822913941071956\n",
    "Epoch: 6, BCELoss: 0.38156822323799133\n",
    "Epoch: 7, BCELoss: 0.33343508778786174\n",
    "Epoch: 8, BCELoss: 0.31636993921532924\n",
    "Epoch: 9, BCELoss: 0.2882076088263064\n",
    "Epoch: 10, BCELoss: 0.28627637606494283\n",
    "2020-07-29 22:19:10,408 sagemaker-containers INFO     Reporting training SUCCESS\n",
    "\n",
    "2020-07-29 22:19:23 Uploading - Uploading generated training model\n",
    "2020-07-29 22:19:23 Completed - Training job completed\n",
    "Training seconds: 281\n",
    "Billable seconds: 281"
   ]
  },
  {
   "cell_type": "markdown",
   "metadata": {},
   "source": [
    "## Step 5: Testing the model\n",
    "\n",
    "As mentioned at the top of this notebook, we will be testing this model by first deploying it and then sending the testing data to the deployed endpoint. We will do this so that we can make sure that the deployed model is working correctly.\n",
    "\n",
    "## Step 6: Deploy the model for testing\n",
    "\n",
    "Now that we have trained our model, we would like to test it to see how it performs. Currently our model takes input of the form `review_length, review[500]` where `review[500]` is a sequence of `500` integers which describe the words present in the review, encoded using `word_dict`. Fortunately for us, SageMaker provides built-in inference code for models with simple inputs such as this.\n",
    "\n",
    "There is one thing that we need to provide, however, and that is a function which loads the saved model. This function must be called `model_fn()` and takes as its only parameter a path to the directory where the model artifacts are stored. This function must also be present in the python file which we specified as the entry point. In our case the model loading function has been provided and so no changes need to be made.\n",
    "\n",
    "**NOTE**: When the built-in inference code is run it must import the `model_fn()` method from the `train.py` file. This is why the training code is wrapped in a main guard ( ie, `if __name__ == '__main__':` )\n",
    "\n",
    "Since we don't need to change anything in the code that was uploaded during training, we can simply deploy the current model as-is.\n",
    "\n",
    "**NOTE:** When deploying a model you are asking SageMaker to launch an compute instance that will wait for data to be sent to it. As a result, this compute instance will continue to run until *you* shut it down. This is important to know since the cost of a deployed endpoint depends on how long it has been running for.\n",
    "\n",
    "In other words **If you are no longer using a deployed endpoint, shut it down!**\n",
    "\n",
    "**TODO:** Deploy the trained model."
   ]
  },
  {
   "cell_type": "code",
   "execution_count": 130,
   "metadata": {},
   "outputs": [
    {
     "data": {
      "text/plain": [
       "<sagemaker.pytorch.estimator.PyTorch at 0x7f8ece8cd080>"
      ]
     },
     "execution_count": 130,
     "metadata": {},
     "output_type": "execute_result"
    }
   ],
   "source": [
    "estimator"
   ]
  },
  {
   "cell_type": "code",
   "execution_count": 131,
   "metadata": {},
   "outputs": [
    {
     "name": "stderr",
     "output_type": "stream",
     "text": [
      "Parameter image will be renamed to image_uri in SageMaker Python SDK v2.\n",
      "'create_image_uri' will be deprecated in favor of 'ImageURIProvider' class in SageMaker Python SDK v2.\n",
      "Using already existing model: sagemaker-pytorch-2020-07-29-22-21-08-279\n"
     ]
    },
    {
     "name": "stdout",
     "output_type": "stream",
     "text": [
      "---------------!"
     ]
    }
   ],
   "source": [
    "# TODO: Deploy the trained model\n",
    "predictor = estimator.deploy(initial_instance_count=1, instance_type='ml.m4.xlarge')"
   ]
  },
  {
   "cell_type": "markdown",
   "metadata": {},
   "source": [
    "## Step 7 - Use the model for testing\n",
    "\n",
    "Once deployed, we can read in the test data and send it off to our deployed model to get some results. Once we collect all of the results we can determine how accurate our model is."
   ]
  },
  {
   "cell_type": "code",
   "execution_count": 73,
   "metadata": {},
   "outputs": [
    {
     "name": "stdout",
     "output_type": "stream",
     "text": [
      "   0    0    1    2     3     4    5     6     7     8    ...  490  491  492  \\\n",
      "0   48  135    1   80    20    29   28   169  4831  2790  ...    0    0    0   \n",
      "1  145  136    2   21  2060   283    1  4260     1   325  ...    0    0    0   \n",
      "2   73    1    1    1   165    38    1  2967  1095  2477  ...    0    0    0   \n",
      "3  406    1  343   97     1  4092   52   587   482   617  ...    0    0    0   \n",
      "4   33  174    2   56    47     2  291    19   605  3158  ...    0    0    0   \n",
      "\n",
      "   493  494  495  496  497  498  499  \n",
      "0    0    0    0    0    0    0    0  \n",
      "1    0    0    0    0    0    0    0  \n",
      "2    0    0    0    0    0    0    0  \n",
      "3    0    0    0    0    0    0    0  \n",
      "4    0    0    0    0    0    0    0  \n",
      "\n",
      "[5 rows x 501 columns]\n"
     ]
    }
   ],
   "source": [
    "test_X = pd.concat([pd.DataFrame(test_X_len), pd.DataFrame(test_X)], axis=1)\n",
    "print(test_X.head())"
   ]
  },
  {
   "cell_type": "code",
   "execution_count": 74,
   "metadata": {},
   "outputs": [],
   "source": [
    "# We split the data into chunks and send each chunk seperately, accumulating the results.\n",
    "\n",
    "def predict(data, rows=512):\n",
    "    split_array = np.array_split(data, int(data.shape[0] / float(rows) + 1))\n",
    "    predictions = np.array([])\n",
    "    for array in split_array:\n",
    "        predictions = np.append(predictions, predictor.predict(array))\n",
    "    \n",
    "    return predictions"
   ]
  },
  {
   "cell_type": "code",
   "execution_count": 75,
   "metadata": {},
   "outputs": [],
   "source": [
    "predictions = predict(test_X.values)\n",
    "predictions = [round(num) for num in predictions]"
   ]
  },
  {
   "cell_type": "code",
   "execution_count": 76,
   "metadata": {},
   "outputs": [
    {
     "data": {
      "text/plain": [
       "0.84192"
      ]
     },
     "execution_count": 76,
     "metadata": {},
     "output_type": "execute_result"
    }
   ],
   "source": [
    "from sklearn.metrics import accuracy_score\n",
    "accuracy_score(test_y, predictions)"
   ]
  },
  {
   "cell_type": "markdown",
   "metadata": {},
   "source": [
    "**Question:** How does this model compare to the XGBoost model you created earlier? Why might these two models perform differently on this dataset? Which do *you* think is better for sentiment analysis?"
   ]
  },
  {
   "cell_type": "markdown",
   "metadata": {},
   "source": [
    "**Answer:**"
   ]
  },
  {
   "cell_type": "markdown",
   "metadata": {},
   "source": [
    "### (TODO) More testing\n",
    "\n",
    "We now have a trained model which has been deployed and which we can send processed reviews to and which returns the predicted sentiment. However, ultimately we would like to be able to send our model an unprocessed review. That is, we would like to send the review itself as a string. For example, suppose we wish to send the following review to our model."
   ]
  },
  {
   "cell_type": "code",
   "execution_count": 77,
   "metadata": {},
   "outputs": [],
   "source": [
    "test_review = 'The simplest pleasures in life are the best, and this film is one of them. Combining a rather basic storyline of love and adventure this movie transcends the usual weekend fair with wit and unmitigated charm.'"
   ]
  },
  {
   "cell_type": "markdown",
   "metadata": {},
   "source": [
    "The question we now need to answer is, how do we send this review to our model?\n",
    "\n",
    "Recall in the first section of this notebook we did a bunch of data processing to the IMDb dataset. In particular, we did two specific things to the provided reviews.\n",
    " - Removed any html tags and stemmed the input\n",
    " - Encoded the review as a sequence of integers using `word_dict`\n",
    " \n",
    "In order process the review we will need to repeat these two steps.\n",
    "\n",
    "**TODO**: Using the `review_to_words` and `convert_and_pad` methods from section one, convert `test_review` into a numpy array `test_data` suitable to send to our model. Remember that our model expects input of the form `review_length, review[500]`."
   ]
  },
  {
   "cell_type": "code",
   "execution_count": 132,
   "metadata": {},
   "outputs": [],
   "source": [
    "# TODO: Convert test_review into a form usable by the model and save the results in test_data\n",
    "test_data = convert_and_pad(word_dict, review_to_words(test_review)) # convert_and_pad_data(word_dict, train_X)\n",
    "test_data_review, test_data_length = test_data\n",
    "\n",
    "test_data = [test_data_length] + test_data_review\n",
    "test_data = np.array([test_data])\n"
   ]
  },
  {
   "cell_type": "code",
   "execution_count": 133,
   "metadata": {},
   "outputs": [
    {
     "data": {
      "text/plain": [
       "(1, 501)"
      ]
     },
     "execution_count": 133,
     "metadata": {},
     "output_type": "execute_result"
    }
   ],
   "source": [
    "test_data.shape"
   ]
  },
  {
   "cell_type": "markdown",
   "metadata": {},
   "source": [
    "Now that we have processed the review, we can send the resulting array to our model to predict the sentiment of the review."
   ]
  },
  {
   "cell_type": "code",
   "execution_count": 134,
   "metadata": {},
   "outputs": [
    {
     "data": {
      "text/plain": [
       "array(0.9209711, dtype=float32)"
      ]
     },
     "execution_count": 134,
     "metadata": {},
     "output_type": "execute_result"
    }
   ],
   "source": [
    "predictor.predict(test_data)"
   ]
  },
  {
   "cell_type": "markdown",
   "metadata": {},
   "source": [
    "Since the return value of our model is close to `1`, we can be certain that the review we submitted is positive."
   ]
  },
  {
   "cell_type": "markdown",
   "metadata": {},
   "source": [
    "### Delete the endpoint\n",
    "\n",
    "Of course, just like in the XGBoost notebook, once we've deployed an endpoint it continues to run until we tell it to shut down. Since we are done using our endpoint for now, we can delete it."
   ]
  },
  {
   "cell_type": "code",
   "execution_count": 136,
   "metadata": {},
   "outputs": [],
   "source": [
    "predictor.delete_endpoint()"
   ]
  },
  {
   "cell_type": "markdown",
   "metadata": {},
   "source": [
    "## Step 6 (again) - Deploy the model for the web app\n",
    "\n",
    "Now that we know that our model is working, it's time to create some custom inference code so that we can send the model a review which has not been processed and have it determine the sentiment of the review.\n",
    "\n",
    "As we saw above, by default the estimator which we created, when deployed, will use the entry script and directory which we provided when creating the model. However, since we now wish to accept a string as input and our model expects a processed review, we need to write some custom inference code.\n",
    "\n",
    "We will store the code that we write in the `serve` directory. Provided in this directory is the `model.py` file that we used to construct our model, a `utils.py` file which contains the `review_to_words` and `convert_and_pad` pre-processing functions which we used during the initial data processing, and `predict.py`, the file which will contain our custom inference code. Note also that `requirements.txt` is present which will tell SageMaker what Python libraries are required by our custom inference code.\n",
    "\n",
    "When deploying a PyTorch model in SageMaker, you are expected to provide four functions which the SageMaker inference container will use.\n",
    " - `model_fn`: This function is the same function that we used in the training script and it tells SageMaker how to load our model.\n",
    " - `input_fn`: This function receives the raw serialized input that has been sent to the model's endpoint and its job is to de-serialize and make the input available for the inference code.\n",
    " - `output_fn`: This function takes the output of the inference code and its job is to serialize this output and return it to the caller of the model's endpoint.\n",
    " - `predict_fn`: The heart of the inference script, this is where the actual prediction is done and is the function which you will need to complete.\n",
    "\n",
    "For the simple website that we are constructing during this project, the `input_fn` and `output_fn` methods are relatively straightforward. We only require being able to accept a string as input and we expect to return a single value as output. You might imagine though that in a more complex application the input or output may be image data or some other binary data which would require some effort to serialize.\n",
    "\n",
    "### (TODO) Writing inference code\n",
    "\n",
    "Before writing our custom inference code, we will begin by taking a look at the code which has been provided."
   ]
  },
  {
   "cell_type": "code",
   "execution_count": 135,
   "metadata": {},
   "outputs": [
    {
     "name": "stdout",
     "output_type": "stream",
     "text": [
      "\u001b[34mimport\u001b[39;49;00m \u001b[04m\u001b[36margparse\u001b[39;49;00m\n",
      "\u001b[34mimport\u001b[39;49;00m \u001b[04m\u001b[36mjson\u001b[39;49;00m\n",
      "\u001b[34mimport\u001b[39;49;00m \u001b[04m\u001b[36mos\u001b[39;49;00m\n",
      "\u001b[34mimport\u001b[39;49;00m \u001b[04m\u001b[36mpickle\u001b[39;49;00m\n",
      "\u001b[34mimport\u001b[39;49;00m \u001b[04m\u001b[36msys\u001b[39;49;00m\n",
      "\u001b[34mimport\u001b[39;49;00m \u001b[04m\u001b[36msagemaker_containers\u001b[39;49;00m\n",
      "\u001b[34mimport\u001b[39;49;00m \u001b[04m\u001b[36mpandas\u001b[39;49;00m \u001b[34mas\u001b[39;49;00m \u001b[04m\u001b[36mpd\u001b[39;49;00m\n",
      "\u001b[34mimport\u001b[39;49;00m \u001b[04m\u001b[36mnumpy\u001b[39;49;00m \u001b[34mas\u001b[39;49;00m \u001b[04m\u001b[36mnp\u001b[39;49;00m\n",
      "\u001b[34mimport\u001b[39;49;00m \u001b[04m\u001b[36mtorch\u001b[39;49;00m\n",
      "\u001b[34mimport\u001b[39;49;00m \u001b[04m\u001b[36mtorch\u001b[39;49;00m\u001b[04m\u001b[36m.\u001b[39;49;00m\u001b[04m\u001b[36mnn\u001b[39;49;00m \u001b[34mas\u001b[39;49;00m \u001b[04m\u001b[36mnn\u001b[39;49;00m\n",
      "\u001b[34mimport\u001b[39;49;00m \u001b[04m\u001b[36mtorch\u001b[39;49;00m\u001b[04m\u001b[36m.\u001b[39;49;00m\u001b[04m\u001b[36moptim\u001b[39;49;00m \u001b[34mas\u001b[39;49;00m \u001b[04m\u001b[36moptim\u001b[39;49;00m\n",
      "\u001b[34mimport\u001b[39;49;00m \u001b[04m\u001b[36mtorch\u001b[39;49;00m\u001b[04m\u001b[36m.\u001b[39;49;00m\u001b[04m\u001b[36mutils\u001b[39;49;00m\u001b[04m\u001b[36m.\u001b[39;49;00m\u001b[04m\u001b[36mdata\u001b[39;49;00m\n",
      "\n",
      "\u001b[34mfrom\u001b[39;49;00m \u001b[04m\u001b[36mmodel\u001b[39;49;00m \u001b[34mimport\u001b[39;49;00m LSTMClassifier\n",
      "\n",
      "\u001b[34mfrom\u001b[39;49;00m \u001b[04m\u001b[36mutils\u001b[39;49;00m \u001b[34mimport\u001b[39;49;00m review_to_words, convert_and_pad\n",
      "\n",
      "\u001b[34mdef\u001b[39;49;00m \u001b[32mmodel_fn\u001b[39;49;00m(model_dir):\n",
      "    \u001b[33m\"\"\"Load the PyTorch model from the `model_dir` directory.\"\"\"\u001b[39;49;00m\n",
      "    \u001b[36mprint\u001b[39;49;00m(\u001b[33m\"\u001b[39;49;00m\u001b[33mLoading model.\u001b[39;49;00m\u001b[33m\"\u001b[39;49;00m)\n",
      "\n",
      "    \u001b[37m# First, load the parameters used to create the model.\u001b[39;49;00m\n",
      "    model_info = {}\n",
      "    model_info_path = os.path.join(model_dir, \u001b[33m'\u001b[39;49;00m\u001b[33mmodel_info.pth\u001b[39;49;00m\u001b[33m'\u001b[39;49;00m)\n",
      "    \u001b[34mwith\u001b[39;49;00m \u001b[36mopen\u001b[39;49;00m(model_info_path, \u001b[33m'\u001b[39;49;00m\u001b[33mrb\u001b[39;49;00m\u001b[33m'\u001b[39;49;00m) \u001b[34mas\u001b[39;49;00m f:\n",
      "        model_info = torch.load(f)\n",
      "\n",
      "    \u001b[36mprint\u001b[39;49;00m(\u001b[33m\"\u001b[39;49;00m\u001b[33mmodel_info: \u001b[39;49;00m\u001b[33m{}\u001b[39;49;00m\u001b[33m\"\u001b[39;49;00m.format(model_info))\n",
      "\n",
      "    \u001b[37m# Determine the device and construct the model.\u001b[39;49;00m\n",
      "    device = torch.device(\u001b[33m\"\u001b[39;49;00m\u001b[33mcuda\u001b[39;49;00m\u001b[33m\"\u001b[39;49;00m \u001b[34mif\u001b[39;49;00m torch.cuda.is_available() \u001b[34melse\u001b[39;49;00m \u001b[33m\"\u001b[39;49;00m\u001b[33mcpu\u001b[39;49;00m\u001b[33m\"\u001b[39;49;00m)\n",
      "    model = LSTMClassifier(model_info[\u001b[33m'\u001b[39;49;00m\u001b[33membedding_dim\u001b[39;49;00m\u001b[33m'\u001b[39;49;00m], model_info[\u001b[33m'\u001b[39;49;00m\u001b[33mhidden_dim\u001b[39;49;00m\u001b[33m'\u001b[39;49;00m], model_info[\u001b[33m'\u001b[39;49;00m\u001b[33mvocab_size\u001b[39;49;00m\u001b[33m'\u001b[39;49;00m])\n",
      "\n",
      "    \u001b[37m# Load the store model parameters.\u001b[39;49;00m\n",
      "    model_path = os.path.join(model_dir, \u001b[33m'\u001b[39;49;00m\u001b[33mmodel.pth\u001b[39;49;00m\u001b[33m'\u001b[39;49;00m)\n",
      "    \u001b[34mwith\u001b[39;49;00m \u001b[36mopen\u001b[39;49;00m(model_path, \u001b[33m'\u001b[39;49;00m\u001b[33mrb\u001b[39;49;00m\u001b[33m'\u001b[39;49;00m) \u001b[34mas\u001b[39;49;00m f:\n",
      "        model.load_state_dict(torch.load(f))\n",
      "\n",
      "    \u001b[37m# Load the saved word_dict.\u001b[39;49;00m\n",
      "    word_dict_path = os.path.join(model_dir, \u001b[33m'\u001b[39;49;00m\u001b[33mword_dict.pkl\u001b[39;49;00m\u001b[33m'\u001b[39;49;00m)\n",
      "    \u001b[34mwith\u001b[39;49;00m \u001b[36mopen\u001b[39;49;00m(word_dict_path, \u001b[33m'\u001b[39;49;00m\u001b[33mrb\u001b[39;49;00m\u001b[33m'\u001b[39;49;00m) \u001b[34mas\u001b[39;49;00m f:\n",
      "        model.word_dict = pickle.load(f)\n",
      "\n",
      "    model.to(device).eval()\n",
      "\n",
      "    \u001b[36mprint\u001b[39;49;00m(\u001b[33m\"\u001b[39;49;00m\u001b[33mDone loading model.\u001b[39;49;00m\u001b[33m\"\u001b[39;49;00m)\n",
      "    \u001b[34mreturn\u001b[39;49;00m model\n",
      "\n",
      "\u001b[34mdef\u001b[39;49;00m \u001b[32minput_fn\u001b[39;49;00m(serialized_input_data, content_type):\n",
      "    \u001b[36mprint\u001b[39;49;00m(\u001b[33m'\u001b[39;49;00m\u001b[33mDeserializing the input data.\u001b[39;49;00m\u001b[33m'\u001b[39;49;00m)\n",
      "    \u001b[34mif\u001b[39;49;00m content_type == \u001b[33m'\u001b[39;49;00m\u001b[33mtext/plain\u001b[39;49;00m\u001b[33m'\u001b[39;49;00m:\n",
      "        data = serialized_input_data.decode(\u001b[33m'\u001b[39;49;00m\u001b[33mutf-8\u001b[39;49;00m\u001b[33m'\u001b[39;49;00m)\n",
      "        \u001b[34mreturn\u001b[39;49;00m data\n",
      "    \u001b[34mraise\u001b[39;49;00m \u001b[36mException\u001b[39;49;00m(\u001b[33m'\u001b[39;49;00m\u001b[33mRequested unsupported ContentType in content_type: \u001b[39;49;00m\u001b[33m'\u001b[39;49;00m + content_type)\n",
      "\n",
      "\u001b[34mdef\u001b[39;49;00m \u001b[32moutput_fn\u001b[39;49;00m(prediction_output, accept):\n",
      "    \u001b[36mprint\u001b[39;49;00m(\u001b[33m'\u001b[39;49;00m\u001b[33mSerializing the generated output.\u001b[39;49;00m\u001b[33m'\u001b[39;49;00m)\n",
      "    \u001b[34mreturn\u001b[39;49;00m \u001b[36mstr\u001b[39;49;00m(prediction_output)\n",
      "\n",
      "\u001b[34mdef\u001b[39;49;00m \u001b[32mpredict_fn\u001b[39;49;00m(input_data, model):\n",
      "    \u001b[36mprint\u001b[39;49;00m(\u001b[33m'\u001b[39;49;00m\u001b[33mInferring sentiment of input data.\u001b[39;49;00m\u001b[33m'\u001b[39;49;00m)\n",
      "\n",
      "    device = torch.device(\u001b[33m\"\u001b[39;49;00m\u001b[33mcuda\u001b[39;49;00m\u001b[33m\"\u001b[39;49;00m \u001b[34mif\u001b[39;49;00m torch.cuda.is_available() \u001b[34melse\u001b[39;49;00m \u001b[33m\"\u001b[39;49;00m\u001b[33mcpu\u001b[39;49;00m\u001b[33m\"\u001b[39;49;00m)\n",
      "    \n",
      "    \u001b[34mif\u001b[39;49;00m model.word_dict \u001b[35mis\u001b[39;49;00m \u001b[34mNone\u001b[39;49;00m:\n",
      "        \u001b[34mraise\u001b[39;49;00m \u001b[36mException\u001b[39;49;00m(\u001b[33m'\u001b[39;49;00m\u001b[33mModel has not been loaded properly, no word_dict.\u001b[39;49;00m\u001b[33m'\u001b[39;49;00m)\n",
      "    \n",
      "    \u001b[37m# TODO: Process input_data so that it is ready to be sent to our model.\u001b[39;49;00m\n",
      "    \u001b[37m#       You should produce two variables:\u001b[39;49;00m\n",
      "    \u001b[37m#         data_X   - A sequence of length 500 which represents the converted review\u001b[39;49;00m\n",
      "    \u001b[37m#         data_len - The length of the review\u001b[39;49;00m\n",
      "\n",
      "    data_X = \u001b[34mNone\u001b[39;49;00m\n",
      "    data_len = \u001b[34mNone\u001b[39;49;00m\n",
      "\n",
      "    \u001b[37m# Using data_X and data_len we construct an appropriate input tensor. Remember\u001b[39;49;00m\n",
      "    \u001b[37m# that our model expects input data of the form 'len, review[500]'.\u001b[39;49;00m\n",
      "    data_pack = np.hstack((data_len, data_X))\n",
      "    data_pack = data_pack.reshape(\u001b[34m1\u001b[39;49;00m, -\u001b[34m1\u001b[39;49;00m)\n",
      "    \n",
      "    data = torch.from_numpy(data_pack)\n",
      "    data = data.to(device)\n",
      "\n",
      "    \u001b[37m# Make sure to put the model into evaluation mode\u001b[39;49;00m\n",
      "    model.eval()\n",
      "\n",
      "    \u001b[37m# TODO: Compute the result of applying the model to the input data. The variable `result` should\u001b[39;49;00m\n",
      "    \u001b[37m#       be a numpy array which contains a single integer which is either 1 or 0\u001b[39;49;00m\n",
      "\n",
      "    result = \u001b[34mNone\u001b[39;49;00m\n",
      "\n",
      "    \u001b[34mreturn\u001b[39;49;00m result\n"
     ]
    }
   ],
   "source": [
    "!pygmentize serve/predict.py"
   ]
  },
  {
   "cell_type": "markdown",
   "metadata": {},
   "source": [
    "As mentioned earlier, the `model_fn` method is the same as the one provided in the training code and the `input_fn` and `output_fn` methods are very simple and your task will be to complete the `predict_fn` method. Make sure that you save the completed file as `predict.py` in the `serve` directory.\n",
    "\n",
    "**TODO**: Complete the `predict_fn()` method in the `serve/predict.py` file."
   ]
  },
  {
   "cell_type": "markdown",
   "metadata": {},
   "source": [
    "### Deploying the model\n",
    "\n",
    "Now that the custom inference code has been written, we will create and deploy our model. To begin with, we need to construct a new PyTorchModel object which points to the model artifacts created during training and also points to the inference code that we wish to use. Then we can call the deploy method to launch the deployment container.\n",
    "\n",
    "**NOTE**: The default behaviour for a deployed PyTorch model is to assume that any input passed to the predictor is a `numpy` array. In our case we want to send a string so we need to construct a simple wrapper around the `RealTimePredictor` class to accomodate simple strings. In a more complicated situation you may want to provide a serialization object, for example if you wanted to sent image data."
   ]
  },
  {
   "cell_type": "code",
   "execution_count": null,
   "metadata": {},
   "outputs": [],
   "source": [
    "from sagemaker.predictor import RealTimePredictor\n",
    "from sagemaker.pytorch import PyTorchModel\n",
    "\n",
    "class StringPredictor(RealTimePredictor):\n",
    "    def __init__(self, endpoint_name, sagemaker_session):\n",
    "        super(StringPredictor, self).__init__(endpoint_name, sagemaker_session, content_type='text/plain')\n",
    "\n",
    "model = PyTorchModel(model_data=estimator.model_data,\n",
    "                     role = role,\n",
    "                     framework_version='0.4.0',\n",
    "                     entry_point='predict.py',\n",
    "                     source_dir='serve',\n",
    "                     predictor_cls=StringPredictor)\n",
    "predictor = model.deploy(initial_instance_count=1, instance_type='ml.m4.xlarge')"
   ]
  },
  {
   "cell_type": "markdown",
   "metadata": {},
   "source": [
    "### Testing the model\n",
    "\n",
    "Now that we have deployed our model with the custom inference code, we should test to see if everything is working. Here we test our model by loading the first `250` positive and negative reviews and send them to the endpoint, then collect the results. The reason for only sending some of the data is that the amount of time it takes for our model to process the input and then perform inference is quite long and so testing the entire data set would be prohibitive."
   ]
  },
  {
   "cell_type": "code",
   "execution_count": null,
   "metadata": {},
   "outputs": [],
   "source": [
    "import glob\n",
    "\n",
    "def test_reviews(data_dir='../data/aclImdb', stop=250):\n",
    "    \n",
    "    results = []\n",
    "    ground = []\n",
    "    \n",
    "    # We make sure to test both positive and negative reviews    \n",
    "    for sentiment in ['pos', 'neg']:\n",
    "        \n",
    "        path = os.path.join(data_dir, 'test', sentiment, '*.txt')\n",
    "        files = glob.glob(path)\n",
    "        \n",
    "        files_read = 0\n",
    "        \n",
    "        print('Starting ', sentiment, ' files')\n",
    "        \n",
    "        # Iterate through the files and send them to the predictor\n",
    "        for f in files:\n",
    "            with open(f) as review:\n",
    "                # First, we store the ground truth (was the review positive or negative)\n",
    "                if sentiment == 'pos':\n",
    "                    ground.append(1)\n",
    "                else:\n",
    "                    ground.append(0)\n",
    "                # Read in the review and convert to 'utf-8' for transmission via HTTP\n",
    "                review_input = review.read().encode('utf-8')\n",
    "                # Send the review to the predictor and store the results\n",
    "                results.append(int(predictor.predict(review_input)))\n",
    "                \n",
    "            # Sending reviews to our endpoint one at a time takes a while so we\n",
    "            # only send a small number of reviews\n",
    "            files_read += 1\n",
    "            if files_read == stop:\n",
    "                break\n",
    "            \n",
    "    return ground, results"
   ]
  },
  {
   "cell_type": "code",
   "execution_count": null,
   "metadata": {},
   "outputs": [],
   "source": [
    "ground, results = test_reviews()"
   ]
  },
  {
   "cell_type": "code",
   "execution_count": null,
   "metadata": {},
   "outputs": [],
   "source": [
    "from sklearn.metrics import accuracy_score\n",
    "accuracy_score(ground, results)"
   ]
  },
  {
   "cell_type": "markdown",
   "metadata": {},
   "source": [
    "As an additional test, we can try sending the `test_review` that we looked at earlier."
   ]
  },
  {
   "cell_type": "code",
   "execution_count": null,
   "metadata": {},
   "outputs": [],
   "source": [
    "predictor.predict(test_review)"
   ]
  },
  {
   "cell_type": "markdown",
   "metadata": {},
   "source": [
    "Now that we know our endpoint is working as expected, we can set up the web page that will interact with it. If you don't have time to finish the project now, make sure to skip down to the end of this notebook and shut down your endpoint. You can deploy it again when you come back."
   ]
  },
  {
   "cell_type": "markdown",
   "metadata": {},
   "source": [
    "## Step 7 (again): Use the model for the web app\n",
    "\n",
    "> **TODO:** This entire section and the next contain tasks for you to complete, mostly using the AWS console.\n",
    "\n",
    "So far we have been accessing our model endpoint by constructing a predictor object which uses the endpoint and then just using the predictor object to perform inference. What if we wanted to create a web app which accessed our model? The way things are set up currently makes that not possible since in order to access a SageMaker endpoint the app would first have to authenticate with AWS using an IAM role which included access to SageMaker endpoints. However, there is an easier way! We just need to use some additional AWS services.\n",
    "\n",
    "<img src=\"Web App Diagram.svg\">\n",
    "\n",
    "The diagram above gives an overview of how the various services will work together. On the far right is the model which we trained above and which is deployed using SageMaker. On the far left is our web app that collects a user's movie review, sends it off and expects a positive or negative sentiment in return.\n",
    "\n",
    "In the middle is where some of the magic happens. We will construct a Lambda function, which you can think of as a straightforward Python function that can be executed whenever a specified event occurs. We will give this function permission to send and recieve data from a SageMaker endpoint.\n",
    "\n",
    "Lastly, the method we will use to execute the Lambda function is a new endpoint that we will create using API Gateway. This endpoint will be a url that listens for data to be sent to it. Once it gets some data it will pass that data on to the Lambda function and then return whatever the Lambda function returns. Essentially it will act as an interface that lets our web app communicate with the Lambda function.\n",
    "\n",
    "### Setting up a Lambda function\n",
    "\n",
    "The first thing we are going to do is set up a Lambda function. This Lambda function will be executed whenever our public API has data sent to it. When it is executed it will receive the data, perform any sort of processing that is required, send the data (the review) to the SageMaker endpoint we've created and then return the result.\n",
    "\n",
    "#### Part A: Create an IAM Role for the Lambda function\n",
    "\n",
    "Since we want the Lambda function to call a SageMaker endpoint, we need to make sure that it has permission to do so. To do this, we will construct a role that we can later give the Lambda function.\n",
    "\n",
    "Using the AWS Console, navigate to the **IAM** page and click on **Roles**. Then, click on **Create role**. Make sure that the **AWS service** is the type of trusted entity selected and choose **Lambda** as the service that will use this role, then click **Next: Permissions**.\n",
    "\n",
    "In the search box type `sagemaker` and select the check box next to the **AmazonSageMakerFullAccess** policy. Then, click on **Next: Review**.\n",
    "\n",
    "Lastly, give this role a name. Make sure you use a name that you will remember later on, for example `LambdaSageMakerRole`. Then, click on **Create role**.\n",
    "\n",
    "#### Part B: Create a Lambda function\n",
    "\n",
    "Now it is time to actually create the Lambda function.\n",
    "\n",
    "Using the AWS Console, navigate to the AWS Lambda page and click on **Create a function**. When you get to the next page, make sure that **Author from scratch** is selected. Now, name your Lambda function, using a name that you will remember later on, for example `sentiment_analysis_func`. Make sure that the **Python 3.6** runtime is selected and then choose the role that you created in the previous part. Then, click on **Create Function**.\n",
    "\n",
    "On the next page you will see some information about the Lambda function you've just created. If you scroll down you should see an editor in which you can write the code that will be executed when your Lambda function is triggered. In our example, we will use the code below. \n",
    "\n",
    "```python\n",
    "# We need to use the low-level library to interact with SageMaker since the SageMaker API\n",
    "# is not available natively through Lambda.\n",
    "import boto3\n",
    "\n",
    "def lambda_handler(event, context):\n",
    "\n",
    "    # The SageMaker runtime is what allows us to invoke the endpoint that we've created.\n",
    "    runtime = boto3.Session().client('sagemaker-runtime')\n",
    "\n",
    "    # Now we use the SageMaker runtime to invoke our endpoint, sending the review we were given\n",
    "    response = runtime.invoke_endpoint(EndpointName = '**ENDPOINT NAME HERE**',    # The name of the endpoint we created\n",
    "                                       ContentType = 'text/plain',                 # The data format that is expected\n",
    "                                       Body = event['body'])                       # The actual review\n",
    "\n",
    "    # The response is an HTTP response whose body contains the result of our inference\n",
    "    result = response['Body'].read().decode('utf-8')\n",
    "\n",
    "    return {\n",
    "        'statusCode' : 200,\n",
    "        'headers' : { 'Content-Type' : 'text/plain', 'Access-Control-Allow-Origin' : '*' },\n",
    "        'body' : result\n",
    "    }\n",
    "```\n",
    "\n",
    "Once you have copy and pasted the code above into the Lambda code editor, replace the `**ENDPOINT NAME HERE**` portion with the name of the endpoint that we deployed earlier. You can determine the name of the endpoint using the code cell below."
   ]
  },
  {
   "cell_type": "code",
   "execution_count": null,
   "metadata": {},
   "outputs": [],
   "source": [
    "predictor.endpoint"
   ]
  },
  {
   "cell_type": "markdown",
   "metadata": {},
   "source": [
    "Once you have added the endpoint name to the Lambda function, click on **Save**. Your Lambda function is now up and running. Next we need to create a way for our web app to execute the Lambda function.\n",
    "\n",
    "### Setting up API Gateway\n",
    "\n",
    "Now that our Lambda function is set up, it is time to create a new API using API Gateway that will trigger the Lambda function we have just created.\n",
    "\n",
    "Using AWS Console, navigate to **Amazon API Gateway** and then click on **Get started**.\n",
    "\n",
    "On the next page, make sure that **New API** is selected and give the new api a name, for example, `sentiment_analysis_api`. Then, click on **Create API**.\n",
    "\n",
    "Now we have created an API, however it doesn't currently do anything. What we want it to do is to trigger the Lambda function that we created earlier.\n",
    "\n",
    "Select the **Actions** dropdown menu and click **Create Method**. A new blank method will be created, select its dropdown menu and select **POST**, then click on the check mark beside it.\n",
    "\n",
    "For the integration point, make sure that **Lambda Function** is selected and click on the **Use Lambda Proxy integration**. This option makes sure that the data that is sent to the API is then sent directly to the Lambda function with no processing. It also means that the return value must be a proper response object as it will also not be processed by API Gateway.\n",
    "\n",
    "Type the name of the Lambda function you created earlier into the **Lambda Function** text entry box and then click on **Save**. Click on **OK** in the pop-up box that then appears, giving permission to API Gateway to invoke the Lambda function you created.\n",
    "\n",
    "The last step in creating the API Gateway is to select the **Actions** dropdown and click on **Deploy API**. You will need to create a new Deployment stage and name it anything you like, for example `prod`.\n",
    "\n",
    "You have now successfully set up a public API to access your SageMaker model. Make sure to copy or write down the URL provided to invoke your newly created public API as this will be needed in the next step. This URL can be found at the top of the page, highlighted in blue next to the text **Invoke URL**."
   ]
  },
  {
   "cell_type": "markdown",
   "metadata": {},
   "source": [
    "## Step 4: Deploying our web app\n",
    "\n",
    "Now that we have a publicly available API, we can start using it in a web app. For our purposes, we have provided a simple static html file which can make use of the public api you created earlier.\n",
    "\n",
    "In the `website` folder there should be a file called `index.html`. Download the file to your computer and open that file up in a text editor of your choice. There should be a line which contains **\\*\\*REPLACE WITH PUBLIC API URL\\*\\***. Replace this string with the url that you wrote down in the last step and then save the file.\n",
    "\n",
    "Now, if you open `index.html` on your local computer, your browser will behave as a local web server and you can use the provided site to interact with your SageMaker model.\n",
    "\n",
    "If you'd like to go further, you can host this html file anywhere you'd like, for example using github or hosting a static site on Amazon's S3. Once you have done this you can share the link with anyone you'd like and have them play with it too!\n",
    "\n",
    "> **Important Note** In order for the web app to communicate with the SageMaker endpoint, the endpoint has to actually be deployed and running. This means that you are paying for it. Make sure that the endpoint is running when you want to use the web app but that you shut it down when you don't need it, otherwise you will end up with a surprisingly large AWS bill.\n",
    "\n",
    "**TODO:** Make sure that you include the edited `index.html` file in your project submission."
   ]
  },
  {
   "cell_type": "markdown",
   "metadata": {},
   "source": [
    "Now that your web app is working, trying playing around with it and see how well it works.\n",
    "\n",
    "**Question**: Give an example of a review that you entered into your web app. What was the predicted sentiment of your example review?"
   ]
  },
  {
   "cell_type": "markdown",
   "metadata": {},
   "source": [
    "**Answer:**"
   ]
  },
  {
   "cell_type": "markdown",
   "metadata": {},
   "source": [
    "### Delete the endpoint\n",
    "\n",
    "Remember to always shut down your endpoint if you are no longer using it. You are charged for the length of time that the endpoint is running so if you forget and leave it on you could end up with an unexpectedly large bill."
   ]
  },
  {
   "cell_type": "code",
   "execution_count": null,
   "metadata": {},
   "outputs": [],
   "source": [
    "predictor.delete_endpoint()"
   ]
  },
  {
   "cell_type": "code",
   "execution_count": null,
   "metadata": {},
   "outputs": [],
   "source": []
  }
 ],
 "metadata": {
  "kernelspec": {
   "display_name": "conda_pytorch_p36",
   "language": "python",
   "name": "conda_pytorch_p36"
  },
  "language_info": {
   "codemirror_mode": {
    "name": "ipython",
    "version": 3
   },
   "file_extension": ".py",
   "mimetype": "text/x-python",
   "name": "python",
   "nbconvert_exporter": "python",
   "pygments_lexer": "ipython3",
   "version": "3.6.10"
  }
 },
 "nbformat": 4,
 "nbformat_minor": 4
}
